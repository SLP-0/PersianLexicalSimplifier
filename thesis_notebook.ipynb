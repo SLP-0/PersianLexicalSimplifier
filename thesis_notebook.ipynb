{
  "cells": [
    {
      "cell_type": "markdown",
      "metadata": {
        "id": "n-jUytSueK9o"
      },
      "source": [
        "# Extracting textual data from miras and wiki making a df of words and their frequencies"
      ]
    },
    {
      "cell_type": "code",
      "execution_count": null,
      "metadata": {
        "id": "kbCu9kdSeI9d"
      },
      "outputs": [],
      "source": [
        "import pandas as pd\n",
        "import re\n",
        "from collections import Counter\n",
        "from hazm import *\n",
        "import math\n",
        "from math import ceil\n",
        "import time\n",
        "\n",
        "start_time = time.time()\n",
        "\n",
        "\"\"\"\n",
        "preprocess step include: 1. Normalizing using Hazm, 2. removing non farsi characters including\n",
        "numerical characters, 3. tokenize using Hazm 4. get lemma using hazm lemmatizer and out put a list of lemmas\n",
        "5. defining a pipline for preprocess that normalize,\n",
        "tokenize, remove non farsi charactersand use hazm token_spacing methode\n",
        "5. two function to actuly prepare the tokens: prepare(text, pipeline) and prepare_data_frame(df)\n",
        "last one output is a df consist of tokens\n",
        "***we keep \\u200c character!\n",
        "\"\"\"\n",
        "\n",
        "normalizer = Normalizer()\n",
        "\n",
        "def remove_non_farsi_char(tokens):\n",
        "    token_list = []\n",
        "    for token in tokens:\n",
        "        token = re.sub('[^\\u200c\\u0621-\\u0628\\u062A-\\u063A\\u0641-\\u0642\\u0644-\\u0648\\u064E-\\u0651\\u0655\\u067E\\u0686\\u0698\\u06A9\\u06AF\\u06BE\\u06CC\\s]', '', token)\n",
        "        if len(token) != 0:\n",
        "            token_list.append(token)\n",
        "    return (token_list)\n",
        "\n",
        "\n",
        "tokenizer = WordTokenizer(replace_links= True, replace_hashtags= True)\n",
        "\n",
        "\n",
        "\n",
        "pipeline = [normalizer.normalize, tokenizer.tokenize,  remove_non_farsi_char,\n",
        "            normalizer.token_spacing,]\n",
        "\n",
        "def prepare(text, pipeline):\n",
        "    tokens = text\n",
        "    for transform in pipeline:\n",
        "        tokens = transform(tokens)\n",
        "    return tokens\n",
        "\n",
        "\n",
        "def prepare_data_frame(df):\n",
        "    # tokens coulmn consist of words\n",
        "    df['tokens'] = df['Text'].apply(prepare, pipeline=pipeline)\n",
        "    return df\n",
        "\n",
        "\n",
        "\"\"\"\n",
        "Labling process:\n",
        "label complexity base on frequency and word length. frequency threshold is 900 and length threshold\n",
        "is 5, any word with frequency less or equall to 900 and with a length of 5 or more consider complex\n",
        "and get 1 rest of the words labeled as 0 means simple\n",
        "\"\"\"\n",
        "\n",
        "def get_label(row, size):\n",
        "    freq_threshold = 900\n",
        "    length_threshold = 5\n",
        "    VC_threshhold = 0.70\n",
        "    # and row.word_length >= length_threshold\n",
        "    if (row.freq <= freq_threshold and row.word_length >= length_threshold and\n",
        "    row.VC > VC_threshhold) :\n",
        "        return 1\n",
        "    else:\n",
        "        return 0\n",
        "\n",
        "\n",
        "\"\"\"\n",
        "Getting frequency  using a counter,\n",
        "also after counting removing characters that consider too or not much frequent we assume that words\n",
        "that are too frequent (maxm = 2000000) are words that are not needed and words that are not too\n",
        "frequent (minm = 100) are words mostly with misspronouncition.\n",
        "So we remove them from dataset1.\n",
        "\"\"\"\n",
        "\n",
        "counter = Counter()\n",
        "useless_words_index_list = []\n",
        "\n",
        "\n",
        "# remove too frequent words, freq>= 2m\n",
        "def prepare_remove_index_list(row):\n",
        "    maxm = 2000000\n",
        "    minm = 100\n",
        "    if (row.freq <= minm) or (row.freq > maxm):\n",
        "        i = row.name\n",
        "        useless_words_index_list.append(i)\n",
        "\n",
        "\n",
        "\n",
        "def prepare_counter(df_name, column=\"tokens\"):\n",
        "    df = pd.read_json(df_name, lines=True)\n",
        "    df = prepare_data_frame(df)\n",
        "\n",
        "\n",
        "    # process tokens and update counter\n",
        "\n",
        "    def update(doc):\n",
        "        tokens = doc\n",
        "        counter.update(tokens)\n",
        "\n",
        "    # create counter and run through all data\n",
        "    df[column].map(update)\n",
        "\n",
        "\"\"\" making necessary dataframes,\n",
        "applying functions to raw data.\n",
        "\"\"\"\n",
        "def count_words(counter):\n",
        "\n",
        "    # transform counter into a new DataFrame AKA freq_df\n",
        "    freq_df = pd.DataFrame.from_dict(counter, orient='index', columns=['freq'])\n",
        "    freq_df = freq_df.sort_values('freq', ascending=False)\n",
        "    # building lentgh and token coulmns:\n",
        "    freq_df = freq_df.reset_index()\n",
        "    freq_df = freq_df.rename(columns={'index': 'word'})\n",
        "    # freq_df['word_length'] = freq_df['word'].apply(len)\n",
        "    # label coulmn\n",
        "    # freq_df.apply(prepare_remove_index_list, axis=1)\n",
        "    # freq_df = freq_df.drop(useless_words_index_list, axis=0)\n",
        "    # freq_df = freq_df.reset_index()\n",
        "    # freq_df['labels'] = freq_df.apply(lambda x: get_label(x, len(freq_df)), axis=1)\n",
        "\n",
        "\n",
        "    return freq_df.sort_values('freq', ascending=False)\n",
        "\n",
        "\n",
        "\"\"\" Running step \"\"\"\n",
        "\n",
        "# file name include files of farsi wikipedia and Miras for example\n",
        "# put in the file names you want to use\n",
        "files_names = []\n",
        "\n",
        "def prepare_file(files, output_name) :\n",
        "    for file in files:\n",
        "        # freq_df, consist of tokens, frequency, lentgh and label as coulmns\n",
        "        prepare_counter(file)\n",
        "\n",
        "    final_df = count_words(counter)\n",
        "    # print(final_df.sample(2))\n",
        "    final_df.to_csv(\n",
        "        output_name, columns=['word', 'freq',]) #'word_length', 'labels'])\n",
        "# change the output name to your liking\n",
        "prepare_file(files_names, 'output.csv')\n",
        "\n",
        "end_time = time.time()\n",
        "\n",
        "processing_time = end_time - start_time\n",
        "\n",
        "print(f\"Processing time: {processing_time:.6f} seconds\")\n"
      ]
    },
    {
      "cell_type": "markdown",
      "metadata": {
        "id": "nGRfcjzjgjlc"
      },
      "source": [
        "# get sentences for random 5k selected words"
      ]
    },
    {
      "cell_type": "code",
      "execution_count": null,
      "metadata": {
        "id": "0f1a2xV1iHIE"
      },
      "outputs": [],
      "source": [
        "import pandas as pd\n",
        "import re\n",
        "from collections import Counter\n",
        "from hazm import *\n",
        "import math\n",
        "from math import ceil\n",
        "import time\n",
        "import datetime\n",
        "import sys\n",
        "import json\n",
        "\n",
        "start_time = time.time()\n",
        "\n",
        "w_tokenizer = WordTokenizer()\n",
        "s_tokenizer = SentenceTokenizer()\n",
        "normalizer = Normalizer()\n",
        "\n",
        "def remove_non_farsi_char(text):\n",
        "\n",
        "      text = re.sub('[^\\u200c\\u0621-\\u0628\\u062A-\\u063A\\u0641-\\u0642\\u0644-\\u0648\\u064E-\\u0651\\u0655\\u067E\\u0686\\u0698\\u06A9\\u06AF\\u06BE\\u06CC\\u06F0-\\u06F9\\u060C\\u061B\\u061F\\u0640\\u066A\\u066B\\u066C:\\!\\.\\n\\s]', '', text)\n",
        "      # regex:u200c + persian_alpha_codepoints + persian_num_codepoints + punctuation_marks_codepoints + \\s\n",
        "      # \\u0020-\\u002F\\u0030-\\u003F\\u0039\\u003A-\\u0040\\u0041-\\u005A\\u005B-\\u0060\\u0061-\\u007A\\u007B-\\u007E\n",
        "      # text = re.sub('[^A-z]', '', text)\n",
        "      # common english punctuation and letters (capital and small)\n",
        "      return text\n",
        "\n",
        "pipeline = [normalizer.normalize, remove_non_farsi_char, s_tokenizer.tokenize]\n",
        "\n",
        "def prepare_words_list():\n",
        "    word_sentence = []\n",
        "    # put in one of the anotated word samples file name to extract the list of words \n",
        "    words = pd.read_csv('p1-sample.csv')\n",
        "    def get_words(row):\n",
        "        word_sentence.append(row.word)\n",
        "    words.apply(get_words, axis=1)\n",
        "    return word_sentence\n",
        "\n",
        "def prepare(text, pipeline):\n",
        "    tokens = text\n",
        "    for transform in pipeline:\n",
        "        tokens = transform(tokens)\n",
        "    return tokens\n",
        "\n",
        "def prepare_data_frame(df):\n",
        "    # tokens coulmn consist of sentences\n",
        "    df['tokens'] = df['Text'].apply(prepare, pipeline=pipeline)\n",
        "    return df\n",
        "\n",
        "\n",
        "def read_file(df_name, column=\"tokens\"):\n",
        "    df = pd.read_json(df_name, lines=True)\n",
        "    df = prepare_data_frame(df)\n",
        "\n",
        "    sent_df = df[['tokens']]\n",
        "\n",
        "    return sent_df\n",
        "\n",
        "# put in the name of chosen 5k sample words\n",
        "with open('5000_words.txt', 'r', encoding='utf8') as f:\n",
        "    json_data = json.load(f)\n",
        "word_sentence = json_data\n",
        "words_dict = {}\n",
        "\n",
        "# fills words_dict with key: sample_word, value: list of senteces containing the word\n",
        "def find_sentence(row):\n",
        "    for sent in row.tokens:\n",
        "        if len(w_tokenizer.tokenize(sent)) < 221:\n",
        "            for word in word_sentence:\n",
        "                if re.search(r'\\b {} \\b'.format(word), sent) != None:\n",
        "                    words_dict[word] = [sent]\n",
        "                    word_sentence.remove(word)\n",
        "\n",
        "# for every file calls find_sentence\n",
        "def get_output(file) :\n",
        "    if len(word_sentence) > 0:\n",
        "        print(len(word_sentence), datetime.datetime.now())\n",
        "        df = read_file(file)\n",
        "        df.apply(find_sentence, axis=1)\n",
        "\n",
        "# file name include files of farsi wikipedia and Miras for example\n",
        "# put in the file names you want to use\n",
        "files_names = []\n",
        "\n",
        "# get_output('test.json', 'sentences_output/test_sents.csv')\n",
        "for file_name in files_names:\n",
        "    get_output('data/' + file_name)\n",
        "# saves the final data into a csv\n",
        "# change the name to your liking\n",
        "final_df = pd.DataFrame.from_dict(words_dict, orient='index', columns=[\"sentences\"]).to_csv('final_words_sentences.csv')\n",
        "end_time = time.time()\n",
        "\n",
        "processing_time = end_time - start_time\n",
        "\n",
        "print(f\"Processing time: {processing_time:.6f} seconds\")\n",
        "\n",
        "# if there's still words left in word_sentence it gets saved in a text file\n",
        "# change the name to your liking\n",
        "with open('remaining_words.txt', 'w', encoding='utf8') as filehandle:\n",
        "    json.dump(word_sentence, filehandle)\n",
        "\n",
        "\n",
        "\n",
        "\n"
      ]
    },
    {
      "cell_type": "markdown",
      "metadata": {
        "id": "0-J5R30_is2F"
      },
      "source": [
        "# using word-freq df in first step, lemmatize and calculate freq for each lemma and then map a list of sentences having target lemma to that lemma\n",
        "final output is save as final_words_sentences.csv\n",
        "\n",
        "also lemma-freq df is saved in lemma_freq.csv"
      ]
    },
    {
      "cell_type": "code",
      "execution_count": null,
      "metadata": {
        "id": "lwdfLuNkkO0i"
      },
      "outputs": [],
      "source": [
        "\n",
        "\n",
        "\n",
        "lemmatizer = Lemmatizer()\n",
        "def get_lemma(csv_file_path):\n",
        "  \"\"\"\n",
        "  input = csv_file_path, the csv must have only 2 coulmns one name word and the other freq\n",
        "  output = a dictionary, key = each word lemmas, value = frequency of that lemma\n",
        "\n",
        "  ** the lemma frequency calculate by considering original word frequency and lemma freq\n",
        "  \"\"\"\n",
        "\n",
        "  result_dict = csv_to_dict(csv_file_path)\n",
        "\n",
        "  lemma_dict = {}\n",
        "  for word in result_dict.keys():\n",
        "    lemma = lemmatizer.lemmatize(word)\n",
        "\n",
        "    lemma_dict[lemma] = lemma_dict.get(lemma, 0) + result_dict[word]\n",
        "\n",
        "  return lemma_dict\n",
        "\n"
      ]
    },
    {
      "cell_type": "code",
      "execution_count": null,
      "metadata": {
        "id": "QwAWDwLOltdT"
      },
      "outputs": [],
      "source": [
        "\"\"\" **prepare 5k random sentences**\n",
        " steps: 1. generate 5k random numbers in range 0, 5,856,193 (total lines we have is 5,856,193 and we want 5k random lines) = random indices\n",
        "        2. find this proportion: the line number(indices) // 100,000 this will give us which document and which line\n",
        "        3. add that line to a df, each row contains one line\n",
        "        4. (preprocess and) tokenize base on sentences, a list of sentences as a coulmn for each row\n",
        "        5. make a list for that final 5k sentences, calculate len of sentences, add untill choosing 5k sentences andadding to that list.\n",
        "\"\"\"\n",
        "# done\n",
        "\n",
        "import random\n",
        "\n",
        "indices = [random.randint(0, 3996090) for _ in range(5000)]\n",
        "\n",
        "print(min(indices), max(indices))\n",
        "\n",
        "\n",
        "useless_words_index_list = []\n",
        "# remove too frequent words, freq>= 2m\n",
        "def prepare_remove_index_list(row):\n",
        "    maxm = 2000000\n",
        "    minm = 100\n",
        "    if (row.freq <= minm) or (row.freq > maxm):\n",
        "        i = row.name\n",
        "        useless_words_index_list.append(i)\n",
        "\n",
        "\n",
        "def get_labeld_df(lemma_dict):\n",
        "\n",
        "  # transform lemma_dict into a new DataFrame AKA freq_df\n",
        "  freq_df = pd.DataFrame.from_dict(lemma_dict, orient='index', columns=['freq'])\n",
        "  # freq_df = freq_df.sort_values(ascending=False)\n",
        "  freq_df = freq_df.reset_index()\n",
        "  freq_df = freq_df.rename(columns={'index': 'word'})\n",
        "  # label coulmn\n",
        "  freq_df.apply(prepare_remove_index_list, axis=1)\n",
        "  freq_df = freq_df.drop(useless_words_index_list, axis=0)\n",
        "  freq_df = freq_df.reset_index()\n",
        "  # freq_df['labels'] = freq_df.apply(lambda x: get_label(x, len(freq_df)), axis=1)\n",
        "\n",
        "  return freq_df\n",
        "\n",
        "\n",
        "\n",
        "def prepare_file(file_path, output_name) :\n",
        "\n",
        "    # freq_df, consist of tokens, frequency, and label as coulmns\n",
        "    lemma_dict = get_lemma(file_path)\n",
        "\n",
        "    final_df = get_labeld_df(lemma_dict)\n",
        "    final_df.to_csv(\n",
        "        output_name, columns=['word', 'freq',]) #'labels'])\n",
        "\n",
        "\n",
        "\n"
      ]
    },
    {
      "cell_type": "code",
      "execution_count": null,
      "metadata": {
        "id": "JE_sx-k0om14"
      },
      "outputs": [],
      "source": [
        "def get_df_lemma_sent(lemmas_list, mega_list):\n",
        "  # mega list is a list of list of sentences like this: mega_list = [[s1, s2,..], [s], [...],...]\n",
        "  lemma_s_dict = {}\n",
        "\n",
        "  for original_lemma in lemmas_list:\n",
        "    lemma = original_lemma.split('#')\n",
        "    if len(lemma) > 1 and lemma[0] == '':\n",
        "      lemma = [lemma[1]]\n",
        "    else:\n",
        "      lemma = lemma\n",
        "\n",
        "    sents_list = []\n",
        "\n",
        "    for l in mega_list:\n",
        "      for sentence in l:\n",
        "        for lem in lemma:\n",
        "          if re.search(r'\\b {} \\b'.format(lem), sentence) != None:\n",
        "          # if lem in sentence:\n",
        "            sents_list.append(sentence)\n",
        "          lemma_s_dict[original_lemma] = [sents_list]\n",
        "          # print(sents_list, original_lemma)\n",
        "\n",
        "  df = pd.DataFrame.from_dict(lemma_s_dict, orient=\"index\", columns=[\"sentences\"])\n",
        "  df.to_csv('save path', idex=False)\n",
        "\n",
        "  return df\n"
      ]
    },
    {
      "cell_type": "markdown",
      "metadata": {
        "id": "Adof6LIymWsR"
      },
      "source": [
        "# complexity features extraction from lemma_freq.csv\n",
        "'''source: morpho_syntactic_features.ipynb'''"
      ]
    },
    {
      "cell_type": "code",
      "execution_count": null,
      "metadata": {
        "id": "PBQy-HkYmdXf"
      },
      "outputs": [],
      "source": [
        "# In this feature set we consider a set of consonats and vowels in farsi in this order:\n",
        "#  its from this source: https://github.com/de-mh/persian_phonemizer/blob/main/dataset/IPA_dicts.py\n",
        "\n",
        "consonants = {\n",
        "\t\"ب\" : \"b\",\n",
        "\t\"پ\" : \"pʰ\",\n",
        "\t\"ت\" : \"tʰ\",\n",
        "\t\"ث\" : \"s\",\n",
        "\t\"ج\" : \"dʒ\",\n",
        "\t\"چ\" : \"tʃʰ\",\n",
        "\t\"ح\" : \"h\",\n",
        "\t\"خ\" : \"x\",\n",
        "\t\"د\" : \"d\",\n",
        "\t\"ذ\" : \"z\",\n",
        "\t\"ر\" : \"ɾ\",\n",
        "\t\"ز\" : \"z\",\n",
        "\t\"ژ\" : \"ʒ\",\n",
        "\t\"س\" : \"s\",\n",
        "\t\"ش\" : \"ʃ\",\n",
        "\t\"ص\" : \"s\",\n",
        "\t\"ض\" : \"z\",\n",
        "\t\"ط\" : \"tʰ\",\n",
        "\t\"ظ\" : \"z\",\n",
        "\t\"ع\" : \"ʔ\",\n",
        "\t\"غ\" : \"q\",\n",
        "\t\"ف\" : \"f\",\n",
        "\t\"ق\" : \"q\",\n",
        "\t\"ک\" : \"kʰ\",\n",
        "\t\"گ\" : \"ɡ\",\n",
        "\t\"ل\" : \"l\",\n",
        "\t\"م\" : \"m\",\n",
        "\t\"ن\" : \"n\",\n",
        "\t\"و\" : \"v\",\n",
        "\t\"ه\" : \"h\",\n",
        "\t\"ی\" : \"j\",\n",
        "\t\"ء\" : \"ʔ\",\n",
        "\t\"ئ\" : \"ʔ\",\n",
        "\t\"ا\" : \"ʔ\",\n",
        "\t\"آ\" : \"ʔɒː\"\n",
        "}\n",
        "\n",
        "\n",
        "vowels = {\n",
        "\t\"َ\" : \"æ\",\n",
        "\t\"ِ\" : \"e\",\n",
        "\t\"ُ\" : \"o\",\n",
        "\t\"آ\" : \"ɒː\",\n",
        "\t\"ا\" : \"ɒː\",\n",
        "\t\"ی\" : \"iː\",\n",
        "\t\"و\" : \"uː\",\n",
        "\t\"ْ\" : \"\"\n",
        "}\n",
        "\n",
        "\n",
        "consonants_ipa = ['b', 'd', 'dʒ', 'f', 'h', 'j', 'kʰ', 'l', 'm', 'n', 'pʰ', 'q', 's', 'tʃʰ', 'tʰ', 'v', 'x', 'z', 'ɡ', 'ɾ', 'ʃ', 'ʒ', 'ʔ']\n",
        "vowels_ipa = ['æ', 'e', 'o', 'ɒː', 'iː', 'uː']"
      ]
    },
    {
      "cell_type": "code",
      "execution_count": null,
      "metadata": {
        "id": "sflJcNM8phLt"
      },
      "outputs": [],
      "source": [
        "def get_LenChar(row):\n",
        "  \"\"\"\n",
        "  input: df row\n",
        "  output: mean lemma length\n",
        "  \"\"\"\n",
        "  lemma = row['word']\n",
        "  lemmas = lemma.split('#')\n",
        "  lemma_length = 0\n",
        "\n",
        "  for lemma in lemmas:\n",
        "    lemma_length = len(lemma) + lemma_length\n",
        "\n",
        "  output = lemma_length / len(lemmas)\n",
        "  return round(output, 2)\n",
        "\n",
        "\n",
        "def get_NumSyl(row,):\n",
        "  \"\"\"\n",
        "  input: df row, a list of specified vowels which in farsi we consider vowels_ipa = ['æ', 'e', 'o', 'ɒː', 'ɒː', 'iː', 'uː', '']\n",
        "  output: number of vowels ocured in lemma  AKA number of sylables\n",
        "  \"\"\"\n",
        "  vowels_list = ['æ', 'e', 'o', 'ɒː', 'iː', 'uː']\n",
        "\n",
        "  phonemized_list = row['phonemize_lemma']\n",
        "  if len(phonemized_list) == 0:\n",
        "    return 0\n",
        "  vowels_count = 0\n",
        "\n",
        "  for phonemized in phonemized_list:\n",
        "    phonemized_word = phonemized\n",
        "    for vowel in vowels_list:\n",
        "      vowels_count = phonemized_word.count(vowel) + vowels_count\n",
        "\n",
        "  return round(vowels_count/len(phonemized_list), 2)\n",
        "\n",
        "def get_consonants_count(row,):\n",
        "  \"\"\"\n",
        "  \"\"\"\n",
        "  consonants_list = ['b', 'd', 'dʒ', 'f', 'h', 'j', 'kʰ', 'l', 'm', 'n', 'pʰ', 'q', 's', 'tʃʰ', 'tʰ', 'v', 'x', 'z', 'ɡ', 'ɾ', 'ʃ', 'ʒ', 'ʔ']\n",
        "\n",
        "  phonemized_list = row['phonemize_lemma']\n",
        "  if len(phonemized_list) == 0:\n",
        "    return 0\n",
        "\n",
        "  consonants_count = 0\n",
        "\n",
        "  for phonemized in phonemized_list:\n",
        "    phonemized_word = phonemized\n",
        "    for consonant in consonants_list:\n",
        "      consonants_count = phonemized_word.count(consonant) + consonants_count\n",
        "  return round(consonants_count/len(phonemized_list), 2)\n",
        "\n",
        "def get_VowConRatio(row,):\n",
        "  \"\"\"\n",
        "  input: row\n",
        "  output: vowel/consonant ratioa in a lemma\n",
        "  \"\"\"\n",
        "  consonants_list = ['b', 'd', 'dʒ', 'f', 'h', 'j', 'kʰ', 'l', 'm', 'n', 'pʰ', 'q', 's', 'tʃʰ', 'tʰ', 'v', 'x', 'z', 'ɡ', 'ɾ', 'ʃ', 'ʒ', 'ʔ']\n",
        "  vowels_list = ['æ', 'e', 'o', 'ɒː', 'iː', 'uː']\n",
        "\n",
        "  phonemized = row['phonemize_lemma']\n",
        "\n",
        "  vowels_count = row['NumSyl']\n",
        "  consonants_count = row['consonants_count']\n",
        "  if consonants_count == 0:\n",
        "    return 0\n",
        "\n",
        "  ratio = vowels_count/consonants_count\n",
        "\n",
        "  return round(ratio, 2)\n",
        "\n"
      ]
    },
    {
      "cell_type": "code",
      "execution_count": null,
      "metadata": {
        "id": "V8WDZyaRpwFf"
      },
      "outputs": [],
      "source": [
        "lemma_df = pd.read_csv('path to lemma csv file saved earlier',\n",
        "                            usecols=['word'])\n",
        "\n",
        "def get_phonemize_lemma(row):\n",
        "    lemmas = row['word'].split('#')\n",
        "    phonemized_lemmas = []\n",
        "    for lemma in lemmas:\n",
        "      try:\n",
        "        result = phonemizer.phonemize(lemma)\n",
        "        phonemized_lemmas.append(result)\n",
        "      except:\n",
        "        print(lemma)\n",
        "    return phonemized_lemmas\n",
        "\n",
        "\n",
        "lemma_df['phonemize_lemma'] = lemma_df.apply(get_phonemize_lemma, axis=1)\n",
        "\n",
        "lemma_df['LenChar'] = lemma_df.apply(get_LenChar, axis=1)\n",
        "lemma_df['NumSyl'] = lemma_df.apply(get_NumSyl, axis=1)\n",
        "lemma_df['consonants_count'] = lemma_df.apply(get_consonants_count, axis=1)\n",
        "lemma_df['VowConRatio'] = lemma_df.apply(get_VowConRatio, axis=1)\n",
        "lemma_df\n",
        "\n",
        "\"\"\"\n",
        "\n",
        " \tword \tphonemize_lemma \tLenChar \tNumSyl \tconsonants_count \tVowConRatio\n",
        "\n",
        "0 \tداد \t[dɒːd] \t3.0 \t1.0 \t2.0 \t0.50\n",
        "1 \tهزار \t[hezɒːɾ] \t4.0 \t2.0 \t3.0 \t0.67\n",
        "2 \tعنوان \t[ʔonuːɒːn] \t5.0 \t3.0 \t3.0 \t1.00\n",
        "3 \tکند \t[kʰond] \t3.0 \t1.0 \t3.0 \t0.33\n",
        "4 \tمردم \t[mæɾdom] \t4.0 \t2.0 \t4.0 \t0.50\n",
        "... \t... \t... \t... \t... \t... \t...\n",
        "80622 \tرگبرگ \t[ɾæbɡæɾɡ] \t5.0 \t2.0 \t5.0 \t0.40\n",
        "80623 \tپاگشا \t[pʰɒːɡoʃɒː] \t5.0 \t3.0 \t3.0 \t1.00\n",
        "80624 \tشایعه‌پرداز \t[ʃɒːjæʔæædʒɒːzdd] \t11.0 \t5.0 \t9.0 \t0.56\n",
        "80625 \tباوراند#باوران \t[bɒːvæɾɒːnd, bɒːvæɾɒːn] \t6.5 \t3.0 \t4.5 \t0.67\n",
        "80626 \tدولت‌گرا \t[dovletʰɡoɾɒːɾ] \t8.0 \t4.0 \t7.0 \t0.57\n",
        "\n",
        "\n",
        "\"\"\""
      ]
    },
    {
      "cell_type": "markdown",
      "metadata": {
        "id": "9gOsO12DqNpD"
      },
      "source": []
    },
    {
      "cell_type": "code",
      "execution_count": null,
      "metadata": {
        "id": "RRGdFWQpqqHS"
      },
      "outputs": [],
      "source": [
        "# concat with freq-lemma ds\n",
        "result = pd.concat([lemma_freq_df, lemma_df['LenChar'], lemma_df['VowConRatio'], lemma_df['phonemize_lemma']], axis=1)\n",
        "\n",
        "\"\"\"\n",
        "word \tfreq \tLenChar \tVowConRatio \tphonemize_lemma\n",
        "0 \tداد \t1961610 \t3.0 \t0.50 \t[dɒːd]\n",
        "1 \tهزار \t1990168 \t4.0 \t0.67 \t[hezɒːɾ]\n",
        "2 \tعنوان \t1927106 \t5.0 \t1.00 \t[ʔonuːɒːn]\n",
        "3 \tکند \t1913349 \t3.0 \t0.33 \t[kʰond]\n",
        "4 \tمردم \t1846398 \t4.0 \t0.50 \t[mæɾdom]\n",
        "... \t... \t... \t... \t... \t...\n",
        "80622 \tرگبرگ \t131 \t5.0 \t0.40 \t[ɾæbɡæɾɡ]\n",
        "80623 \tپاگشا \t118 \t5.0 \t1.00 \t[pʰɒːɡoʃɒː]\n",
        "80624 \tشایعه‌پرداز \t107 \t11.0 \t0.56 \t[ʃɒːjæʔæædʒɒːzdd]\n",
        "80625 \tباوراند#باوران \t185 \t6.5 \t0.67 \t[bɒːvæɾɒːnd, bɒːvæɾɒːn]\n",
        "80626 \tدولت‌گرا \t102 \t8.0 \t0.57 \t[dovletʰɡoɾɒːɾ]\n",
        "\"\"\""
      ]
    },
    {
      "cell_type": "markdown",
      "metadata": {
        "id": "vlP1FYpptiFa"
      },
      "source": [
        "# labling\n",
        "''' source: labling.ipynb'''"
      ]
    },
    {
      "cell_type": "code",
      "execution_count": null,
      "metadata": {
        "id": "7KRD5Cuotk6J"
      },
      "outputs": [],
      "source": [
        "\"\"\"\n",
        "Labling process:\n",
        "label complexity base on frequency and word length. frequency threshold is 900 and length threshold\n",
        "is 5, any word with frequency less or equall to 900 and with a length of 5 or more consider complex\n",
        "and get 1 rest of the words labeled as 0 means simple\n",
        "\"\"\"\n",
        "\n",
        "def get_label(row):\n",
        "    freq_threshold = 900\n",
        "    length_threshold = 5\n",
        "    VC_threshhold = 0.67\n",
        "    if (row.freq <= freq_threshold and row.LenChar >= length_threshold and\n",
        "    row.VowConRatio < VC_threshhold) :\n",
        "        return 1\n",
        "    else:\n",
        "        return 0\n",
        "\n",
        "df['label'] = df.apply(get_label, axis=1)\n",
        "\n"
      ]
    },
    {
      "cell_type": "code",
      "execution_count": null,
      "metadata": {
        "id": "qXt5DL3kuTuO"
      },
      "outputs": [],
      "source": [
        "# extract 6k words from ds (containg 80626 words) with label == 1\n",
        "lemma_1 = df[df[\"label\"] == 1]\n",
        "sample_1 = lemma_1.sample(6000)\n",
        "\n",
        "lemma_0 = df.loc[df[\"label\"] == 0]\n",
        "sample_0 = lemma_0.sample(6000)\n",
        "\n",
        "# after this, manualy I cleaned data (meaningless, missspeled) for both of them and then concat to form a 5k list of words\n"
      ]
    },
    {
      "cell_type": "markdown",
      "metadata": {
        "id": "e9Cs-eNAvwX2"
      },
      "source": [
        "# 1. majority voting 2. Analysing manual labeled 5k words and automaticly labled 3. get complexity percentage 4. extracting sentencefrom list of sentences for each of 5k words (that where extracted before) 5. finding end and start index of each word in sentence\n",
        "''' sorce: data_analysis.ipynb '''\n",
        "\n",
        "\n",
        "'''lemma sents are from final_words_sentences.csv'''"
      ]
    },
    {
      "cell_type": "markdown",
      "metadata": {
        "id": "yYt1dlby0qQq"
      },
      "source": [
        "majority voting"
      ]
    },
    {
      "cell_type": "code",
      "execution_count": null,
      "metadata": {
        "id": "EthATBt9xEch"
      },
      "outputs": [],
      "source": [
        "# merge\n",
        "merge_df = pd.DataFrame()\n",
        "\n",
        "merge_df['word']= doc1_df['word']\n",
        "\n",
        "merge_df['p1'] = doc1_df['label']\n",
        "merge_df['p2'] = doc2_df['label']\n",
        "merge_df['p3'] = doc3_df['label']\n",
        "merge_df['p4'] = doc4_df['label']\n",
        "merge_df['p5'] = doc5_df['label']\n",
        "\n",
        "merge_df\n",
        "\n",
        "\"\"\"\n",
        "\n",
        " \tword \tp1 \tp2 \tp3 \tp4 \tp5\n",
        "0 \tنژادپرستانه \t1 \t0 \t1 \t0 \t0\n",
        "1 \tحالشون \t0 \t0 \t0 \t1 \t0\n",
        "2 \tلرزه‌نگاری \t1 \t1 \t1 \t0 \t1\n",
        "3 \tلپ \t0 \t0 \t0 \t1 \t0\n",
        "4 \tتقبیح \t1 \t0 \t1 \t1 \t1\n",
        "... \t... \t... \t... \t... \t... \t...\n",
        "4995 \tروزمزد \t0 \t0 \t1 \t0 \t0\n",
        "4996 \tفرشتگانی \t0 \t0 \t0 \t0 \t0\n",
        "4997 \tشدهبود \t0 \t1 \t0 \t1 \t1\n",
        "4998 \tاستطلاع \t1 \t1 \t1 \t1 \t1\n",
        "4999 \tسید \t0 \t1 \t0 \t0 \t0\n",
        "\n",
        "\"\"\"\n",
        "merge_df['majority'] = merge_df.mode(axis=1, numeric_only=True)\n",
        "\n",
        "\"\"\"\n",
        "\n",
        " \tword \tp1 \tp2 \tp3 \tp4 \tp5 \tmajority\n",
        "0 \tنژادپرستانه \t1 \t0 \t1 \t0 \t0 \t0\n",
        "1 \tحالشون \t0 \t0 \t0 \t1 \t0 \t0\n",
        "2 \tلرزه‌نگاری \t1 \t1 \t1 \t0 \t1 \t1\n",
        "3 \tلپ \t0 \t0 \t0 \t1 \t0 \t0\n",
        "4 \tتقبیح \t1 \t0 \t1 \t1 \t1 \t1\n",
        "... \t... \t... \t... \t... \t... \t... \t...\n",
        "4995 \tروزمزد \t0 \t0 \t1 \t0 \t0 \t0\n",
        "4996 \tفرشتگانی \t0 \t0 \t0 \t0 \t0 \t0\n",
        "4997 \tشدهبود \t0 \t1 \t0 \t1 \t1 \t1\n",
        "4998 \tاستطلاع \t1 \t1 \t1 \t1 \t1 \t1\n",
        "4999 \tسید \t0 \t1 \t0 \t0 \t0 \t0\n",
        "\n",
        "5000 rows × 7 columns\n",
        "\n",
        "\n",
        "\"\"\""
      ]
    },
    {
      "cell_type": "markdown",
      "metadata": {
        "id": "I7iJnvZj0oVl"
      },
      "source": [
        "Analysing"
      ]
    },
    {
      "cell_type": "code",
      "execution_count": null,
      "metadata": {
        "id": "5UcKuuwbuuwR"
      },
      "outputs": [],
      "source": [
        "def get_predicted_df(words_list):\n",
        "  \"\"\"\n",
        "  input: words list contains 5k words\n",
        "  output: a df of chosen words AKA the same with 5k words consist of automated labels\n",
        "  \"\"\"\n",
        "  df = pd.DataFrame()\n",
        "  for word in words_list:\n",
        "    new_row = original_doc_df.loc[original_doc_df['word'] == word]\n",
        "    df = pd.concat([df, new_row], ignore_index=True)\n",
        "\n",
        "  return df\n",
        "\n",
        "predicted_df = get_predicted_df(words)\n",
        "\n",
        "def get_actual_labels(doc_path, label_coulmn_name):\n",
        "  doc_df =  pd.read_csv(doc_path)\n",
        "  actual_labels = doc_df[label_coulmn_name]\n",
        "  return actual_labels\n",
        "\n"
      ]
    },
    {
      "cell_type": "code",
      "execution_count": null,
      "metadata": {
        "id": "4tg1hRXKwclv"
      },
      "outputs": [],
      "source": [
        "def get_metrics(actual, predicted):\n",
        "  Accuracy = round(metrics.accuracy_score(actual, predicted),2)\n",
        "  Precision = round(metrics.precision_score(actual, predicted),2)\n",
        "  Sensitivity_recall = round(metrics.recall_score(actual, predicted),2)\n",
        "  F1_score = round(metrics.f1_score(actual, predicted),2)\n",
        "\n",
        "  return {\"Accuracy\":Accuracy,\"Precision\":Precision,\"Sensitivity_recall\":Sensitivity_recall,\"F1_score\":F1_score}\n",
        "doc1_metrics = get_metrics(actual_labels_doc1, predicted_labels)\n",
        "doc1_metrics\n",
        "def get_confusion_mx (actual, predicted):\n",
        "  confusion_matrix = metrics.confusion_matrix(actual, predicted)\n",
        "  cm_display = metrics.ConfusionMatrixDisplay(confusion_matrix = confusion_matrix, display_labels = [False, True])\n",
        "  cm_display.plot()\n",
        "\n",
        "  return plt.show()\n",
        "\n",
        "majority_doc_conf_mx = get_confusion_mx(actual_labels_majority, predicted_labels)\n",
        "majority_metrics = get_metrics(actual_labels_majority, predicted_labels)\n",
        "\n",
        "doc1_conf_mx\n",
        "# {'Accuracy': 0.54, 'Precision': 0.28, 'Sensitivity_recall': 0.45, 'F1_score': 0.35}"
      ]
    },
    {
      "cell_type": "markdown",
      "metadata": {
        "id": "TSymvJBFwhT_"
      },
      "source": [
        "![image.png](data:image/png;base64,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)"
      ]
    },
    {
      "cell_type": "code",
      "execution_count": null,
      "metadata": {
        "id": "R_k_2u1cwn_U"
      },
      "outputs": [],
      "source": [
        "# calculate percentage\n",
        "def get_complex_percentage(row, participants_count):\n",
        "  numerator = 0\n",
        "\n",
        "  for i in range (participants_count):\n",
        "    coulmn_name = 'p' + str(i + 1)\n",
        "    if row[coulmn_name] == 1:\n",
        "      numerator = numerator + 1\n",
        "\n",
        "  output = round((numerator / participants_count) * 100, 2)\n",
        "  return output\n",
        "\n",
        "\n",
        "df['complex_percentage'] = df.apply(get_complex_percentage, participants_count=5, axis=1)\n",
        "\n",
        "\"\"\"\n",
        "\n",
        " \tword \tp1 \tp2 \tp3 \tp4 \tp5 \tmajority \tcomplex_percentage\n",
        "0 \tنژادپرستانه \t1 \t0 \t1 \t0 \t0 \t0 \t40.0\n",
        "1 \tحالشون \t0 \t0 \t0 \t1 \t0 \t0 \t20.0\n",
        "2 \tلرزه‌نگاری \t1 \t1 \t1 \t0 \t1 \t1 \t80.0\n",
        "3 \tلپ \t0 \t0 \t0 \t1 \t0 \t0 \t20.0\n",
        "4 \tتقبیح \t1 \t0 \t1 \t1 \t1 \t1 \t80.0\n",
        "... \t... \t... \t... \t... \t... \t... \t... \t...\n",
        "4995 \tروزمزد \t0 \t0 \t1 \t0 \t0 \t0 \t20.0\n",
        "4996 \tفرشتگانی \t0 \t0 \t0 \t0 \t0 \t0 \t0.0\n",
        "4997 \tشدهبود \t0 \t1 \t0 \t1 \t1 \t1 \t60.0\n",
        "4998 \tاستطلاع \t1 \t1 \t1 \t1 \t1 \t1 \t100.0\n",
        "4999 \tسید \t0 \t1 \t0 \t0 \t0 \t0 \t20.0\n",
        "\n",
        "\n",
        "\"\"\""
      ]
    },
    {
      "cell_type": "markdown",
      "metadata": {
        "id": "6_OSVr13Hk0b"
      },
      "source": [
        "\n",
        "adding a sentence containing the lemma. for each lemma."
      ]
    },
    {
      "cell_type": "code",
      "execution_count": null,
      "metadata": {
        "id": "NXdcN6jgy0oh"
      },
      "outputs": [],
      "source": [
        "word_sents_df = pd.read_csv(word_sents_path)\n",
        "\n",
        "\"\"\"\n",
        "\n",
        "word \tsentences\n",
        "0 \tسطح \tخصوصیات وینیولا ۲۲ کیلومترمربع مساحت و ۲۵، ۰۸۴...\n",
        "1 \tواقع \tوینیولا به ایتالیایی: یک کومونه در ایتالیا اس...\n",
        "2 \tسن \tاما ابراهیم علیپور، یکی دیگر از پا به سن گذاشت...\n",
        "3 \tبزرگ \tکنوود هاوس یک خانه بزرگ در شمال غربی لندن است...\n",
        "4 \tموزه \tنقاشان صاحب اثر در باغ موزه، یوهانس فرمیر، رام...\n",
        "... \t... \t...\n",
        "4995 \tپرسید \tوقتی خدا بازگشت، آدم و زن پنهان شدند زیرا می‌د...\n",
        "4996 \tبانگید#بانگ \tآنکه به شکار رفته بود هیاج بن عبدالرحمن ازدی ب...\n",
        "4997 \tخوابید#خواب \tروزنامه‌نگاری که تسلا با او دوست شده بود، تأیی...\n",
        "4998 \tپاگشا \tپاگشا مراسمی است که اقوام عروس و داماد در ایرا...\n",
        "4999 \tاما خرده گیران چپ بر او شوریدند که چرا این فیل... \tاما خرده گیران چپ بر او شوریدند که چرا این فیل...\n",
        "\n",
        "\n",
        "\"\"\""
      ]
    },
    {
      "cell_type": "code",
      "execution_count": null,
      "metadata": {
        "id": "kGKLRfrlzEYB"
      },
      "outputs": [],
      "source": [
        "def get_ds(sent_df, words, label_df):\n",
        "  ds = pd.DataFrame()\n",
        "  for word in words:\n",
        "    selected_row = sent_df.loc[sent_df['word'] == word ]\n",
        "    ds = pd.concat([ds, selected_row], ignore_index=True )\n",
        "\n",
        "  return ds\n",
        "\n",
        "gold_ds = get_ds(word_sents_df, word_list, words_label_prob_df)\n",
        "selected_coulmns = words_label_prob_df[['majority', 'complex_percentage']]\n",
        "gold_ds = gold_ds.join(selected_coulmns)\n",
        "\n",
        "\"\"\"\n",
        "\n",
        " \tword \tsentences \tmajority \tcomplex_percentage\n",
        "0 \tنژادپرستانه \tمصاحبه فیلم لغو شده اکشن کمدی ساخته کشور آمریک... \t0 \t40\n",
        "1 \tحالشون \tخوبه از بچه‌ها بخوام بهم کمک کنند آخه اونا هم ... \t0 \t20\n",
        "2 \tلرزه‌نگاری \tپیمان منع جامع آزمایش‌های هسته‌ای در ۲۰ شهریور... \t1 \t80\n",
        "3 \tلپ \tمرداب آب بندان لپو زاغمرز در نزدیکی دریای خزر،... \t0 \t20\n",
        "4 \tتقبیح \tسید علی غیوری زاده ۱۳۰۹، درگذشت ۲۷ آذر ۱۳۹۳ نم... \t1 \t80\n",
        "... \t... \t... \t... \t...\n",
        "4991 \tروزمزد \tرضا عطارپور مجرد رضا عطارپور مجرد نام مستعار: ... \t0 \t20\n",
        "4992 \tفرشتگانی \tبراساس احادیث اسلامی، عذاب قبر یا عذاب برزخ سخ... \t0 \t0\n",
        "4993 \tشدهبود \tتفریحات لوکس اما رایگان می‌م و پ، یکی از زوجها... \t0 \t0\n",
        "4994 \tاستطلاع \tفلا تنس هذه النصیح السبت ۱۷ ینایر ۲۰۱۵ ۱۰:۰۷... \t0 \t20\n",
        "4995 \tسید \tکمال‌الدین حسین الحسینی معروف به اخلاطی بن علی... \t0 \t20\n",
        "\n",
        "\n",
        "\"\"\""
      ]
    },
    {
      "cell_type": "markdown",
      "metadata": {
        "id": "-midbLmZzVWW"
      },
      "source": [
        "finding end and start index of each word in sentence"
      ]
    },
    {
      "cell_type": "code",
      "execution_count": null,
      "metadata": {
        "id": "7AXQmhhgzgOJ"
      },
      "outputs": [],
      "source": [
        "def get_indc(row):\n",
        "  sent = row['sentences']\n",
        "  word = row['word']\n",
        "  indc_list = (0,0)\n",
        "  if '#' not in word:\n",
        "    try:\n",
        "      indc_list = [sent.index(word), sent.index(word)+len(word)-1]\n",
        "    except:\n",
        "      print(word)\n",
        "  else:\n",
        "    for w in word.split('#'):\n",
        "      match = re.search(r'\\b({})\\b'.format(w), sent)\n",
        "      if match:\n",
        "        indc_list = (match.start(), match.end())\n",
        "\n",
        "  return indc_list\n",
        "\n",
        "coulmns = gold_ds.apply(get_indc, axis = 1, result_type ='expand')\n",
        "selected_coulmns = coulmns[[0, 1]]\n",
        "gold_ds = gold_ds.join(selected_coulmns)\n",
        "\n",
        "gold_ds = gold_ds.rename(columns={0: \"str_idx\", 1: \"end_idx\"})\n",
        "\n",
        "\"\"\"\n",
        "\n",
        "word \tsentences \tmajority \tcomplex_percentage \tstr_idx \tend_idx\n",
        "0 \tنژادپرستانه \tمصاحبه فیلم لغو شده اکشن کمدی ساخته کشور آمریک... \t0 \t40 \t2777 \t2787\n",
        "1 \tحالشون \tخوبه از بچه‌ها بخوام بهم کمک کنند آخه اونا هم ... \t0 \t20 \t46 \t51\n",
        "2 \tلرزه‌نگاری \tپیمان منع جامع آزمایش‌های هسته‌ای در ۲۰ شهریور... \t1 \t80 \t397 \t406\n",
        "3 \tلپ \tمرداب آب بندان لپو زاغمرز در نزدیکی دریای خزر،... \t0 \t20 \t15 \t16\n",
        "4 \tتقبیح \tسید علی غیوری زاده ۱۳۰۹، درگذشت ۲۷ آذر ۱۳۹۳ نم... \t1 \t80 \t3843 \t3847\n",
        "... \t... \t... \t... \t... \t... \t...\n",
        "4991 \tروزمزد \tرضا عطارپور مجرد رضا عطارپور مجرد نام مستعار: ... \t0 \t20 \t206 \t211\n",
        "4992 \tفرشتگانی \tبراساس احادیث اسلامی، عذاب قبر یا عذاب برزخ سخ... \t0 \t0 \t1532 \t1539\n",
        "4993 \tشدهبود \tتفریحات لوکس اما رایگان می‌م و پ، یکی از زوجها... \t0 \t0 \t3365 \t3370\n",
        "4994 \tاستطلاع \tفلا تنس هذه النصیح السبت ۱۷ ینایر ۲۰۱۵ ۱۰:۰۷... \t0 \t20 \t183 \t189\n",
        "4995 \tسید \tکمال‌الدین حسین الحسینی معروف به اخلاطی بن علی... \t0 \t20 \t658 \t660\n",
        "\n",
        "\n",
        "\"\"\""
      ]
    },
    {
      "cell_type": "markdown",
      "metadata": {
        "id": "AqNzku5l2wrH"
      },
      "source": [
        "# CWI"
      ]
    },
    {
      "cell_type": "markdown",
      "metadata": {
        "id": "tqTuJkPK3r2F"
      },
      "source": [
        "# Prepare Data: tokenize  phrases (for each word) and label target words: 1 and other 0"
      ]
    },
    {
      "cell_type": "code",
      "execution_count": null,
      "metadata": {
        "id": "24vc6ZmQ2wDa"
      },
      "outputs": [],
      "source": [
        "# path to gold_ds dataset created earlier\n",
        "MAIN_PATH_DATASET = '/content/drive/MyDrive/recourses/ds/modified_ds.csv'\n",
        "columns = ['target', 'sentence', \"binary\", \"prob\", \"start\", \"end\"]\n",
        "\n",
        "def load_df(path):\n",
        "    df = pd.read_csv(path,)\n",
        "    df.columns = columns\n",
        "    return df\n",
        "\n",
        "dataset = load_df(MAIN_PATH_DATASET)\n",
        "\n",
        "# extract 50 sentences randomly for furher evaluation using SARI\n",
        "\n",
        "random_samples= dataset.sample(n=50, random_state=42)\n",
        "random_samples.to_csv('/content/drive/MyDrive/SARI_samples.csv', index=False)\n",
        "\n",
        "# dataset:\n",
        "\"\"\"\n",
        "\n",
        " \ttarget \tsentence \tbinary \tprob \tstart \tend\n",
        "0 \tاحتراق \tسوخت مایع مولکول‌های قابل احتراق یا تولیدکنند... \t0 \t40 \t27 \t32\n",
        "1 \tنقل \tسوخت‌های مایع در مجموع نقش مهمی در حوزه‌های حم... \t0 \t20 \t50 \t52\n",
        "2 \tبزرگ \tجایزه بزرگ ژاپن یکی از مسابقات قهرمانی جهان فر... \t1 \t80 \t6 \t9\n",
        "3 \tبرنامه \tسومین مسابقه قرار بود در آوریل ۱۹۷۸ برگزار شود... \t0 \t20 \t67 \t72\n",
        "4 \tتمام \tاین مسابقه با پیروزی ریکاردو پاترسه تمام شد. \t1 \t80 \t36 \t39\n",
        "... \t... \t... \t... \t... \t... \t...\n",
        "4995 \tکانی‌شناس \tفرانتسیوزف مولر فون رایشنشتین، زاده ۱ ژوئیه ۱۷... \t0 \t20 \t96 \t104\n",
        "4996 \tسنگ‌شناس \tهمه گوته آلمانی را بیش‌تر به‌عنوان شاعر می‌شنا... \t0 \t0 \t69 \t76\n",
        "4997 \tخواهیدآورد \tاگر توانایی انجام خدماتی را برای سایر کسب و کا... \t1 \t60 \t351 \t360\n",
        "4998 \tمونوکلینیک \tسیلیکات با از مجموعه کانی هاست و سفید محلول در... \t1 \t100 \t267 \t276\n",
        "4999 \tراه‌نما \tعلم مواد معمولا ویژگی‌های شیمیایی یک ماده را ب... \t0 \t20 \t57 \t63\n",
        "\n",
        "\n",
        "\n",
        "\"\"\"\n",
        "\n",
        "tokenizer = WordTokenizer()\n",
        "\n",
        "def get_max_len(row):\n",
        "  seq = row['sentence']\n",
        "  output = len(tokenizer.tokenize(seq))\n",
        "  print(tokenizer.tokenize(seq))\n",
        "  return output\n",
        "\n",
        "dataset['seq_length'] = dataset.apply(get_max_len, axis=1)\n",
        "dataset['seq_length'].max()\n",
        "\n",
        "normalizer = Normalizer()\n",
        "tokenizer = WordTokenizer(join_verb_parts=False)\n",
        "\n",
        "#  identifying and categorizing punctuation characters. as tbl for a dictionary\n",
        "tbl = dict.fromkeys(i for i in range(sys.maxunicode)\n",
        "                      if unicodedata.category(chr(i)).startswith('P'))\n",
        "\n",
        "def remove_punctuation(text):\n",
        "    return text.translate(tbl)\n",
        "\n",
        "def all_tokens_with_index(context):\n",
        "  \"\"\"\n",
        "  return tokens of context + its index (in context) + token current position in context\n",
        "  \"\"\"\n",
        "  targets = []\n",
        "  # normalize, no repetetive white space\n",
        "  context = normalizer.normalize(context)\n",
        "  context = normalizer.correct_spacing(context)\n",
        "  # tokenize\n",
        "  tokens = tokenizer.tokenize(context)\n",
        "  for index, token in enumerate(tokens, 1):\n",
        "    match = re.search(r'\\b({})\\b'.format(re.escape(token)), context)\n",
        "\n",
        "    if match != None:\n",
        "      curr_pos = match.start()\n",
        "      end_pos = match.end()\n",
        "    else:\n",
        "      curr_pos = context.index(token)\n",
        "      end_pos = context.index(token) + len(token)\n",
        "\n",
        "    targets.append((token, index, curr_pos, end_pos))\n",
        "\n",
        "  return [val for val in targets if val[0] != '\"']\n",
        "\n",
        "  def forward_transformation(dataframe, filter_punc = True,):\n",
        "  \"\"\"\n",
        "  input: dataframe\n",
        "  process: preprocess context: , remove_punct, tokenize and index using prior function\n",
        "  output: a list of a  dictionary. key: sentence, seq. value:'sent', [(prob, bibnary, end, start, token),...,()], list name is sentences\n",
        "  ***** consider that this methode is making a list of unique sentences so the length might be differnt but if n sentences were same it would merge and as tag bring n target words, like this: 'tags': [('بدهکار', 19729, 19734, 1, 80), ('برآمده', 5698, 5703, 0, 40)]\n",
        "\n",
        "  \"\"\"\n",
        "  grouped = dataframe.groupby('sentence').apply(lambda row :\n",
        "                      {\n",
        "                        'sentence' : list(set(row['sentence']))[0],\n",
        "                        'tags': [tag for tag in zip(row['target'],\n",
        "                          row['start'], row['end'], row['binary'], row['prob'])]})\n",
        "  sentences = []\n",
        "  for vals in grouped:\n",
        "      sentence = vals['sentence']\n",
        "      tags = vals['tags']\n",
        "      tags_without_labels = [(word, start, end) for word, start, end, binary, prob in tags]\n",
        "      all_tokens = all_tokens_with_index(sentence)\n",
        "\n",
        "      sent_repr = []\n",
        "      for word, index, start, end in all_tokens:\n",
        "\n",
        "          for (w, s, e) in tags_without_labels:\n",
        "            if word == w:\n",
        "              sent_repr.append((\n",
        "                  w, s, e,\n",
        "                  tags[tags_without_labels.index((w, s, e))][3],\n",
        "                  tags[tags_without_labels.index((w, s, e))][4]\n",
        "              ))\n",
        "            else:\n",
        "              sent_repr.append((word, start, end, 0, 0.0))\n",
        "\n",
        "      if filter_punc:\n",
        "          sent_repr = list(filter(lambda vals : remove_punctuation(vals[0]), sent_repr))\n",
        "\n",
        "      sentences.append({'sentence' : sentence, 'seq' : sent_repr})\n",
        "  return sentences\n",
        "\n",
        "def split_sentence_seqs(sentences):\n",
        "  words, start_end, binary, prob = [], [], [] ,[]\n",
        "  for sent in sentences:\n",
        "      sequence = sent['seq']\n",
        "      curr_w, curr_se, curr_b, curr_p = map(list, zip(*[(vals[0],\n",
        "          (vals[1], vals[2]), vals[3], vals[4]) for vals in sequence]))\n",
        "      words.append(curr_w)\n",
        "      start_end.append(curr_se)\n",
        "      binary.append(curr_b)\n",
        "      prob.append(curr_p)\n",
        "  return words, start_end, binary, prob\n",
        "\n",
        "sentences = forward_transformation(dataset)\n",
        "\n",
        "\n",
        "words, start_end, binary, prob = split_sentence_seqs(sentences)\n",
        "\n",
        "def get_data_dic(words, start_end, binary, prob):\n",
        "  train_dic = {}\n",
        "  id_list = []\n",
        "\n",
        "  for i in range(0, len(words)):\n",
        "    id_list.append(i)\n",
        "\n",
        "  train_dic['id'] = id_list\n",
        "  train_dic['tokens'] = words\n",
        "  train_dic['start_end'] = start_end\n",
        "  train_dic['label'] = binary\n",
        "  train_dic['complex_prob'] = prob\n",
        "\n",
        "  return train_dic\n",
        "\n",
        "\n",
        "dataset_dict = get_data_dic(words, start_end, binary, prob)\n",
        "\n",
        "from datasets import Dataset\n",
        "ds = Dataset.from_dict(dataset_dict)\n",
        "ds\n",
        "\n",
        "\"\"\"\n",
        "Dataset({\n",
        "    features: ['id', 'tokens', 'start_end', 'label', 'complex_prob'],\n",
        "    num_rows: 4974\n",
        "})\n",
        "\n",
        "\"\"\"\n",
        "\n",
        "from datasets import DatasetDict\n",
        "# 90% train, 10% test + validation\n",
        "train_testvalid = ds.train_test_split(test_size=0.1)\n",
        "# Split the 10% test + valid in half test, half valid\n",
        "test_valid = train_testvalid['test'].train_test_split(test_size=0.5)\n",
        "# gather everyone if you want to have a single DatasetDict\n",
        "train_test_valid_dataset = DatasetDict({\n",
        "    'train': train_testvalid['train'],\n",
        "    'test': test_valid['test'],\n",
        "    'valid': test_valid['train']})\n",
        "\n",
        "train_test_valid_dataset\n",
        "\n",
        "\n",
        "\"\"\"\n",
        "\n",
        "\n",
        "DatasetDict({\n",
        "    train: Dataset({\n",
        "        features: ['id', 'tokens', 'start_end', 'label', 'complex_prob'],\n",
        "        num_rows: 4476\n",
        "    })\n",
        "    test: Dataset({\n",
        "        features: ['id', 'tokens', 'start_end', 'label', 'complex_prob'],\n",
        "        num_rows: 249\n",
        "    })\n",
        "    valid: Dataset({\n",
        "        features: ['id', 'tokens', 'start_end', 'label', 'complex_prob'],\n",
        "        num_rows: 249\n",
        "    })\n",
        "})\n",
        "\n",
        "longest length of a sequence in sentence coulmn is 219 tokens, and shortest length is 3 tokens\n",
        "\n",
        "\"\"\"\n"
      ]
    },
    {
      "cell_type": "markdown",
      "metadata": {
        "id": "Vqwr5EVi494c"
      },
      "source": [
        "#prepare data2: tokenization using ParsBERT Also aligning labels with subwords"
      ]
    },
    {
      "cell_type": "code",
      "execution_count": null,
      "metadata": {
        "id": "wL8dp65l5e3o"
      },
      "outputs": [],
      "source": [
        "trial_tokenizer =  AutoTokenizer.from_pretrained('HooshvareLab/bert-base-parsbert-armanner-uncased')\n",
        "trial_model = AutoModelForTokenClassification.from_pretrained('HooshvareLab/bert-base-parsbert-armanner-uncased')\n",
        "\n",
        "def tokenize_and_align_labels(examples):\n",
        "    max_length = 219\n",
        "    tokenized_inputs = trial_tokenizer(examples['tokens'], truncation=True, is_split_into_words=True, padding= 'max_length', max_length=max_length,\n",
        "                                   add_special_tokens=True # Add special tokens CLS and SEP)\n",
        "    )\n",
        "\n",
        "    L_dic ={}\n",
        "    # P_dic = {}\n",
        "    # start_end_dic = {}\n",
        "\n",
        "    label_ids = []\n",
        "    # prob_ids = []\n",
        "    # start_end_ids = []\n",
        "\n",
        "    for i, label in enumerate(examples['label']):   #batch_data['label']\n",
        "        word_ids = tokenized_inputs.word_ids()  # Map tokens to their respective word.\n",
        "        previous_word_idx = None\n",
        "        L_dic[i] = label    #key is word_index and value is label of that word_index\n",
        "\n",
        "    # for i, prob in enumerate(example['complex_prob']):\n",
        "    #     P_dic[i] = prob    #key is word_index and value is label of that word_index\n",
        "\n",
        "    # for i, s_e_idx in enumerate(example['start_end']):\n",
        "    #     start_end_dic[i] = s_e_idx    #key is word_index and value is label of that word_index\n",
        "\n",
        "\n",
        "    for word_idx in word_ids:  # Set the special tokens to -100.\n",
        "\n",
        "        if word_idx is None:\n",
        "            label_ids.append(-100)\n",
        "            # prob_ids.append(-100)\n",
        "            # start_end_ids.append(-100)\n",
        "\n",
        "        elif word_idx != previous_word_idx:  # Only label the first token of a given word.\n",
        "            label_ids.append(L_dic[word_idx])\n",
        "            # prob_ids.append(P_dic[word_idx])\n",
        "            # start_end_ids.append(start_end_dic[word_idx])\n",
        "        else:\n",
        "            label_ids.append(-100)\n",
        "            # prob_ids.append(-100)\n",
        "            # start_end_ids.append(-100)\n",
        "\n",
        "        previous_word_idx = word_idx\n",
        "\n",
        "    tokenized_inputs[\"aligned_labels\"] = label_ids\n",
        "    # tokenized_inputs[\"c_prob\"] = prob_ids\n",
        "    # tokenized_inputs[\"s_e_idx\"] = start_end_ids\n",
        "\n",
        "    return tokenized_inputs\n",
        "\n",
        "tokenized_data_train = train_test_valid_dataset['train'].map(tokenize_and_align_labels,)\n",
        "tokenized_data_test = train_test_valid_dataset['test'].map(tokenize_and_align_labels,)\n",
        "tokenized_data_val = train_test_valid_dataset['valid'].map(tokenize_and_align_labels,)\n",
        "\n",
        "tensor_train_dataset = tokenized_data_train.with_format(\"torch\")\n",
        "tensor_test_dataset = tokenized_data_test.with_format(\"torch\")\n",
        "tensor_val_dataset = tokenized_data_val.with_format(\"torch\")\n",
        "\n",
        "tensor_dataset = concatenate_datasets([tensor_train_dataset, tensor_test_dataset, tensor_test_dataset])\n",
        "\n",
        "\"\"\"\n",
        "\n",
        "\n",
        "DatasetDict({\n",
        "    train: Dataset({\n",
        "        features: ['id', 'tokens', 'start_end', 'label', 'complex_prob', 'input_ids', 'attention_mask', 'aligned_labels'],\n",
        "        num_rows: 4476\n",
        "    })\n",
        "    test: Dataset({\n",
        "        features: ['id', 'tokens', 'start_end', 'label', 'complex_prob', 'input_ids', 'attention_mask', 'aligned_labels'],\n",
        "        num_rows: 249\n",
        "    })\n",
        "    valid: Dataset({\n",
        "        features: ['id', 'tokens', 'start_end', 'label', 'complex_prob', 'input_ids', 'attention_mask', 'aligned_labels'],\n",
        "        num_rows: 249\n",
        "    })\n",
        "})\n",
        "\n",
        "\n",
        "\n",
        "\"\"\"\n",
        "\n"
      ]
    },
    {
      "cell_type": "code",
      "execution_count": null,
      "metadata": {
        "id": "W4pwCrE4oFYY"
      },
      "outputs": [],
      "source": [
        "# # save tokenized dataset in torch tensor style in save_path:\n",
        "save_path = '/content/drive/MyDrive/recourses/ds'\n",
        "tokenized_data.save_to_disk(save_path)"
      ]
    },
    {
      "cell_type": "code",
      "execution_count": null,
      "metadata": {
        "id": "78Kr_-YatE_a"
      },
      "outputs": [],
      "source": [
        "# load presaved_tokenized + embeddings dataset in tensor format\n",
        "\n",
        "ds_train = load_from_disk(\"/content/drive/MyDrive/with_embds_1/train\")\n",
        "ds_test = load_from_disk(\"/content/drive/MyDrive/with_embds_1/test\")\n",
        "ds_val = load_from_disk(\"/content/drive/MyDrive/with_embds_1/valid\")\n",
        "\n",
        "\n",
        "\"\"\"\n",
        "\n",
        "Dataset({\n",
        "    features: ['id', 'tokens', 'start_end', 'label', 'complex_prob', 'input_ids', 'attention_mask', 'aligned_labels', 'embedding'],\n",
        "    num_rows: 4476\n",
        "})\n",
        "Dataset({\n",
        "    features: ['id', 'tokens', 'start_end', 'label', 'complex_prob', 'input_ids', 'attention_mask', 'aligned_labels', 'embedding'],\n",
        "    num_rows: 249\n",
        "})\n",
        "Dataset({\n",
        "    features: ['id', 'tokens', 'start_end', 'label', 'complex_prob', 'input_ids', 'attention_mask', 'aligned_labels', 'embedding'],\n",
        "    num_rows: 249\n",
        "})\n",
        "\n",
        "\n",
        "\"\"\""
      ]
    },
    {
      "cell_type": "markdown",
      "metadata": {
        "id": "TqAg6Qvb6pd9"
      },
      "source": [
        "# extract embeddings"
      ]
    },
    {
      "cell_type": "markdown",
      "metadata": {
        "id": "rCRdoZ08ESxr"
      },
      "source": [
        "A. in get_emb_ver4 we extract embeddings for all words in input sequence. this embedding is going to use in my implementation for complex word identification, using MLP and BiLSTM networks."
      ]
    },
    {
      "cell_type": "code",
      "execution_count": null,
      "metadata": {
        "id": "N36X7ybH6oy6"
      },
      "outputs": [],
      "source": [
        "def get_emb_ver4(ds):\n",
        "    trial_model.eval()\n",
        "\n",
        "    with torch.no_grad():\n",
        "        hidden_states = trial_model(ds['input_ids'].unsqueeze(0), ds['attention_mask'].unsqueeze(0), output_hidden_states=True)['hidden_states']\n",
        "\n",
        "    token_embeddings = torch.stack(hidden_states[-4:], dim=0).squeeze(1).permute(1, 0, 2)\n",
        "    token_vecs_sum = torch.stack([torch.sum(token[-4:], dim=0) for token in token_embeddings])\n",
        "\n",
        "\n",
        "    return {'embedding': token_vecs_sum}\n",
        "\n",
        "train_ds_embd = tensor_train_dataset.map(get_emb_ver4)\n",
        "test_ds_emb = tensor_test_dataset.map(get_emb_ver4)\n",
        "val_ds_emb = tensor_val_dataset.map(get_emb_ver4)\n",
        "\n",
        "# save embeddings\n",
        "\n",
        "path = '/content/drive/MyDrive/pars_bert_withemb'\n",
        "train_path = path + '/train'\n",
        "test_path = path + '/test'\n",
        "val_path = path + '/val'\n",
        "\n",
        "train_ds_embd.save_to_disk(train_path)\n",
        "test_ds_emb.save_to_disk(test_path)\n",
        "val_ds_emb.save_to_disk(val_path)\n",
        "\n",
        "# retain it\n",
        "ds_train = load_from_disk(\"/content/drive/MyDrive/pars_bert_withemb/train\")\n",
        "ds_test = load_from_disk(\"/content/drive/MyDrive/pars_bert_withemb/test\")\n",
        "ds_val = load_from_disk(\"/content/drive/MyDrive/pars_bert_withemb/val\")\n",
        "\n",
        "\"\"\"\n",
        "\n",
        "Dataset({\n",
        "    features: ['id', 'tokens', 'start_end', 'label', 'complex_prob', 'input_ids', 'token_type_ids', 'attention_mask', 'aligned_labels', 'embedding'],\n",
        "    num_rows: 4476\n",
        "})\n",
        "Dataset({\n",
        "    features: ['id', 'tokens', 'start_end', 'label', 'complex_prob', 'input_ids', 'token_type_ids', 'attention_mask', 'aligned_labels', 'embedding'],\n",
        "    num_rows: 249\n",
        "})\n",
        "Dataset({\n",
        "    features: ['id', 'tokens', 'start_end', 'label', 'complex_prob', 'input_ids', 'token_type_ids', 'attention_mask', 'aligned_labels', 'embedding'],\n",
        "    num_rows: 249\n",
        "})\n",
        "\n",
        "\"\"\""
      ]
    },
    {
      "cell_type": "markdown",
      "metadata": {
        "id": "a7U0j6CHHUfI"
      },
      "source": [
        "B. in get_emb_ver4 we extract embeddings for only target words (the 5k words that were extracted initialy). this is done by extracting embeding for each word in a sequence and then extracting only the target word embedding.\n",
        "\n",
        "this is going to use in complex word identification models base on SVM and Balance Random Forest.\n"
      ]
    },
    {
      "cell_type": "code",
      "execution_count": null,
      "metadata": {
        "id": "ELrjJaHGub0v"
      },
      "outputs": [],
      "source": [
        "tbl = dict.fromkeys(i for i in range(sys.maxunicode)\n",
        "                      if unicodedata.category(chr(i)).startswith('P'))\n",
        "\n",
        "def remove_punctuation(text):\n",
        "    return text.translate(tbl)\n",
        "\n",
        "def get_target_idx(tokens_list, target_word, ):\n",
        "  target_idx = -1\n",
        "  try:\n",
        "    if '#' in target_word:\n",
        "      target_word_list = target_word.split('#')\n",
        "      for word in target_word_list:\n",
        "        if word in tokens_list:\n",
        "          target_idx = tokens_list.index(word)\n",
        "    else:\n",
        "      target_idx = tokens_list.index(target_word)\n",
        "  except:\n",
        "    print(target_word)\n",
        "  return target_idx\n",
        "\n",
        "def get_word_embedding(ds, tokenizer=R_tokenizer, model=R_model):\n",
        "\n",
        "  text = ds['sentences']\n",
        "  target_word = ds['tokens']\n",
        "  text = remove_punctuation(text=text)\n",
        "  tokens_list = text.split()\n",
        "\n",
        "  encoded = R_tokenizer(text, return_tensors=\"pt\").to(device)\n",
        "\n",
        "  target_idx = get_target_idx(tokens_list, target_word)\n",
        "\n",
        "  token_ids_word = np.where(np.array(encoded.word_ids()) == target_idx)\n",
        "  model.eval()\n",
        "\n",
        "  with torch.no_grad():\n",
        "      hidden_states =  model(encoded['input_ids'], encoded['attention_mask'], output_hidden_states=True)['hidden_states']\n",
        "\n",
        "  token_embeddings = torch.stack(hidden_states[-4:], dim=0).squeeze(1).permute(1, 0, 2)\n",
        "  token_vecs_sum = torch.stack([torch.sum(token[-4:], dim=0) for token in token_embeddings])\n",
        "\n",
        "  word_tokens_output = token_vecs_sum[token_ids_word]\n",
        "\n",
        "\n",
        "  return {'embedding': word_tokens_output.mean(dim=0)}"
      ]
    },
    {
      "cell_type": "markdown",
      "metadata": {
        "id": "GIkC4XO_7w0R"
      },
      "source": [
        "# retrive data and Final Prepration!"
      ]
    },
    {
      "cell_type": "markdown",
      "metadata": {
        "id": "3IAVl6COCFcF"
      },
      "source": [
        "retrive dtast"
      ]
    },
    {
      "cell_type": "code",
      "execution_count": null,
      "metadata": {
        "id": "ZFJksds4CKCT"
      },
      "outputs": [],
      "source": [
        "ds_train = load_from_disk(\"/content/drive/MyDrive/pars_bert_withemb/train\")\n",
        "ds_test = load_from_disk(\"/content/drive/MyDrive/pars_bert_withemb/test\")\n",
        "ds_val = load_from_disk(\"/content/drive/MyDrive/pars_bert_withemb/val\")"
      ]
    },
    {
      "cell_type": "code",
      "execution_count": null,
      "metadata": {
        "id": "oH7Dy25F8Bvb"
      },
      "outputs": [],
      "source": [
        "train_dataset = ds_train.remove_columns(['id', 'tokens', 'start_end', 'label', 'complex_prob', 'input_ids', 'attention_mask', 'token_type_ids'])\n",
        "test_dataset = ds_test.remove_columns(['id', 'tokens', 'start_end', 'label', 'complex_prob', 'input_ids', 'attention_mask', 'token_type_ids'])\n",
        "val_dataset = ds_val.remove_columns(['id', 'tokens', 'start_end', 'label', 'complex_prob', 'input_ids', 'attention_mask', 'token_type_ids'])"
      ]
    },
    {
      "cell_type": "markdown",
      "metadata": {
        "id": "VId891Bg8EMv"
      },
      "source": [
        "**weights**"
      ]
    },
    {
      "cell_type": "code",
      "execution_count": null,
      "metadata": {
        "id": "ed1geJT88F7A"
      },
      "outputs": [],
      "source": [
        "labels = train_dataset['aligned_labels']\n",
        "mask = (labels != -100)\n",
        "masked_labels = labels[mask]\n",
        "\n",
        "classes = np.unique(masked_labels)\n",
        "print(classes)\n",
        "weights = compute_class_weight(class_weight=\"balanced\", classes= classes, y= masked_labels.numpy())\n",
        "# weights:\n",
        "\"\"\"[0 1]\n",
        "\n",
        "array([ 0.50350712, 71.7834891 ])\"\"\"\n",
        "\n",
        "weights = torch.tensor([ 0.50350712, 71.7834891 ])"
      ]
    },
    {
      "cell_type": "markdown",
      "metadata": {
        "id": "BE3H43O18WHj"
      },
      "source": [
        "device, plot function and time function"
      ]
    },
    {
      "cell_type": "code",
      "execution_count": null,
      "metadata": {
        "id": "LBz6xmFP8VgG"
      },
      "outputs": [],
      "source": [
        "# Get cpu, gpu or mps device for training.\n",
        "device = (\n",
        "    \"cuda\"\n",
        "    if torch.cuda.is_available()\n",
        "    else \"mps\"\n",
        "    if torch.backends.mps.is_available()\n",
        "    else \"cpu\"\n",
        ")\n",
        "print(f\"Using {device} device\")\n",
        "\n"
      ]
    },
    {
      "cell_type": "code",
      "execution_count": null,
      "metadata": {
        "id": "veSjQMstZrzO"
      },
      "outputs": [],
      "source": [
        "import matplotlib.pyplot as plt\n",
        "\n",
        "def plot_loss_curve(train_losses, val_losses):\n",
        "    epochs = range(1, len(train_losses) + 1)\n",
        "    plt.plot(epochs, train_losses, label='Train Loss')\n",
        "    plt.plot(epochs, val_losses, label='Validation Loss')\n",
        "    plt.title('Training and Validation Loss')\n",
        "    plt.xlabel('Epoch')\n",
        "    plt.ylabel('Loss')\n",
        "    plt.legend()\n",
        "    plt.show()\n"
      ]
    },
    {
      "cell_type": "code",
      "execution_count": null,
      "metadata": {
        "id": "KppqByKDZI4p"
      },
      "outputs": [],
      "source": [
        "def epoch_time(start_time, end_time):\n",
        "    elapsed_time = end_time - start_time\n",
        "    elapsed_mins = int(elapsed_time / 60)\n",
        "    elapsed_secs = int(elapsed_time - (elapsed_mins * 60))\n",
        "    return elapsed_mins, elapsed_secs\n",
        "\n"
      ]
    },
    {
      "cell_type": "markdown",
      "metadata": {
        "id": "455ktCnUeRZq"
      },
      "source": [
        "# LSTM"
      ]
    },
    {
      "cell_type": "code",
      "execution_count": null,
      "metadata": {
        "id": "zI0MFesquJS4"
      },
      "outputs": [],
      "source": [
        "import torch\n",
        "import torch.nn as nn\n",
        "import torch.optim as optim\n",
        "\n",
        "import spacy\n",
        "import numpy as np\n",
        "\n",
        "import time\n",
        "import random\n",
        "\n",
        "import torch.nn.functional as F\n",
        "\n",
        "from sklearn.metrics import precision_score, recall_score, f1_score\n",
        "\n",
        "# from torchmetrics.classification import BinaryAccuracy"
      ]
    },
    {
      "cell_type": "code",
      "execution_count": null,
      "metadata": {
        "id": "mKONWFv-eTyk"
      },
      "outputs": [],
      "source": [
        "class BiLSTMTagger(nn.Module):\n",
        "    def __init__(self,\n",
        "                 input_dim,\n",
        "                 hidden_dim,\n",
        "                 output_dim,\n",
        "                 n_layers,\n",
        "                 bidirectional,\n",
        "                 dropout,\n",
        "                        ):\n",
        "\n",
        "        super(BiLSTMTagger, self).__init__()\n",
        "        self.hidden_dim = hidden_dim\n",
        "\n",
        "        self.lstm = nn.LSTM(input_dim,\n",
        "                            hidden_dim,\n",
        "                            num_layers = n_layers,\n",
        "                            bidirectional = bidirectional,\n",
        "                            dropout = dropout if n_layers > 1 else 0,\n",
        "                            batch_first =True,)\n",
        "\n",
        "        # self.batch_norm = nn.BatchNorm1d(2 * hidden_dim)\n",
        "\n",
        "        # self.dropout = nn.Dropout(dropout)\n",
        "\n",
        "        self.fc = nn.Linear(2*hidden_dim, output_dim)\n",
        "\n",
        "        self.dropout = nn.Dropout(dropout)\n",
        "\n",
        "\n",
        "    def forward(self, embedded_text):\n",
        "\n",
        "        outputs, _ = self.lstm(embedded_text)\n",
        "\n",
        "        # outputs = self.batch_norm(outputs.permute(0, 2, 1))\n",
        "\n",
        "        # logits = self.dropout(self.fc(self.dropout(outputs.permute(0, 2, 1))))\n",
        "        logits = self.dropout(self.fc(self.dropout(outputs)))\n",
        "\n",
        "        return logits"
      ]
    },
    {
      "cell_type": "code",
      "execution_count": null,
      "metadata": {
        "id": "QIRaexbBkU0B"
      },
      "outputs": [],
      "source": [
        "INPUT_DIM = 768\n",
        "HIDDEN_DIM = 32\n",
        "OUTPUT_DIM = 2\n",
        "N_LAYERS = 1\n",
        "BIDIRECTIONAL = True\n",
        "DROPOUT = 0.6\n",
        "\n",
        "bilstm_model = BiLSTMTagger(INPUT_DIM,\n",
        "                        HIDDEN_DIM,\n",
        "                        OUTPUT_DIM,\n",
        "                        N_LAYERS,\n",
        "                        BIDIRECTIONAL,\n",
        "                        DROPOUT,\n",
        "                        )\n",
        "\n",
        "criterion = nn.CrossEntropyLoss(ignore_index=-100, weight=weights)\n",
        "# optimizer = optim.Adam(model.parameters(), lr=0.001)\n",
        "optimizer = optim.NAdam(bilstm_model.parameters(), lr=0.001)\n",
        "scheduler = ReduceLROnPlateau(optimizer, 'min')\n"
      ]
    },
    {
      "cell_type": "code",
      "execution_count": null,
      "metadata": {
        "colab": {
          "base_uri": "https://localhost:8080/"
        },
        "id": "QE1SghHraNn3",
        "outputId": "6c0d28dd-2ec4-49f2-f948-4b93302b079c"
      },
      "outputs": [
        {
          "data": {
            "text/plain": [
              "BiLSTMTagger(\n",
              "  (lstm): LSTM(768, 32, batch_first=True, bidirectional=True)\n",
              "  (fc): Linear(in_features=64, out_features=2, bias=True)\n",
              "  (dropout): Dropout(p=0.6, inplace=False)\n",
              ")"
            ]
          },
          "execution_count": 27,
          "metadata": {},
          "output_type": "execute_result"
        }
      ],
      "source": [
        "def init_weights(m):\n",
        "    for name, param in m.named_parameters():\n",
        "        nn.init.normal_(param.data, mean = 0, std = 0.1)\n",
        "\n",
        "bilstm_model.apply(init_weights)"
      ]
    },
    {
      "cell_type": "code",
      "execution_count": null,
      "metadata": {
        "id": "0EphtwKNask2"
      },
      "outputs": [],
      "source": [
        "from torchmetrics.classification import MulticlassAccuracy\n",
        "from torchmetrics.classification import MulticlassF1Score\n",
        "from torchmetrics.classification import MulticlassPrecision\n",
        "from torchmetrics.classification import MulticlassRecall\n",
        "\n",
        "acc_metric = MulticlassAccuracy(num_classes=2, ignore_index=-100)\n",
        "F1_metric = MulticlassF1Score(num_classes=2, ignore_index=-100)\n",
        "percision_metric = MulticlassPrecision(num_classes=2, ignore_index=-100)\n",
        "recall_metric = MulticlassF1Score(num_classes=2, ignore_index=-100)\n"
      ]
    },
    {
      "cell_type": "code",
      "execution_count": null,
      "metadata": {
        "id": "c6sUNKtvwKf5"
      },
      "outputs": [],
      "source": [
        "def train(model, iterator, optimizer, criterion):\n",
        "\n",
        "    epoch_loss = 0\n",
        "\n",
        "    model.train()\n",
        "\n",
        "    for batch in iterator:\n",
        "\n",
        "        embeds = batch['embedding'].to(device)\n",
        "        tags = batch['aligned_labels'].to(device)\n",
        "\n",
        "        optimizer.zero_grad()\n",
        "\n",
        "\n",
        "        predictions = model(embeds)\n",
        "\n",
        "        predictions = predictions.view(-1, predictions.shape[-1])\n",
        "        tags = tags.view(-1)\n",
        "\n",
        "        loss = criterion(predictions, tags)\n",
        "\n",
        "\n",
        "\n",
        "        loss.backward()\n",
        "\n",
        "        optimizer.step()\n",
        "\n",
        "        epoch_loss += loss.item()\n",
        "\n",
        "\n",
        "    return epoch_loss / len(iterator)\n",
        "\n",
        "\n",
        "def evaluate(model, iterator, criterion):\n",
        "\n",
        "    epoch_loss = 0\n",
        "\n",
        "    acc = 0.0\n",
        "    F1 = 0.0\n",
        "    recall = 0.0\n",
        "    perc = 0.0\n",
        "\n",
        "    i = 0\n",
        "\n",
        "    model.eval()\n",
        "\n",
        "    with torch.no_grad():\n",
        "\n",
        "        for batch in iterator:\n",
        "            i = i + 1\n",
        "            embds = batch['embedding'].to(device)\n",
        "            tags = batch['aligned_labels'].to(device)\n",
        "\n",
        "            outputs = model(embds)\n",
        "\n",
        "            outputs = outputs.view(-1, outputs.shape[-1])\n",
        "            tags = tags.view(-1)\n",
        "\n",
        "\n",
        "            loss = criterion(outputs, tags)\n",
        "\n",
        "            epoch_loss += loss.item()\n",
        "\n",
        "            # calculate metrics using ignit\n",
        "            acc += acc_metric(outputs, tags)\n",
        "            F1 += F1_metric(outputs, tags)\n",
        "            perc += percision_metric(outputs, tags)\n",
        "            recall += recall_metric(outputs, tags)\n",
        "\n",
        "\n",
        "\n",
        "\n",
        "\n",
        "    precision = perc/i\n",
        "    recall = recall/i\n",
        "    F1 = F1/i\n",
        "    accuracy = acc/i\n",
        "\n",
        "    g1 = (2*(accuracy * recall)) / (accuracy + recall)\n",
        "\n",
        "\n",
        "\n",
        "    print('\\n -----------------------------')\n",
        "    print(f\"Precision: {precision:.4f}\")\n",
        "    print(f\"Recall: {recall:.4f}\")\n",
        "    print(f\"F1 Score: {F1:.4f}\")\n",
        "    print(f\"accuracy: {accuracy:.4f}\")\n",
        "    print(f\"G1 Score: {g1:.4f}\")\n",
        "\n",
        "\n",
        "\n",
        "    avr_test_loss = epoch_loss / len(iterator)\n",
        "\n",
        "\n",
        "\n",
        "    return avr_test_loss\n",
        "\n",
        "\n"
      ]
    },
    {
      "cell_type": "code",
      "execution_count": null,
      "metadata": {
        "id": "0d7jkciZJLcH"
      },
      "outputs": [],
      "source": [
        "train_iterator = torch.utils.data.DataLoader(train_dataset, batch_size=30, shuffle=True, num_workers=2)\n",
        "valid_iterator = torch.utils.data.DataLoader(val_dataset, batch_size=30, shuffle=True, num_workers=2)"
      ]
    },
    {
      "cell_type": "code",
      "execution_count": null,
      "metadata": {
        "id": "OFO7Kc2dxkZa"
      },
      "outputs": [],
      "source": [
        "N_EPOCHS = 20\n",
        "\n",
        "best_valid_loss = float('inf')\n",
        "train_losses = []\n",
        "val_losses = []\n",
        "\n",
        "for epoch in range(N_EPOCHS):\n",
        "\n",
        "    start_time = time.time()\n",
        "\n",
        "    train_loss = train(model, train_iterator, optimizer, criterion)\n",
        "    valid_loss = evaluate(model, valid_iterator, criterion)\n",
        "\n",
        "    end_time = time.time()\n",
        "\n",
        "    epoch_mins, epoch_secs = epoch_time(start_time, end_time)\n",
        "\n",
        "\n",
        "    if valid_loss < best_valid_loss:\n",
        "        best_valid_loss = valid_loss\n",
        "        torch.save(model.state_dict(), 'tut2-model.pt')\n",
        "\n",
        "\n",
        "    scheduler.step(valid_loss)\n",
        "\n",
        "    print(f'Epoch: {epoch+1:02} | Epoch Time: {epoch_mins}m {epoch_secs}s')\n",
        "    print('Train Loss: ', train_loss)\n",
        "    train_losses.append(train_loss)\n",
        "    print('Val. Loss: ', valid_loss)\n",
        "    val_losses.append(valid_loss)\n",
        "\n",
        "# Val. Acc: {valid_acc*100:.2f}\n",
        "#  Train Acc: {train_acc*100:.2f}"
      ]
    },
    {
      "cell_type": "code",
      "execution_count": null,
      "metadata": {
        "id": "L9TBrTn6kxYA"
      },
      "outputs": [],
      "source": [
        "# save model\n",
        "print(train_losses, '\\n', val_losses)\n",
        "plot_loss_curve(train_losses, val_losses)\n",
        "torch.save(model, '/content/drive/MyDrive/bilstm_2.pth')\n",
        "\n",
        "\n"
      ]
    },
    {
      "cell_type": "markdown",
      "metadata": {
        "id": "a1mlH1YN93CC"
      },
      "source": [
        "\n",
        "```\n",
        "Precision: 0.5199\n",
        "Recall: 0.5101\n",
        "F1 Score: 0.5101\n",
        "accuracy: 0.8024\n",
        "G1 Score: 0.6237\n",
        "Epoch: 01 | Epoch Time: 5m 33s\n",
        "Train Loss:  0.4470985011259715\n",
        "Val. Loss:  0.3810286687480079\n",
        "—------------------------------\n",
        "Precision: 0.5115\n",
        "Recall: 0.4627\n",
        "F1 Score: 0.4627\n",
        "accuracy: 0.7969\n",
        "G1 Score: 0.5855\n",
        "Epoch: 02 | Epoch Time: 5m 7s\n",
        "Train Loss:  0.4373612477382024\n",
        "Val. Loss:  0.39831074078877765\n",
        "—------------------------------\n",
        "Precision: 0.5190\n",
        "Recall: 0.4997\n",
        "F1 Score: 0.4997\n",
        "accuracy: 0.8457\n",
        "G1 Score: 0.6282\n",
        "Epoch: 03 | Epoch Time: 5m 29s\n",
        "Train Loss:  0.42501645763715107\n",
        "Val. Loss:  0.3604854775799645\n",
        "—------------------------------\n",
        "Precision: 0.5223\n",
        "Recall: 0.5158\n",
        "F1 Score: 0.5158\n",
        "accuracy: 0.8185\n",
        "G1 Score: 0.6328\n",
        "Epoch: 04 | Epoch Time: 5m 24s\n",
        "Train Loss:  0.4198496466875076\n",
        "Val. Loss:  0.3671598931153615\n",
        "—------------------------------\n",
        "Precision: 0.5233\n",
        "Recall: 0.5184\n",
        "F1 Score: 0.5184\n",
        "accuracy: 0.8073\n",
        "G1 Score: 0.6313\n",
        "Epoch: 05 | Epoch Time: 5m 35s\n",
        "Train Loss:  0.4186057557662328\n",
        "Val. Loss:  0.41698815259668565\n",
        "—------------------------------\n",
        "Precision: 0.5242\n",
        "Recall: 0.5245\n",
        "F1 Score: 0.5245\n",
        "accuracy: 0.7658\n",
        "G1 Score: 0.6226\n",
        "Epoch: 06 | Epoch Time: 5m 22s\n",
        "Train Loss:  0.41700501372416815\n",
        "Val. Loss:  0.4227830618619919\n",
        "—------------------------------\n",
        "Precision: 0.5197\n",
        "Recall: 0.5070\n",
        "F1 Score: 0.5070\n",
        "accuracy: 0.8024\n",
        "G1 Score: 0.6213\n",
        "Epoch: 07 | Epoch Time: 5m 36s\n",
        "Train Loss:  0.3977813877662023\n",
        "Val. Loss:  0.39078015089035034\n",
        "—------------------------------\n",
        "Precision: 0.5212\n",
        "Recall: 0.5196\n",
        "F1 Score: 0.5196\n",
        "accuracy: 0.7694\n",
        "G1 Score: 0.6203\n",
        "Epoch: 08 | Epoch Time: 5m 29s\n",
        "Train Loss:  0.39468146314223607\n",
        "Val. Loss:  0.46729664338959587\n",
        "—------------------------------\n",
        "Precision: 0.5202\n",
        "Recall: 0.5138\n",
        "F1 Score: 0.5138\n",
        "accuracy: 0.7715\n",
        "G1 Score: 0.6168\n",
        "Epoch: 09 | Epoch Time: 5m 58s\n",
        "Train Loss:  0.3985196859637896\n",
        "Val. Loss:  0.38831304841571385\n",
        "—------------------------------\n",
        "Precision: 0.5219\n",
        "Recall: 0.5207\n",
        "F1 Score: 0.5207\n",
        "accuracy: 0.7836\n",
        "G1 Score: 0.6256\n",
        "Epoch: 10 | Epoch Time: 5m 51s\n",
        "Train Loss:  0.3918690818548203\n",
        "Val. Loss:  0.4304463068644206\n",
        "—------------------------------\n",
        "Precision: 0.5255\n",
        "Recall: 0.5274\n",
        "F1 Score: 0.5274\n",
        "accuracy: 0.7614\n",
        "G1 Score: 0.6231\n",
        "Epoch: 11 | Epoch Time: 5m 44s\n",
        "Train Loss:  0.3821021800239881\n",
        "Val. Loss:  0.4549918870131175\n",
        "—------------------------------\n",
        "Precision: 0.5194\n",
        "Recall: 0.5112\n",
        "F1 Score: 0.5112\n",
        "accuracy: 0.7672\n",
        "G1 Score: 0.6136\n",
        "Epoch: 12 | Epoch Time: 5m 44s\n",
        "Train Loss:  0.38520427107810973\n",
        "Val. Loss:  0.39930057856771684\n",
        "—------------------------------\n",
        "Precision: 0.5246\n",
        "Recall: 0.5269\n",
        "F1 Score: 0.5269\n",
        "accuracy: 0.7892\n",
        "G1 Score: 0.6319\n",
        "Epoch: 13 | Epoch Time: 5m 44s\n",
        "Train Loss:  0.3744424530863762\n",
        "Val. Loss:  0.40717992848820156\n",
        "—------------------------------\n",
        "Precision: 0.5216\n",
        "Recall: 0.5202\n",
        "F1 Score: 0.5202\n",
        "accuracy: 0.7574\n",
        "G1 Score: 0.6168\n",
        "Epoch: 14 | Epoch Time: 6m 23s\n",
        "Train Loss:  0.37917419930299123\n",
        "Val. Loss:  0.4537353151374393\n",
        "—------------------------------\n",
        "Precision: 0.5235\n",
        "Recall: 0.5238\n",
        "F1 Score: 0.5238\n",
        "accuracy: 0.7715\n",
        "G1 Score: 0.6240\n",
        "Epoch: 15 | Epoch Time: 6m 12s\n",
        "Train Loss:  0.3687762004137039\n",
        "Val. Loss:  0.47608043087853325\n",
        "—------------------------------\n",
        "Precision: 0.5232\n",
        "Recall: 0.5226\n",
        "F1 Score: 0.5226\n",
        "accuracy: 0.7764\n",
        "G1 Score: 0.6247\n",
        "Epoch: 16 | Epoch Time: 6m 24s\n",
        "Train Loss:  0.35695472369591397\n",
        "Val. Loss:  0.44623111022843254\n",
        "—------------------------------\n",
        "Precision: 0.5237\n",
        "Recall: 0.5259\n",
        "F1 Score: 0.5259\n",
        "accuracy: 0.7487\n",
        "G1 Score: 0.6178\n",
        "Epoch: 17 | Epoch Time: 6m 25s\n",
        "Train Loss:  0.35455466926097867\n",
        "Val. Loss:  0.5084982216358185\n",
        "—------------------------------\n",
        "Precision: 0.5204\n",
        "Recall: 0.5193\n",
        "F1 Score: 0.5193\n",
        "accuracy: 0.7063\n",
        "G1 Score: 0.5985\n",
        "Epoch: 18 | Epoch Time: 6m 16s\n",
        "Train Loss:  0.351669171055158\n",
        "Val. Loss:  0.477103806204266\n",
        "—------------------------------\n",
        "Precision: 0.5278\n",
        "Recall: 0.5345\n",
        "F1 Score: 0.5345\n",
        "accuracy: 0.7599\n",
        "G1 Score: 0.6275\n",
        "Epoch: 19 | Epoch Time: 6m 21s\n",
        "Train Loss:  0.3559552330772082\n",
        "Val. Loss:  0.4670061121384303\n",
        "—------------------------------\n",
        "Precision: 0.5225\n",
        "Recall: 0.5232\n",
        "F1 Score: 0.5232\n",
        "accuracy: 0.7229\n",
        "G1 Score: 0.6071\n",
        "Epoch: 20 | Epoch Time: 6m 10s\n",
        "Train Loss:  0.350294684668382\n",
        "Val. Loss:  0.4824233320024278\n",
        "\n",
        "\n",
        "\n",
        "```\n",
        "\n"
      ]
    },
    {
      "cell_type": "markdown",
      "metadata": {
        "id": "QIkVeFhS-Pgk"
      },
      "source": []
    },
    {
      "cell_type": "markdown",
      "metadata": {
        "id": "JLBPihRkwNjx"
      },
      "source": [
        "\n",
        "\n",
        "---\n",
        "\n",
        "\n",
        "\n",
        "---\n",
        "\n",
        "\n",
        "\n",
        "---\n",
        "\n"
      ]
    },
    {
      "cell_type": "markdown",
      "metadata": {
        "id": "0tyJIY3CWoo_"
      },
      "source": [
        "# MLP"
      ]
    },
    {
      "cell_type": "code",
      "execution_count": null,
      "metadata": {
        "colab": {
          "base_uri": "https://localhost:8080/"
        },
        "id": "vI2hcn7bWsoC",
        "outputId": "b26b8e0c-5c1e-4296-8443-9b98bd169952"
      },
      "outputs": [
        {
          "name": "stdout",
          "output_type": "stream",
          "text": [
            "TokenClassifier(\n",
            "  (flatten): Flatten(start_dim=1, end_dim=-1)\n",
            "  (dropout): Dropout(p=0.7, inplace=False)\n",
            "  (layers): Sequential(\n",
            "    (0): Linear(in_features=768, out_features=32, bias=True)\n",
            "    (1): LeakyReLU(negative_slope=0.01)\n",
            "    (2): Linear(in_features=32, out_features=16, bias=True)\n",
            "    (3): LeakyReLU(negative_slope=0.01)\n",
            "    (4): Linear(in_features=16, out_features=16, bias=True)\n",
            "    (5): LeakyReLU(negative_slope=0.01)\n",
            "    (6): Dropout(p=0.7, inplace=False)\n",
            "    (7): Linear(in_features=16, out_features=2, bias=True)\n",
            "  )\n",
            ")\n"
          ]
        }
      ],
      "source": [
        "# Define PyTorch model, with dropout at input\n",
        "class TokenClassifier(nn.Module):\n",
        "    def __init__(self, input_size, hidden_size1, hidden_size2, hidden_size3, output_size):\n",
        "        super(TokenClassifier, self).__init__()\n",
        "\n",
        "        self.flatten = nn.Flatten()\n",
        "        self.dropout = nn.Dropout(0.7)\n",
        "\n",
        "        self.layers = nn.Sequential(\n",
        "            nn.Linear(input_size, hidden_size1),\n",
        "            # nn.BatchNorm1d(hidden_size1, momentum=0.9),\n",
        "            nn.LeakyReLU(),\n",
        "            # self.dropout,\n",
        "\n",
        "            nn.Linear(hidden_size1, hidden_size2),\n",
        "            # nn.BatchNorm1d(hidden_size2, momentum=0.9),\n",
        "            nn.LeakyReLU(),\n",
        "            # self.dropout,\n",
        "\n",
        "            nn.Linear(hidden_size2, hidden_size3),\n",
        "            # # nn.BatchNorm1d(hidden_size3, momentum=0.9),\n",
        "            nn.LeakyReLU(),\n",
        "            self.dropout,\n",
        "\n",
        "            nn.Linear(hidden_size3, output_size)\n",
        "        )\n",
        "\n",
        "\n",
        "    def forward(self, x):\n",
        "\n",
        "        # x = self.flatten(x)\n",
        "        # print(x.shape)\n",
        "        x = self.layers(x)\n",
        "\n",
        "        return x\n",
        "\n",
        "# He weight initalizer\n",
        "@torch.no_grad()\n",
        "def init_weights(m):\n",
        "    if type(m) == nn.Linear:\n",
        "        torch.nn.init.kaiming_uniform_(m.weight,)\n",
        "\n",
        "input_size = 768  # Total number of features in the flattened input\n",
        "hidden_size1 = 32\n",
        "hidden_size2 = 16\n",
        "hidden_size3 = 16\n",
        "output_size = 2\n",
        "\n",
        "\n",
        "mlp_model = TokenClassifier(input_size, hidden_size1, hidden_size2, hidden_size3, output_size).to(device)\n",
        "mlp_model.apply(init_weights)\n",
        "print(mlp_model)"
      ]
    },
    {
      "cell_type": "code",
      "execution_count": null,
      "metadata": {
        "id": "zRAz7y6dWxXJ"
      },
      "outputs": [],
      "source": [
        "# Define model and parameters\n",
        "\n",
        "\n",
        "learning_rate = 0.001\n",
        "\n",
        "loss_fn = nn.CrossEntropyLoss(ignore_index=-100, weight=weights)\n",
        "optimizer = optim.NAdam(model.parameters(), lr=learning_rate)\n",
        "scheduler = ReduceLROnPlateau(optimizer, 'min')\n",
        "\n",
        "n_epochs = 15\n",
        "\n",
        "\n"
      ]
    },
    {
      "cell_type": "code",
      "execution_count": null,
      "metadata": {
        "id": "Ao6sXfoBW0ig"
      },
      "outputs": [],
      "source": [
        "\n",
        "def train_loop(dataloader, model, loss_fn, optimizer):\n",
        "  size = len(dataloader.dataset) #4476\n",
        "  model.train()\n",
        "  total_loss = 0.0\n",
        "\n",
        "  for i, batch in enumerate(dataloader, 0):\n",
        "      inputs = batch['embedding'].to(device)\n",
        "      labels = batch['aligned_labels'].to(device)\n",
        "\n",
        "\n",
        "      # Compute prediction and loss\n",
        "      logits = model(inputs)\n",
        "\n",
        "      logits = logits.view(-1, logits.shape[-1])\n",
        "      labels = labels.view(-1)\n",
        "\n",
        "      loss =  loss_fn(logits, labels)\n",
        "\n",
        "      # Backpropagation\n",
        "      loss.backward()\n",
        "      optimizer.step()\n",
        "      optimizer.zero_grad()\n",
        "\n",
        "      total_loss += loss.item()\n",
        "\n",
        "\n",
        "      if i % 100 == 0:\n",
        "            loss, current = loss.item(), (i + 1) * len(inputs)\n",
        "            print(f\"train_loss: {round(loss, 4):>7f}  [{current:>5d}/{size:>5d}]\")\n",
        "\n",
        "  return total_loss / len(dataloader)\n",
        "\n",
        "\n",
        "def test_loop(dataloader, model, loss_fn):\n",
        "    model.eval()\n",
        "\n",
        "    size = len(dataloader.dataset) #249 = total number of validation samples\n",
        "    num_batches = len(dataloader)   #9\n",
        "\n",
        "    test_loss = 0.0\n",
        "    # correct =  0\n",
        "\n",
        "    # all_predictions = []\n",
        "    # all_labels = []\n",
        "    acc = 0.0\n",
        "    F1 = 0.0\n",
        "    recall = 0.0\n",
        "    perc = 0.0\n",
        "\n",
        "\n",
        "    with torch.no_grad():\n",
        "\n",
        "      for i, batch in enumerate(dataloader, 0):\n",
        "          inputs = batch['embedding'].to(device)\n",
        "          labels = batch['aligned_labels'].to(device)\n",
        "\n",
        "          # outputs = model(inputs)\n",
        "          logits = model(inputs)\n",
        "\n",
        "          logits = logits.view(-1, logits.shape[-1])\n",
        "          labels = labels.view(-1)\n",
        "\n",
        "          loss =  loss_fn(logits, labels)\n",
        "\n",
        "          test_loss += loss.item()\n",
        "\n",
        "          if i % 100 == 0:\n",
        "            loss, current = loss.item(), (i + 1) * len(inputs)\n",
        "            print(f\"test_loss: {round(loss, 4):>7f}  [{current:>5d}/{size:>5d}]\")\n",
        "\n",
        "          # calculate metrics using ignit\n",
        "          acc += acc_metric(logits, labels)\n",
        "          F1 += F1_metric(logits, labels)\n",
        "          perc += percision_metric(logits, labels)\n",
        "          recall += recall_metric(logits, labels)\n",
        "\n",
        "\n",
        "\n",
        "    precision = perc/num_batches\n",
        "    recall = recall/num_batches\n",
        "    F1 = F1/num_batches\n",
        "    accuracy = acc/num_batches\n",
        "    g1 = (2*(accuracy * recall)) / (accuracy + recall)\n",
        "\n",
        "\n",
        "    # Print or log the evaluation metrics\n",
        "    print(f\"Precision: {precision:.4f}\")\n",
        "    print(f\"Recall: {recall:.4f}\")\n",
        "    print(f\"F1 Score: {F1:.4f}\")\n",
        "    print(f\"accuracy: {accuracy:.4f}\")\n",
        "    print(f\"G1 Score: {g1:.4f}\")\n",
        "    # print(f\"Precision: {precision:.4f}\")\n",
        "    # print(f\"Recall: {recall:.4f}\")\n",
        "    # print(f\"F1 Score: {f1:.4f}\")\n",
        "\n",
        "    # correct /= size\n",
        "    avr_test_loss = test_loss / len(dataloader)\n",
        "\n",
        "    print(f\"Avg test_loss: {avr_test_loss:>8f} \\n\")\n",
        "\n",
        "\n",
        "\n",
        "    return avr_test_loss"
      ]
    },
    {
      "cell_type": "code",
      "execution_count": null,
      "metadata": {
        "colab": {
          "base_uri": "https://localhost:8080/"
        },
        "id": "FiINFOpsW6F5",
        "outputId": "c1be40a6-fcab-4634-cb5b-0b4d713ab2b3"
      },
      "outputs": [
        {
          "name": "stdout",
          "output_type": "stream",
          "text": [
            "Model structure: TokenClassifier(\n",
            "  (flatten): Flatten(start_dim=1, end_dim=-1)\n",
            "  (dropout): Dropout(p=0.7, inplace=False)\n",
            "  (layers): Sequential(\n",
            "    (0): Linear(in_features=768, out_features=32, bias=True)\n",
            "    (1): LeakyReLU(negative_slope=0.01)\n",
            "    (2): Linear(in_features=32, out_features=16, bias=True)\n",
            "    (3): LeakyReLU(negative_slope=0.01)\n",
            "    (4): Linear(in_features=16, out_features=16, bias=True)\n",
            "    (5): LeakyReLU(negative_slope=0.01)\n",
            "    (6): Dropout(p=0.7, inplace=False)\n",
            "    (7): Linear(in_features=16, out_features=2, bias=True)\n",
            "  )\n",
            ")\n",
            "\n",
            "\n",
            "Layer: layers.0.weight | Mean: 0.00029602154972963035 | Std: 0.050884976983070374 | Values : tensor([[ 0.0172,  0.0550,  0.0427,  ..., -0.0675,  0.0443, -0.0534],\n",
            "        [-0.0663, -0.0397,  0.0605,  ..., -0.0182,  0.0466, -0.0829]],\n",
            "       grad_fn=<SliceBackward0>) \n",
            "\n",
            "Layer: layers.2.weight | Mean: -0.01516300905495882 | Std: 0.2435980588197708 | Values : tensor([[ 0.3902,  0.0089,  0.1782, -0.3817, -0.0205, -0.2448, -0.3407,  0.3579,\n",
            "          0.2365,  0.0080, -0.1908,  0.1187,  0.2746,  0.0553, -0.3862,  0.3071,\n",
            "          0.0902,  0.3972, -0.2842,  0.3941,  0.2391, -0.1711,  0.0252,  0.4284,\n",
            "         -0.3768,  0.1245, -0.2289, -0.1921, -0.1886,  0.0361, -0.2511, -0.2174],\n",
            "        [ 0.1827, -0.0987,  0.1596, -0.0401,  0.1951,  0.2474,  0.2596, -0.0733,\n",
            "          0.0737, -0.3897,  0.2013,  0.2296,  0.0482, -0.0847, -0.1787,  0.2951,\n",
            "         -0.2391,  0.0758, -0.3410, -0.2021,  0.3670, -0.0271, -0.3977, -0.3461,\n",
            "          0.1547,  0.4314, -0.2361,  0.0005, -0.1108, -0.1011, -0.0582,  0.1826]],\n",
            "       grad_fn=<SliceBackward0>) \n",
            "\n",
            "Layer: layers.4.weight | Mean: 0.003616633825004101 | Std: 0.35019350051879883 | Values : tensor([[-0.3909,  0.4895, -0.3885, -0.4441, -0.2010,  0.3486,  0.2640, -0.0694,\n",
            "         -0.3620, -0.2613, -0.0553, -0.0990, -0.5708, -0.0412, -0.2747, -0.5588],\n",
            "        [ 0.1607, -0.3734,  0.5197,  0.1270,  0.0918,  0.6045,  0.3629,  0.2454,\n",
            "         -0.2735, -0.0250,  0.0620,  0.5164,  0.2438, -0.3817, -0.4856, -0.1405]],\n",
            "       grad_fn=<SliceBackward0>) \n",
            "\n",
            "Layer: layers.7.weight | Mean: -0.07537516206502914 | Std: 0.38540756702423096 | Values : tensor([[-0.4377,  0.2719, -0.3144,  0.3073,  0.2178,  0.5202,  0.2989,  0.5699,\n",
            "          0.0551,  0.5622, -0.4622, -0.4476, -0.2354, -0.4207, -0.3277,  0.2464],\n",
            "        [-0.0964, -0.4469, -0.4198, -0.3092,  0.3866,  0.4727, -0.2001, -0.3042,\n",
            "         -0.4366, -0.4915,  0.5621,  0.0465, -0.1278, -0.4264, -0.4799, -0.5449]],\n",
            "       grad_fn=<SliceBackward0>) \n",
            "\n"
          ]
        }
      ],
      "source": [
        "print(f\"Model structure: {model}\\n\\n\")\n",
        "\n",
        "for name, param in model.named_parameters():\n",
        "  if 'weight' in name:\n",
        "        print(f'Layer: {name} | Mean: {param.mean().item()} | Std: {param.std().item()} | Values : {param[:2]} \\n')\n",
        "\n"
      ]
    },
    {
      "cell_type": "code",
      "execution_count": null,
      "metadata": {
        "colab": {
          "base_uri": "https://localhost:8080/"
        },
        "id": "E4tGEHGOW6sT",
        "outputId": "2191fdd7-5a20-4686-e5ac-8bf23094e117"
      },
      "outputs": [
        {
          "name": "stdout",
          "output_type": "stream",
          "text": [
            "Epoch 1\n",
            "-------------------------------\n",
            "train_loss: 0.563700  [   30/ 4476]\n",
            "train_loss: 0.518400  [ 3030/ 4476]\n",
            "test_loss: 0.610800  [   30/  249]\n",
            "Precision: 0.5096\n",
            "Recall: 0.4321\n",
            "F1 Score: 0.4321\n",
            "accuracy: 0.8055\n",
            "G1 Score: 0.5625\n",
            "Avg test_loss: 0.480997 \n",
            "\n",
            "Epoch 2\n",
            "-------------------------------\n",
            "train_loss: 0.588900  [   30/ 4476]\n",
            "train_loss: 0.801100  [ 3030/ 4476]\n",
            "test_loss: 0.330000  [   30/  249]\n",
            "Precision: 0.5122\n",
            "Recall: 0.4589\n",
            "F1 Score: 0.4589\n",
            "accuracy: 0.8405\n",
            "G1 Score: 0.5937\n",
            "Avg test_loss: 0.369417 \n",
            "\n",
            "Epoch 3\n",
            "-------------------------------\n",
            "train_loss: 0.464400  [   30/ 4476]\n",
            "train_loss: 0.360600  [ 3030/ 4476]\n",
            "test_loss: 0.291100  [   30/  249]\n",
            "Precision: 0.5122\n",
            "Recall: 0.4601\n",
            "F1 Score: 0.4601\n",
            "accuracy: 0.8477\n",
            "G1 Score: 0.5964\n",
            "Avg test_loss: 0.358399 \n",
            "\n",
            "Epoch 4\n",
            "-------------------------------\n",
            "train_loss: 0.387100  [   30/ 4476]\n",
            "train_loss: 0.378900  [ 3030/ 4476]\n",
            "test_loss: 0.270300  [   30/  249]\n",
            "Precision: 0.5119\n",
            "Recall: 0.4579\n",
            "F1 Score: 0.4579\n",
            "accuracy: 0.8199\n",
            "G1 Score: 0.5876\n",
            "Avg test_loss: 0.374554 \n",
            "\n",
            "Epoch 5\n",
            "-------------------------------\n",
            "train_loss: 0.279900  [   30/ 4476]\n",
            "train_loss: 0.259800  [ 3030/ 4476]\n",
            "test_loss: 0.468600  [   30/  249]\n",
            "Precision: 0.5108\n",
            "Recall: 0.4488\n",
            "F1 Score: 0.4488\n",
            "accuracy: 0.8160\n",
            "G1 Score: 0.5791\n",
            "Avg test_loss: 0.365930 \n",
            "\n",
            "Epoch 6\n",
            "-------------------------------\n",
            "train_loss: 0.377200  [   30/ 4476]\n",
            "train_loss: 0.346900  [ 3030/ 4476]\n",
            "test_loss: 0.269700  [   30/  249]\n",
            "Precision: 0.5140\n",
            "Recall: 0.4715\n",
            "F1 Score: 0.4715\n",
            "accuracy: 0.8502\n",
            "G1 Score: 0.6066\n",
            "Avg test_loss: 0.364748 \n",
            "\n",
            "Epoch 7\n",
            "-------------------------------\n",
            "train_loss: 0.340700  [   30/ 4476]\n",
            "train_loss: 0.335900  [ 3030/ 4476]\n",
            "test_loss: 0.781400  [   30/  249]\n",
            "Precision: 0.5142\n",
            "Recall: 0.4779\n",
            "F1 Score: 0.4779\n",
            "accuracy: 0.8118\n",
            "G1 Score: 0.6016\n",
            "Avg test_loss: 0.366127 \n",
            "\n",
            "Epoch 8\n",
            "-------------------------------\n",
            "train_loss: 0.369000  [   30/ 4476]\n",
            "train_loss: 0.797600  [ 3030/ 4476]\n",
            "test_loss: 0.411200  [   30/  249]\n",
            "Precision: 0.5139\n",
            "Recall: 0.4748\n",
            "F1 Score: 0.4748\n",
            "accuracy: 0.8308\n",
            "G1 Score: 0.6043\n",
            "Avg test_loss: 0.377233 \n",
            "\n",
            "Epoch 9\n",
            "-------------------------------\n",
            "train_loss: 0.302200  [   30/ 4476]\n",
            "train_loss: 0.408600  [ 3030/ 4476]\n",
            "test_loss: 0.397600  [   30/  249]\n",
            "Precision: 0.5179\n",
            "Recall: 0.4951\n",
            "F1 Score: 0.4951\n",
            "accuracy: 0.8585\n",
            "G1 Score: 0.6280\n",
            "Avg test_loss: 0.443481 \n",
            "\n",
            "Epoch 10\n",
            "-------------------------------\n",
            "train_loss: 0.290700  [   30/ 4476]\n",
            "train_loss: 0.267200  [ 3030/ 4476]\n",
            "test_loss: 0.215600  [   30/  249]\n",
            "Precision: 0.5136\n",
            "Recall: 0.4762\n",
            "F1 Score: 0.4762\n",
            "accuracy: 0.8189\n",
            "G1 Score: 0.6022\n",
            "Avg test_loss: 0.458971 \n",
            "\n",
            "Epoch 11\n",
            "-------------------------------\n",
            "train_loss: 0.272500  [   30/ 4476]\n",
            "train_loss: 0.310800  [ 3030/ 4476]\n",
            "test_loss: 0.396400  [   30/  249]\n",
            "Precision: 0.5191\n",
            "Recall: 0.4955\n",
            "F1 Score: 0.4955\n",
            "accuracy: 0.8613\n",
            "G1 Score: 0.6291\n",
            "Avg test_loss: 0.431799 \n",
            "\n",
            "Epoch 12\n",
            "-------------------------------\n",
            "train_loss: 0.253700  [   30/ 4476]\n",
            "train_loss: 0.287100  [ 3030/ 4476]\n",
            "test_loss: 0.421000  [   30/  249]\n",
            "Precision: 0.5145\n",
            "Recall: 0.4646\n",
            "F1 Score: 0.4646\n",
            "accuracy: 0.8397\n",
            "G1 Score: 0.5982\n",
            "Avg test_loss: 0.326477 \n",
            "\n",
            "Epoch 13\n",
            "-------------------------------\n",
            "train_loss: 0.282400  [   30/ 4476]\n",
            "train_loss: 0.502200  [ 3030/ 4476]\n",
            "test_loss: 0.361100  [   30/  249]\n",
            "Precision: 0.5146\n",
            "Recall: 0.4776\n",
            "F1 Score: 0.4776\n",
            "accuracy: 0.8625\n",
            "G1 Score: 0.6148\n",
            "Avg test_loss: 0.415386 \n",
            "\n",
            "Epoch 14\n",
            "-------------------------------\n",
            "train_loss: 0.254100  [   30/ 4476]\n",
            "train_loss: 0.253400  [ 3030/ 4476]\n",
            "test_loss: 0.533400  [   30/  249]\n",
            "Precision: 0.5157\n",
            "Recall: 0.4834\n",
            "F1 Score: 0.4834\n",
            "accuracy: 0.8614\n",
            "G1 Score: 0.6193\n",
            "Avg test_loss: 0.426306 \n",
            "\n",
            "Epoch 15\n",
            "-------------------------------\n",
            "train_loss: 0.219000  [   30/ 4476]\n",
            "train_loss: 0.288500  [ 3030/ 4476]\n",
            "test_loss: 0.341100  [   30/  249]\n",
            "Precision: 0.5157\n",
            "Recall: 0.4854\n",
            "F1 Score: 0.4854\n",
            "accuracy: 0.8223\n",
            "G1 Score: 0.6104\n",
            "Avg test_loss: 0.456058 \n",
            "\n",
            "Done!\n"
          ]
        }
      ],
      "source": [
        "\n",
        "train_losses = []  # List to store training losses\n",
        "val_losses = []    # List to store validation losses\n",
        "\n",
        "\n",
        "for epoch in range(n_epochs):\n",
        "    print(f\"Epoch {epoch+1}\\n-------------------------------\")\n",
        "\n",
        "    train_loss = train_loop(trainloader, model, loss_fn, optimizer)\n",
        "    train_losses.append(train_loss)\n",
        "\n",
        "    val_loss = test_loop(validationloader, model, loss_fn)\n",
        "    val_losses.append(val_loss)\n",
        "\n",
        "    scheduler.step(val_loss)\n",
        "\n",
        "\n",
        "print(\"Done!\")"
      ]
    },
    {
      "cell_type": "code",
      "execution_count": null,
      "metadata": {
        "colab": {
          "base_uri": "https://localhost:8080/",
          "height": 472
        },
        "id": "7Mgp0mbYdR1X",
        "outputId": "2b8f2fd7-6653-4e40-cedb-366a76a9b5f3"
      },
      "outputs": [
        {
          "data": {
            "image/png": "[encoded data removed]",
            "text/plain": [
              "<Figure size 640x480 with 1 Axes>"
            ]
          },
          "metadata": {},
          "output_type": "display_data"
        }
      ],
      "source": [
        "plot_loss_curve(train_losses, val_losses)\n"
      ]
    },
    {
      "cell_type": "code",
      "execution_count": null,
      "metadata": {
        "colab": {
          "base_uri": "https://localhost:8080/"
        },
        "id": "WiReDcsgQGcE",
        "outputId": "653b2c21-1d5c-4575-9bb8-ed2dffe19331"
      },
      "outputs": [
        {
          "name": "stdout",
          "output_type": "stream",
          "text": [
            "torch.Size([6570, 2]) torch.Size([6570])\n"
          ]
        }
      ],
      "source": [
        "output = torch.randn(30, 219, 2)\n",
        "labels = torch.randn(30, 219)\n",
        "\n",
        "output = output.view(-1, output.shape[-1])\n",
        "labels = labels.view(-1)\n",
        "print(output.shape, labels.shape)"
      ]
    },
    {
      "cell_type": "code",
      "execution_count": null,
      "metadata": {
        "id": "ohuS5vbmpi5a"
      },
      "outputs": [],
      "source": [
        "torch.save(model, '/content/drive/MyDrive/modified_MLP_cwi.pth')"
      ]
    },
    {
      "cell_type": "markdown",
      "metadata": {
        "id": "x4JrEKF0IlgE"
      },
      "source": [
        "# Balance Random Forest and SVM"
      ]
    },
    {
      "cell_type": "markdown",
      "metadata": {
        "id": "3lN1KJ_qIyek"
      },
      "source": [
        "prepare data"
      ]
    },
    {
      "cell_type": "code",
      "execution_count": null,
      "metadata": {
        "id": "3OStBjQLnbve"
      },
      "outputs": [],
      "source": [
        "X = ds_train['embedding']\n",
        "y = ds_train['labels']"
      ]
    },
    {
      "cell_type": "code",
      "execution_count": null,
      "metadata": {
        "id": "FnXohokQxtGY"
      },
      "outputs": [],
      "source": [
        "X_test = ds_test['embedding']\n",
        "y_test = ds_test['labels']"
      ]
    },
    {
      "cell_type": "code",
      "execution_count": null,
      "metadata": {
        "id": "PLFho7Kxxjt9"
      },
      "outputs": [],
      "source": [
        "from sklearn import svm\n",
        "import numpy as np\n",
        "from sklearn.impute import SimpleImputer\n",
        "# handling Nan in X\n",
        "imp = SimpleImputer(missing_values=np.nan, strategy='mean')\n",
        "imp = imp.fit(X)\n",
        "\n",
        "X_train_imp = imp.transform(X)\n",
        "X_test_imp = imp.transform(X_test)\n",
        "\n",
        "# clf = svm.SVC()\n",
        "# clf = clf.fit(X_train_imp, y)\n",
        "# predictions = clf.predict(X_test_imp)\n"
      ]
    },
    {
      "cell_type": "markdown",
      "metadata": {
        "id": "-EcK6-KDI62L"
      },
      "source": [
        "SVM"
      ]
    },
    {
      "cell_type": "code",
      "execution_count": null,
      "metadata": {
        "colab": {
          "base_uri": "https://localhost:8080/",
          "height": 161
        },
        "id": "ULh0mwfx0o_L",
        "outputId": "acc397bf-9b5b-4ef8-dadd-033a77ba9dac"
      },
      "outputs": [
        {
          "name": "stderr",
          "output_type": "stream",
          "text": [
            "/usr/local/lib/python3.10/dist-packages/sklearn/svm/_base.py:1244: ConvergenceWarning: Liblinear failed to converge, increase the number of iterations.\n",
            "  warnings.warn(\n"
          ]
        },
        {
          "data": {
            "text/html": [
              "<style>#sk-container-id-1 {color: black;background-color: white;}#sk-container-id-1 pre{padding: 0;}#sk-container-id-1 div.sk-toggleable {background-color: white;}#sk-container-id-1 label.sk-toggleable__label {cursor: pointer;display: block;width: 100%;margin-bottom: 0;padding: 0.3em;box-sizing: border-box;text-align: center;}#sk-container-id-1 label.sk-toggleable__label-arrow:before {content: \"▸\";float: left;margin-right: 0.25em;color: #696969;}#sk-container-id-1 label.sk-toggleable__label-arrow:hover:before {color: black;}#sk-container-id-1 div.sk-estimator:hover label.sk-toggleable__label-arrow:before {color: black;}#sk-container-id-1 div.sk-toggleable__content {max-height: 0;max-width: 0;overflow: hidden;text-align: left;background-color: #f0f8ff;}#sk-container-id-1 div.sk-toggleable__content pre {margin: 0.2em;color: black;border-radius: 0.25em;background-color: #f0f8ff;}#sk-container-id-1 input.sk-toggleable__control:checked~div.sk-toggleable__content {max-height: 200px;max-width: 100%;overflow: auto;}#sk-container-id-1 input.sk-toggleable__control:checked~label.sk-toggleable__label-arrow:before {content: \"▾\";}#sk-container-id-1 div.sk-estimator input.sk-toggleable__control:checked~label.sk-toggleable__label {background-color: #d4ebff;}#sk-container-id-1 div.sk-label input.sk-toggleable__control:checked~label.sk-toggleable__label {background-color: #d4ebff;}#sk-container-id-1 input.sk-hidden--visually {border: 0;clip: rect(1px 1px 1px 1px);clip: rect(1px, 1px, 1px, 1px);height: 1px;margin: -1px;overflow: hidden;padding: 0;position: absolute;width: 1px;}#sk-container-id-1 div.sk-estimator {font-family: monospace;background-color: #f0f8ff;border: 1px dotted black;border-radius: 0.25em;box-sizing: border-box;margin-bottom: 0.5em;}#sk-container-id-1 div.sk-estimator:hover {background-color: #d4ebff;}#sk-container-id-1 div.sk-parallel-item::after {content: \"\";width: 100%;border-bottom: 1px solid gray;flex-grow: 1;}#sk-container-id-1 div.sk-label:hover label.sk-toggleable__label {background-color: #d4ebff;}#sk-container-id-1 div.sk-serial::before {content: \"\";position: absolute;border-left: 1px solid gray;box-sizing: border-box;top: 0;bottom: 0;left: 50%;z-index: 0;}#sk-container-id-1 div.sk-serial {display: flex;flex-direction: column;align-items: center;background-color: white;padding-right: 0.2em;padding-left: 0.2em;position: relative;}#sk-container-id-1 div.sk-item {position: relative;z-index: 1;}#sk-container-id-1 div.sk-parallel {display: flex;align-items: stretch;justify-content: center;background-color: white;position: relative;}#sk-container-id-1 div.sk-item::before, #sk-container-id-1 div.sk-parallel-item::before {content: \"\";position: absolute;border-left: 1px solid gray;box-sizing: border-box;top: 0;bottom: 0;left: 50%;z-index: -1;}#sk-container-id-1 div.sk-parallel-item {display: flex;flex-direction: column;z-index: 1;position: relative;background-color: white;}#sk-container-id-1 div.sk-parallel-item:first-child::after {align-self: flex-end;width: 50%;}#sk-container-id-1 div.sk-parallel-item:last-child::after {align-self: flex-start;width: 50%;}#sk-container-id-1 div.sk-parallel-item:only-child::after {width: 0;}#sk-container-id-1 div.sk-dashed-wrapped {border: 1px dashed gray;margin: 0 0.4em 0.5em 0.4em;box-sizing: border-box;padding-bottom: 0.4em;background-color: white;}#sk-container-id-1 div.sk-label label {font-family: monospace;font-weight: bold;display: inline-block;line-height: 1.2em;}#sk-container-id-1 div.sk-label-container {text-align: center;}#sk-container-id-1 div.sk-container {/* jupyter's `normalize.less` sets `[hidden] { display: none; }` but bootstrap.min.css set `[hidden] { display: none !important; }` so we also need the `!important` here to be able to override the default hidden behavior on the sphinx rendered scikit-learn.org. See: https://github.com/scikit-learn/scikit-learn/issues/21755 */display: inline-block !important;position: relative;}#sk-container-id-1 div.sk-text-repr-fallback {display: none;}</style><div id=\"sk-container-id-1\" class=\"sk-top-container\"><div class=\"sk-text-repr-fallback\"><pre>Pipeline(steps=[(&#x27;scaler&#x27;, StandardScaler()),\n",
              "                (&#x27;linear_svc&#x27;,\n",
              "                 LinearSVC(C=1, class_weight=&#x27;balanced&#x27;, loss=&#x27;hinge&#x27;))])</pre><b>In a Jupyter environment, please rerun this cell to show the HTML representation or trust the notebook. <br />On GitHub, the HTML representation is unable to render, please try loading this page with nbviewer.org.</b></div><div class=\"sk-container\" hidden><div class=\"sk-item sk-dashed-wrapped\"><div class=\"sk-label-container\"><div class=\"sk-label sk-toggleable\"><input class=\"sk-toggleable__control sk-hidden--visually\" id=\"sk-estimator-id-1\" type=\"checkbox\" ><label for=\"sk-estimator-id-1\" class=\"sk-toggleable__label sk-toggleable__label-arrow\">Pipeline</label><div class=\"sk-toggleable__content\"><pre>Pipeline(steps=[(&#x27;scaler&#x27;, StandardScaler()),\n",
              "                (&#x27;linear_svc&#x27;,\n",
              "                 LinearSVC(C=1, class_weight=&#x27;balanced&#x27;, loss=&#x27;hinge&#x27;))])</pre></div></div></div><div class=\"sk-serial\"><div class=\"sk-item\"><div class=\"sk-estimator sk-toggleable\"><input class=\"sk-toggleable__control sk-hidden--visually\" id=\"sk-estimator-id-2\" type=\"checkbox\" ><label for=\"sk-estimator-id-2\" class=\"sk-toggleable__label sk-toggleable__label-arrow\">StandardScaler</label><div class=\"sk-toggleable__content\"><pre>StandardScaler()</pre></div></div></div><div class=\"sk-item\"><div class=\"sk-estimator sk-toggleable\"><input class=\"sk-toggleable__control sk-hidden--visually\" id=\"sk-estimator-id-3\" type=\"checkbox\" ><label for=\"sk-estimator-id-3\" class=\"sk-toggleable__label sk-toggleable__label-arrow\">LinearSVC</label><div class=\"sk-toggleable__content\"><pre>LinearSVC(C=1, class_weight=&#x27;balanced&#x27;, loss=&#x27;hinge&#x27;)</pre></div></div></div></div></div></div></div>"
            ],
            "text/plain": [
              "Pipeline(steps=[('scaler', StandardScaler()),\n",
              "                ('linear_svc',\n",
              "                 LinearSVC(C=1, class_weight='balanced', loss='hinge'))])"
            ]
          },
          "execution_count": 19,
          "metadata": {},
          "output_type": "execute_result"
        }
      ],
      "source": [
        "svm_clf = Pipeline([\n",
        "(\"scaler\", StandardScaler()),\n",
        "(\"linear_svc\", LinearSVC(C=1, loss=\"hinge\", class_weight='balanced')),\n",
        "])\n",
        "svm_clf.fit(X_train_imp, y)"
      ]
    },
    {
      "cell_type": "code",
      "execution_count": null,
      "metadata": {
        "colab": {
          "base_uri": "https://localhost:8080/",
          "height": 715
        },
        "id": "eSgfE1kAe7tv",
        "outputId": "5ce000a4-dfbe-4394-9f5e-2c9ab6e5861a"
      },
      "outputs": [
        {
          "name": "stdout",
          "output_type": "stream",
          "text": [
            "Confusion Matrix:\n",
            "[[138  42]\n",
            " [ 45  25]]\n",
            "\n",
            "Classification Report:\n",
            "              precision    recall  f1-score   support\n",
            "\n",
            "           0       0.75      0.77      0.76       180\n",
            "           1       0.37      0.36      0.36        70\n",
            "\n",
            "    accuracy                           0.65       250\n",
            "   macro avg       0.56      0.56      0.56       250\n",
            "weighted avg       0.65      0.65      0.65       250\n",
            "\n"
          ]
        },
        {
          "data": {
            "image/png": "[encoded data removed]",
            "text/plain": [
              "<Figure size 640x480 with 1 Axes>"
            ]
          },
          "metadata": {},
          "output_type": "display_data"
        }
      ],
      "source": [
        "from sklearn.metrics import confusion_matrix, classification_report, roc_curve, roc_auc_score\n",
        "import matplotlib.pyplot as plt\n",
        "\n",
        "\n",
        "# Compute confusion matrix\n",
        "conf_matrix = confusion_matrix(y_test, y_pred)\n",
        "print(\"Confusion Matrix:\")\n",
        "print(conf_matrix)\n",
        "\n",
        "# Compute classification report\n",
        "print(\"\\nClassification Report:\")\n",
        "print(classification_report(y_test, y_pred))\n",
        "\n",
        "# Compute ROC curve and AUC score\n",
        "y_scores = svm_clf.decision_function(X_test_imp)\n",
        "fpr, tpr, thresholds = roc_curve(y_test, y_scores)\n",
        "auc = roc_auc_score(y_test, y_scores)\n",
        "\n",
        "# Plot ROC curve\n",
        "plt.figure()\n",
        "plt.plot(fpr, tpr, label=f'ROC curve (AUC = {auc:.2f})')\n",
        "plt.plot([0, 1], [0, 1], 'k--')\n",
        "plt.xlabel('False Positive Rate')\n",
        "plt.ylabel('True Positive Rate')\n",
        "plt.title('ROC Curve')\n",
        "plt.legend()\n",
        "plt.show()\n"
      ]
    },
    {
      "cell_type": "markdown",
      "metadata": {
        "id": "IbfG-KbMLFh2"
      },
      "source": [
        "BRF"
      ]
    },
    {
      "cell_type": "code",
      "execution_count": null,
      "metadata": {
        "id": "f1jg7EtPj3zC"
      },
      "outputs": [],
      "source": [
        "!pip install -U imbalanced-learn\n"
      ]
    },
    {
      "cell_type": "code",
      "execution_count": null,
      "metadata": {
        "colab": {
          "base_uri": "https://localhost:8080/"
        },
        "id": "JaWXwtqzkKrC",
        "outputId": "06ba8bb6-78c6-437c-9f6e-eb8cf624f1e8"
      },
      "outputs": [
        {
          "name": "stderr",
          "output_type": "stream",
          "text": [
            "/usr/local/lib/python3.10/dist-packages/imblearn/ensemble/_forest.py:577: FutureWarning: The default of `sampling_strategy` will change from `'auto'` to `'all'` in version 0.13. This change will follow the implementation proposed in the original paper. Set to `'all'` to silence this warning and adopt the future behaviour.\n",
            "  warn(\n",
            "/usr/local/lib/python3.10/dist-packages/imblearn/ensemble/_forest.py:589: FutureWarning: The default of `replacement` will change from `False` to `True` in version 0.13. This change will follow the implementation proposed in the original paper. Set to `True` to silence this warning and adopt the future behaviour.\n",
            "  warn(\n",
            "/usr/local/lib/python3.10/dist-packages/imblearn/ensemble/_forest.py:601: FutureWarning: The default of `bootstrap` will change from `True` to `False` in version 0.13. This change will follow the implementation proposed in the original paper. Set to `False` to silence this warning and adopt the future behaviour.\n",
            "  warn(\n"
          ]
        },
        {
          "name": "stdout",
          "output_type": "stream",
          "text": [
            "Classification Report:\n",
            "              precision    recall  f1-score   support\n",
            "\n",
            "           0       0.75      0.77      0.76       180\n",
            "           1       0.37      0.36      0.36        70\n",
            "\n",
            "    accuracy                           0.65       250\n",
            "   macro avg       0.56      0.56      0.56       250\n",
            "weighted avg       0.65      0.65      0.65       250\n",
            "\n"
          ]
        }
      ],
      "source": [
        "from imblearn.ensemble import BalancedRandomForestClassifier\n",
        "from sklearn.metrics import classification_report\n",
        "\n",
        "# Assuming X_train_imp, y_train are your training data\n",
        "# and X_test_imp, y_test are your test data\n",
        "\n",
        "# Define the BalancedRandomForestClassifier\n",
        "brf_clf = BalancedRandomForestClassifier(n_estimators=100, random_state=4, class_weight='balanced')\n",
        "\n",
        "# Fit the model\n",
        "brf_clf.fit(X_train_imp, y)\n",
        "\n",
        "# Make predictions\n",
        "y_pred = brf_clf.predict(X_test_imp)\n",
        "\n",
        "# Print classification report\n",
        "print(\"Classification Report:\")\n",
        "print(classification_report(y_test, y_pred))\n"
      ]
    },
    {
      "cell_type": "markdown",
      "metadata": {
        "id": "A10l56LsJRCy"
      },
      "source": [
        "# complex word identification model by finetunning parsbert\n"
      ]
    },
    {
      "cell_type": "markdown",
      "metadata": {
        "id": "sRwmC1fmZS_9"
      },
      "source": [
        "**prepare data phase 2 (prepare data for transformers, tokenize and allign labels)**"
      ]
    },
    {
      "cell_type": "code",
      "execution_count": null,
      "metadata": {
        "id": "ihJFs1FZWTi9"
      },
      "outputs": [],
      "source": [
        "model_checkpoint = 'FacebookAI/xlm-roberta-large-finetuned-conll03-english'\n",
        "roberta_tokenizer = AutoTokenizer.from_pretrained(model_checkpoint)"
      ]
    },
    {
      "cell_type": "code",
      "execution_count": null,
      "metadata": {
        "id": "T6gPTYna2WLr"
      },
      "outputs": [],
      "source": [
        "# def tokenize_and_align_labels(token, label, model_tokenizer=trial_tokenizer): #batch_data\n",
        "def tokenize_and_align_labels(examples):\n",
        "    max_length = 219\n",
        "    tokenized_inputs = roberta_tokenizer(examples['tokens'], truncation=True, is_split_into_words=True, padding= 'max_length', max_length=max_length,\n",
        "                                   add_special_tokens=True # Add special tokens CLS and SEP)\n",
        "    )\n",
        "\n",
        "    L_dic ={}\n",
        "    # P_dic = {}\n",
        "    # start_end_dic = {}\n",
        "\n",
        "    label_ids = []\n",
        "    # prob_ids = []\n",
        "    # start_end_ids = []\n",
        "\n",
        "    for i, label in enumerate(examples['label']):   #batch_data['label']\n",
        "        word_ids = tokenized_inputs.word_ids()  # Map tokens to their respective word.\n",
        "        previous_word_idx = None\n",
        "        L_dic[i] = label    #key is word_index and value is label of that word_index\n",
        "\n",
        "    # for i, prob in enumerate(example['complex_prob']):\n",
        "    #     P_dic[i] = prob    #key is word_index and value is label of that word_index\n",
        "\n",
        "    # for i, s_e_idx in enumerate(example['start_end']):\n",
        "    #     start_end_dic[i] = s_e_idx    #key is word_index and value is label of that word_index\n",
        "\n",
        "\n",
        "    for word_idx in word_ids:  # Set the special tokens to -100.\n",
        "\n",
        "        if word_idx is None:\n",
        "            label_ids.append(-100)\n",
        "            # prob_ids.append(-100)\n",
        "            # start_end_ids.append(-100)\n",
        "\n",
        "        elif word_idx != previous_word_idx:  # Only label the first token of a given word.\n",
        "            label_ids.append(L_dic[word_idx])\n",
        "            # prob_ids.append(P_dic[word_idx])\n",
        "            # start_end_ids.append(start_end_dic[word_idx])\n",
        "        else:\n",
        "            label_ids.append(-100)\n",
        "            # prob_ids.append(-100)\n",
        "            # start_end_ids.append(-100)\n",
        "\n",
        "        previous_word_idx = word_idx\n",
        "\n",
        "    tokenized_inputs[\"aligned_labels\"] = label_ids\n",
        "    # tokenized_inputs[\"c_prob\"] = prob_ids\n",
        "    # tokenized_inputs[\"s_e_idx\"] = start_end_ids\n",
        "\n",
        "    return tokenized_inputs"
      ]
    },
    {
      "cell_type": "code",
      "execution_count": null,
      "metadata": {
        "id": "sax47K6DF8r2"
      },
      "outputs": [],
      "source": [
        "tokenized_data_train = train_test_valid_dataset['train'].map(tokenize_and_align_labels,)\n"
      ]
    },
    {
      "cell_type": "code",
      "execution_count": null,
      "metadata": {
        "id": "F0h3Izz56Cx8"
      },
      "outputs": [],
      "source": [
        "tokenized_data_test = train_test_valid_dataset['test'].map(tokenize_and_align_labels,)\n"
      ]
    },
    {
      "cell_type": "code",
      "execution_count": null,
      "metadata": {
        "id": "5MdQWEd06EFN"
      },
      "outputs": [],
      "source": [
        "tokenized_data_val = train_test_valid_dataset['valid'].map(tokenize_and_align_labels,)"
      ]
    },
    {
      "cell_type": "code",
      "execution_count": null,
      "metadata": {
        "colab": {
          "base_uri": "https://localhost:8080/"
        },
        "id": "11Czxto9sy-j",
        "outputId": "e36e768b-655d-45d6-a1fc-11db06c24cf3"
      },
      "outputs": [
        {
          "data": {
            "text/plain": [
              "Dataset({\n",
              "    features: ['id', 'tokens', 'start_end', 'label', 'complex_prob', 'input_ids', 'attention_mask', 'aligned_labels'],\n",
              "    num_rows: 4476\n",
              "})"
            ]
          },
          "execution_count": 33,
          "metadata": {},
          "output_type": "execute_result"
        }
      ],
      "source": [
        "tokenized_data_train"
      ]
    },
    {
      "cell_type": "code",
      "execution_count": null,
      "metadata": {
        "id": "4sWgP_RujdpM"
      },
      "outputs": [],
      "source": [
        "# working with parsbert\n",
        "tensor_train_dataset = tokenized_data_train.with_format(\"torch\")\n",
        "tensor_test_dataset = tokenized_data_test.with_format(\"torch\")\n",
        "tensor_val_dataset = tokenized_data_val.with_format(\"torch\")"
      ]
    },
    {
      "cell_type": "code",
      "execution_count": null,
      "metadata": {
        "id": "7K1V0ghn-k_2"
      },
      "outputs": [],
      "source": [
        "from datasets import Dataset, DatasetDict, concatenate_datasets"
      ]
    },
    {
      "cell_type": "code",
      "execution_count": null,
      "metadata": {
        "id": "gzGc7HNl-ZHJ"
      },
      "outputs": [],
      "source": [
        "concatenated_dataset = concatenate_datasets([tensor_train_dataset, tensor_test_dataset, tensor_test_dataset])\n",
        "# concatenated_dataset"
      ]
    },
    {
      "cell_type": "code",
      "execution_count": null,
      "metadata": {
        "colab": {
          "base_uri": "https://localhost:8080/"
        },
        "id": "_joA8mfkiShX",
        "outputId": "d31821e3-52b6-4b0c-9607-4666d8c3b11d"
      },
      "outputs": [
        {
          "data": {
            "text/plain": [
              "Dataset({\n",
              "    features: ['id', 'tokens', 'start_end', 'label', 'complex_prob', 'input_ids', 'attention_mask', 'aligned_labels'],\n",
              "    num_rows: 4974\n",
              "})"
            ]
          },
          "execution_count": 37,
          "metadata": {},
          "output_type": "execute_result"
        }
      ],
      "source": [
        "concatenated_dataset"
      ]
    },
    {
      "cell_type": "markdown",
      "metadata": {
        "id": "4x85DBNaZzbW"
      },
      "source": [
        "**save and retain dataset**"
      ]
    },
    {
      "cell_type": "code",
      "execution_count": null,
      "metadata": {
        "id": "JAe78t5FXG2o"
      },
      "outputs": [],
      "source": [
        "bert_path = '/content/drive/MyDrive/bert_tokenized_data'\n",
        "roberta_path = '/content/drive/MyDrive/roberta_tokenized_data'\n"
      ]
    },
    {
      "cell_type": "code",
      "execution_count": null,
      "metadata": {
        "id": "OutV2Z75KkoP"
      },
      "outputs": [],
      "source": [
        "# load presaved_tokenized + embeddings dataset in tensor format\n",
        "\n",
        "ds_train = load_from_disk(bert_path + '/train')\n",
        "ds_test = load_from_disk(bert_path+ '/test' )\n",
        "ds_val = load_from_disk(bert_path + '/val')"
      ]
    },
    {
      "cell_type": "code",
      "execution_count": null,
      "metadata": {
        "colab": {
          "base_uri": "https://localhost:8080/"
        },
        "id": "KKs60do1tSvD",
        "outputId": "cfe23742-9071-43a5-877a-1b1be9197868"
      },
      "outputs": [
        {
          "data": {
            "text/plain": [
              "Dataset({\n",
              "    features: ['id', 'tokens', 'start_end', 'label', 'complex_prob', 'input_ids', 'token_type_ids', 'attention_mask', 'aligned_labels'],\n",
              "    num_rows: 4476\n",
              "})"
            ]
          },
          "execution_count": 15,
          "metadata": {},
          "output_type": "execute_result"
        }
      ],
      "source": [
        "ds_train"
      ]
    },
    {
      "cell_type": "code",
      "execution_count": null,
      "metadata": {
        "id": "1P-qzIG4DLeN"
      },
      "outputs": [],
      "source": [
        "# rename and remove ds\n",
        "ds_train = ds_train.remove_columns(\"label\")\n",
        "ds_train = ds_train.rename_column(\"aligned_labels\", \"labels\")\n",
        "\n",
        "ds_test = ds_test.remove_columns(\"label\")\n",
        "ds_test = ds_test.rename_column(\"aligned_labels\", \"labels\")"
      ]
    },
    {
      "cell_type": "code",
      "execution_count": null,
      "metadata": {
        "id": "Db7OTkvech8T"
      },
      "outputs": [],
      "source": [
        "ds_train2 = ds_train.remove_columns(['id', 'tokens', 'start_end','complex_prob'])\n"
      ]
    },
    {
      "cell_type": "code",
      "execution_count": null,
      "metadata": {
        "colab": {
          "base_uri": "https://localhost:8080/"
        },
        "id": "iF3gytvNpfuh",
        "outputId": "94859fcf-4a38-41a3-8685-c566a2e1546a"
      },
      "outputs": [
        {
          "data": {
            "text/plain": [
              "Dataset({\n",
              "    features: ['input_ids', 'token_type_ids', 'attention_mask', 'labels'],\n",
              "    num_rows: 249\n",
              "})"
            ]
          },
          "execution_count": 19,
          "metadata": {},
          "output_type": "execute_result"
        }
      ],
      "source": [
        "ds_test2 = ds_test.remove_columns(['id', 'tokens', 'start_end','complex_prob'])\n",
        "ds_test2"
      ]
    },
    {
      "cell_type": "code",
      "execution_count": null,
      "metadata": {
        "colab": {
          "base_uri": "https://localhost:8080/"
        },
        "id": "-AnvFLN99zG1",
        "outputId": "faa01514-5771-4aa5-ac26-ed7041e55504"
      },
      "outputs": [
        {
          "name": "stdout",
          "output_type": "stream",
          "text": [
            "[0 1]\n"
          ]
        },
        {
          "data": {
            "text/plain": [
              "array([ 0.50352224, 71.47746698])"
            ]
          },
          "execution_count": 51,
          "metadata": {},
          "output_type": "execute_result"
        }
      ],
      "source": [
        "# calculate class weight\n",
        "from sklearn.utils.class_weight import compute_class_weight\n",
        "\n",
        "labels = ds_train2['labels']\n",
        "mask = (labels != -100)\n",
        "masked_labels = labels[mask]\n",
        "\n",
        "classes = np.unique(masked_labels)\n",
        "print(classes)\n",
        "weights = compute_class_weight(class_weight=\"balanced\", classes= classes, y= masked_labels.numpy())\n",
        "weights"
      ]
    },
    {
      "cell_type": "code",
      "execution_count": null,
      "metadata": {
        "id": "bgjUqlfDVOzh"
      },
      "outputs": [],
      "source": [
        "model_checkpoint_R = 'FacebookAI/xlm-roberta-large-finetuned-conll03-english'\n",
        "model_checkpoint_B = 'HooshvareLab/bert-base-parsbert-ner-uncased'\n",
        "llm_tokenizer = AutoTokenizer.from_pretrained(model_checkpoint_B)"
      ]
    },
    {
      "cell_type": "code",
      "execution_count": null,
      "metadata": {
        "id": "x6QfRhmpLLkc"
      },
      "outputs": [],
      "source": []
    },
    {
      "cell_type": "markdown",
      "metadata": {
        "id": "FOuzlQPKPqyW"
      },
      "source": [
        "**finetune**"
      ]
    },
    {
      "cell_type": "code",
      "execution_count": null,
      "metadata": {
        "id": "Pv2P366xQalX"
      },
      "outputs": [],
      "source": [
        "from transformers import DataCollatorForTokenClassification\n",
        "\n",
        "data_collator = DataCollatorForTokenClassification(tokenizer=llm_tokenizer)"
      ]
    },
    {
      "cell_type": "code",
      "execution_count": null,
      "metadata": {
        "id": "UmfDC6y7PtRG"
      },
      "outputs": [],
      "source": [
        "from torch.utils.data import DataLoader\n",
        "\n",
        "train_dataloader = DataLoader(\n",
        "    ds_train2,\n",
        "    shuffle=True,\n",
        "    collate_fn=data_collator,\n",
        "    batch_size=30,\n",
        ")\n",
        "eval_dataloader = DataLoader(\n",
        "    ds_test2, collate_fn=data_collator, batch_size=8\n",
        ")"
      ]
    },
    {
      "cell_type": "code",
      "execution_count": null,
      "metadata": {
        "id": "pQopx2T_Rt97"
      },
      "outputs": [],
      "source": [
        "id2label={0: 'non_complex', 1: 'complex'}"
      ]
    },
    {
      "cell_type": "code",
      "execution_count": null,
      "metadata": {
        "id": "Nm5JsN3tQrm-"
      },
      "outputs": [],
      "source": [
        "model = AutoModelForTokenClassification.from_pretrained(\n",
        "    model_checkpoint_B,\n",
        "    num_labels=2,\n",
        "    ignore_mismatched_sizes=True,\n",
        "    id2label=id2label\n",
        ")\n"
      ]
    },
    {
      "cell_type": "code",
      "execution_count": null,
      "metadata": {
        "id": "Nnb0VQcrSJ3D"
      },
      "outputs": [],
      "source": [
        "from torch.optim import AdamW\n",
        "from torch import nn\n",
        "\n",
        "optimizer = AdamW(model.parameters(), lr=2e-5)\n",
        "\n",
        "# loss_fct = nn.CrossEntropyLoss(weight=torch.tensor([0.68721065, 1.83539413]).to(device))\n"
      ]
    },
    {
      "cell_type": "code",
      "execution_count": null,
      "metadata": {
        "id": "TW0o0keASQwm"
      },
      "outputs": [],
      "source": [
        "from accelerate import Accelerator\n",
        "\n",
        "accelerator = Accelerator()\n",
        "model, optimizer, train_dataloader, eval_dataloader = accelerator.prepare(\n",
        "    model, optimizer, train_dataloader, eval_dataloader\n",
        ")"
      ]
    },
    {
      "cell_type": "code",
      "execution_count": null,
      "metadata": {
        "id": "Z5uc2D8qSbFy"
      },
      "outputs": [],
      "source": [
        "from transformers import get_scheduler\n",
        "\n",
        "num_train_epochs = 3\n",
        "num_update_steps_per_epoch = len(train_dataloader)\n",
        "print(num_update_steps_per_epoch)\n",
        "num_training_steps = num_train_epochs * num_update_steps_per_epoch\n",
        "\n",
        "lr_scheduler = get_scheduler(\n",
        "    \"linear\",\n",
        "    optimizer=optimizer,\n",
        "    num_warmup_steps=0,\n",
        "    num_training_steps=num_training_steps,\n",
        ")"
      ]
    },
    {
      "cell_type": "code",
      "execution_count": null,
      "metadata": {
        "id": "WPBwI1-aSxZH"
      },
      "outputs": [],
      "source": [
        "from huggingface_hub import Repository, get_full_repo_name\n",
        "\n",
        "model_name = 'cwi_bert_base_ver2'\n",
        "repo_name = get_full_repo_name(model_name)\n",
        "repo_name"
      ]
    },
    {
      "cell_type": "code",
      "execution_count": null,
      "metadata": {
        "id": "e6lFbMVzI4lc"
      },
      "outputs": [],
      "source": [
        "output_dir = \"/content/Untitled Folder\"\n",
        "repo = Repository(output_dir, clone_from=repo_name)\n",
        "repo"
      ]
    },
    {
      "cell_type": "markdown",
      "metadata": {
        "id": "zyr1v1L2A6hZ"
      },
      "source": [
        "**Training** **loop**"
      ]
    },
    {
      "cell_type": "code",
      "execution_count": null,
      "metadata": {
        "id": "hLvnNMWQDJAI"
      },
      "outputs": [],
      "source": [
        "import evaluate\n",
        "\n",
        "clf_metrics = evaluate.combine([\"precision\", \"recall\"])\n",
        "accuracy_metric = evaluate.load(\"accuracy\")\n",
        "\n",
        "f1_metric = evaluate.load(\"f1\")\n"
      ]
    },
    {
      "cell_type": "code",
      "execution_count": null,
      "metadata": {
        "id": "aN2Fye23A8c8"
      },
      "outputs": [],
      "source": [
        "def postprocess(predictions, labels):\n",
        "\n",
        "    predictions = predictions.detach().cpu().clone().numpy()\n",
        "    labels = labels.detach().cpu().clone().numpy()\n",
        "\n",
        "    # Remove ignored index (special tokens) and convert to labels\n",
        "\n",
        "    true_predictions = [\n",
        "    [p for (p, l) in zip(prediction, label) if l != -100]\n",
        "    for prediction, label in zip(predictions, labels)\n",
        "]\n",
        "    true_labels = [\n",
        "        [l for (p, l) in zip(prediction, label) if l != -100]\n",
        "        for prediction, label in zip(predictions, labels)\n",
        "    ]\n",
        "\n",
        "    return true_labels, true_predictions"
      ]
    },
    {
      "cell_type": "code",
      "execution_count": null,
      "metadata": {
        "id": "9Mm42sG2yKXE"
      },
      "outputs": [],
      "source": [
        "weights = torch.tensor([ 0.50352224, 71.47746698])\n"
      ]
    },
    {
      "cell_type": "code",
      "execution_count": null,
      "metadata": {
        "colab": {
          "base_uri": "https://localhost:8080/",
          "height": 101,
          "referenced_widgets": [
            "09ab1cc782d346fbbd8a855732a9d266",
            "6821b50031db4bb18960aec9052d9a6e",
            "20f97e1a667148d09d1628feb6b09ee3",
            "0138d424483944248960e05b4bc2f3af",
            "7e5e553390c7466b9781a8ef37106afe",
            "4cc169c93b074decb88345e1fc6e5dc9",
            "b37c4f391155427f9ef41dd00497b9aa",
            "842e6f750bde4fd18e3167137f25283b",
            "60f3582a32574f7bb198f402f237f932",
            "b667a22973484594b2274780ae484cb5",
            "f9074bae330a4bcdbcd0bd4a99625609"
          ]
        },
        "id": "1ssIVeBsBut1",
        "outputId": "ddbbf562-9218-4762-cb26-742de7947080"
      },
      "outputs": [
        {
          "data": {
            "application/vnd.jupyter.widget-view+json": {
              "model_id": "09ab1cc782d346fbbd8a855732a9d266",
              "version_major": 2,
              "version_minor": 0
            },
            "text/plain": [
              "  0%|          | 0/450 [00:00<?, ?it/s]"
            ]
          },
          "metadata": {},
          "output_type": "display_data"
        },
        {
          "name": "stdout",
          "output_type": "stream",
          "text": [
            "epoch 0: {'precision ': 0.5892857142857143, 'recall': 0.0873015873015873, 'f1': 0.15207373271889402, 'accuracy': 0.964344540257727}\n",
            "epoch 1: {'precision ': 0.5535714285714286, 'recall': 0.09480122324159021, 'f1': 0.16187989556135768, 'accuracy': 0.9688983625617673}\n",
            "epoch 2: {'precision ': 0.44642857142857145, 'recall': 0.11961722488038277, 'f1': 0.18867924528301885, 'accuracy': 0.979168685204922}\n"
          ]
        }
      ],
      "source": [
        "from tqdm.auto import tqdm\n",
        "import torch\n",
        "\n",
        "progress_bar = tqdm(range(num_training_steps))\n",
        "avr_train_loss = []\n",
        "avr_test_loss = []\n",
        "\n",
        "for epoch in range(num_train_epochs):\n",
        "    train_epoch_loss = 0\n",
        "    test_epoch_loss = 0\n",
        "\n",
        "    # Training\n",
        "    model.train()\n",
        "\n",
        "    for batch in train_dataloader:\n",
        "\n",
        "        labels = batch['labels']\n",
        "\n",
        "        outputs = model(**batch)\n",
        "\n",
        "        logits = outputs.logits\n",
        "        # compute custom loss\n",
        "        loss_fct = nn.CrossEntropyLoss(ignore_index=-100, weight=weights.to(device))\n",
        "\n",
        "        loss = loss_fct(logits.view(-1, model.config.num_labels), labels.view(-1))\n",
        "\n",
        "        # loss = outputs.loss\n",
        "        accelerator.backward(loss)\n",
        "\n",
        "        optimizer.step()\n",
        "        lr_scheduler.step()\n",
        "        optimizer.zero_grad()\n",
        "\n",
        "        train_epoch_loss += loss.item()\n",
        "        progress_bar.update(1)\n",
        "\n",
        "    avr_train_loss.append(train_epoch_loss/len(train_dataloader))\n",
        "\n",
        "    # Evaluation\n",
        "    model.eval()\n",
        "    for batch in eval_dataloader:\n",
        "        with torch.no_grad():\n",
        "            outputs = model(**batch)\n",
        "\n",
        "        predictions = outputs.logits.argmax(dim=-1)\n",
        "        labels = batch[\"labels\"]\n",
        "\n",
        "        # calculate test loss\n",
        "        logits = outputs.logits\n",
        "        loss_fct = nn.CrossEntropyLoss(ignore_index=-100, weight=weights.to(device))\n",
        "\n",
        "        loss = loss_fct(logits.view(-1, model.config.num_labels), labels.view(-1))\n",
        "\n",
        "        test_epoch_loss += loss.item()\n",
        "        # test_epoch_loss  += outputs.loss.item()\n",
        "        # Necessary to pad predictions and labels for being gathered\n",
        "        predictions = accelerator.pad_across_processes(predictions, dim=1, pad_index=-100)\n",
        "        labels = accelerator.pad_across_processes(labels, dim=1, pad_index=-100)\n",
        "\n",
        "        predictions_gathered = accelerator.gather(predictions)\n",
        "        labels_gathered = accelerator.gather(labels)\n",
        "\n",
        "        true_predictions, true_labels = postprocess(predictions_gathered, labels_gathered)\n",
        "\n",
        "        for refs, preds in zip( true_labels , true_predictions):\n",
        "\n",
        "          clf_metrics.add_batch(predictions=preds, references=refs)\n",
        "          accuracy_metric.add_batch(predictions=preds, references=refs)\n",
        "          f1_metric.add_batch(predictions=preds, references=refs)\n",
        "\n",
        "    per_rec_results = clf_metrics.compute(zero_division=1)\n",
        "    f1_results = f1_metric.compute()\n",
        "    acc_recults = accuracy_metric.compute()\n",
        "\n",
        "    avr_test_loss.append(test_epoch_loss/len(eval_dataloader))\n",
        "\n",
        "    print(\n",
        "        f\"epoch {epoch}:\",\n",
        "        {\n",
        "            'precision ': per_rec_results['precision'],\n",
        "            'recall': per_rec_results['recall'],\n",
        "            'f1': f1_results['f1'],\n",
        "            'accuracy': acc_recults['accuracy']\n",
        "\n",
        "        },\n",
        "    )\n",
        "\n",
        "\n",
        "    # # Save and upload\n",
        "    # accelerator.wait_for_everyone()\n",
        "    # unwrapped_model = accelerator.unwrap_model(model)\n",
        "    # unwrapped_model.save_pretrained('cwi_vr3_roberta', save_function=accelerator.save)\n",
        "    # if accelerator.is_main_process:\n",
        "    #     tokenizer.save_pretrained('cwi_vr3_roberta')\n",
        "    #     repo.push_to_hub(\n",
        "    #         commit_message=f\"Training in progress epoch {epoch}\", blocking=False\n",
        "    #     )"
      ]
    },
    {
      "cell_type": "code",
      "execution_count": null,
      "metadata": {
        "id": "f0bXhaYqKCIa"
      },
      "outputs": [],
      "source": [
        "model.save_pretrained(\"/content/drive/MyDrive/cwi_bert_base_ver2\")\n"
      ]
    },
    {
      "cell_type": "code",
      "execution_count": null,
      "metadata": {
        "id": "99ayW8oLUU3p"
      },
      "outputs": [],
      "source": [
        "!pip install safetensors"
      ]
    },
    {
      "cell_type": "code",
      "execution_count": null,
      "metadata": {
        "id": "8b87xfKGR3C2"
      },
      "outputs": [],
      "source": [
        "finetuned_cwi = AutoModelForTokenClassification.from_pretrained('/content/drive/MyDrive/cwi_bert_base')"
      ]
    },
    {
      "cell_type": "code",
      "execution_count": null,
      "metadata": {
        "id": "c-rvhMAd3pXF"
      },
      "outputs": [],
      "source": [
        "import matplotlib.pyplot as plt\n",
        "\n",
        "def plot_loss_curve(train_losses, val_losses):\n",
        "    epochs = range(1, len(train_losses) + 1)\n",
        "    plt.plot(epochs, train_losses, label='Train Loss')\n",
        "    plt.plot(epochs, val_losses, label='Validation Loss')\n",
        "    plt.title('Training and Validation Loss')\n",
        "    plt.xlabel('Epoch')\n",
        "    plt.ylabel('Loss')\n",
        "    plt.legend()\n",
        "    plt.show()\n"
      ]
    },
    {
      "cell_type": "code",
      "execution_count": null,
      "metadata": {
        "colab": {
          "base_uri": "https://localhost:8080/",
          "height": 472
        },
        "id": "vki2qGbL-Nuf",
        "outputId": "3dd554d5-b483-4631-a173-68f5a452eaa4"
      },
      "outputs": [
        {
          "data": {
            "image/png": "[encoded data removed]",
            "text/plain": [
              "<Figure size 640x480 with 1 Axes>"
            ]
          },
          "metadata": {},
          "output_type": "display_data"
        }
      ],
      "source": [
        "plot_loss_curve(avr_train_loss, avr_test_loss)"
      ]
    },
    {
      "cell_type": "markdown",
      "metadata": {
        "id": "Ohsa7OGO_Y2z"
      },
      "source": [
        "# retrive MLP and BiLSTM models"
      ]
    },
    {
      "cell_type": "code",
      "execution_count": null,
      "metadata": {
        "id": "9rS8SMOX_dnD"
      },
      "outputs": [],
      "source": [
        "BiLSTM_cwi = torch.load('/content/drive/MyDrive/bilstm_1.pth', map_location=torch.device('cpu'))\n",
        "MLP_cwi = torch.load('/content/drive/MyDrive/modified_MLP_cwi.pth', map_location=torch.device('cpu'))\n"
      ]
    },
    {
      "cell_type": "markdown",
      "metadata": {
        "id": "pD1tCnOk-m-7"
      },
      "source": [
        "# Simplification:\n",
        "**Sub. Generation (SG)**\n",
        "1. mask predicted complex word\n",
        "2. concatenate masked sentence with original sentence + adding SEP and CLS tokens for roberta maske language model\n",
        "**Sub. Ranking**\n",
        "  3. remove suggestions with zipf value below 3\n",
        "  4. apply 4 critics for SR:\n",
        "    1. calculate zipf for each suggestions\n",
        "    2. rank base on Mask Model prediction order\n",
        "    3. calculate loss for each sequence containing target word\n",
        "    4. calculate cosine similarity base on FastText model\n",
        "    5. avrageing all rankings.\n",
        "    \n",
        "**Sub. Selection**\n",
        "5. choose the highest as the better suggestion and replace it with target word"
      ]
    },
    {
      "cell_type": "code",
      "execution_count": null,
      "metadata": {
        "id": "vUOlHFdfp3h8"
      },
      "outputs": [],
      "source": [
        "!pip install wordfreq\n"
      ]
    },
    {
      "cell_type": "code",
      "execution_count": null,
      "metadata": {
        "id": "-Uag98UvpN77"
      },
      "outputs": [],
      "source": [
        "from transformers import AutoTokenizer, RobertaForMaskedLM\n",
        "import torch\n",
        "import copy\n",
        "from wordfreq import zipf_frequency\n",
        "from statistics import mean\n",
        "from transformers import AutoTokenizer, AutoModelForMaskedLM\n",
        "\n",
        "import json\n",
        "\n",
        "\n",
        "\n"
      ]
    },
    {
      "cell_type": "code",
      "execution_count": null,
      "metadata": {
        "id": "x1uNtIuio6oF"
      },
      "outputs": [],
      "source": [
        "with open('/content/drive/MyDrive/LSBERT_resources/word2index.json', 'r') as json_file:\n",
        "    new_word2index = json.load(json_file)"
      ]
    },
    {
      "cell_type": "code",
      "execution_count": null,
      "metadata": {
        "id": "TlBYYVtyHMXJ"
      },
      "outputs": [],
      "source": [
        "from transformers import pipeline\n",
        "\"\"\"\n",
        "this module aim to get word_label_dict (CWI phase) for finetuned CWI base on bert, the model is in classifier variable\n",
        "\n",
        "\"\"\"\n",
        "# classifier = pipeline(\"token-classification\", model=\"zahrainnlp/bert_base_cwi\")\n",
        "\n",
        "def get_word_label_dict(context, cwi_classifier):\n",
        "\n",
        "  # preprocessing:\n",
        "\n",
        "  hazm_normalizer = Normalizer()\n",
        "  hazm_w_tokenizer = WordTokenizer()\n",
        "  context = hazm_normalizer.normalize(context)\n",
        "  context = hazm_normalizer.correct_spacing(context)\n",
        "\n",
        "  result = cwi_classifier(context)\n",
        "  keys = []\n",
        "  values = []\n",
        "\n",
        "  for i in range(len(context.split())):\n",
        "    if result[i]['entity'] == 'non_complex' :\n",
        "      values.append(0)\n",
        "    else:\n",
        "      values.append(1)\n",
        "\n",
        "    keys.append(result[i]['word'])\n",
        "\n",
        "\n",
        "  result_dict = {word: value for word, value in zip(keys, values)}\n",
        "\n",
        "  return result_dict\n"
      ]
    },
    {
      "cell_type": "code",
      "execution_count": null,
      "metadata": {
        "id": "gPMaqdzqRXYx"
      },
      "outputs": [],
      "source": []
    },
    {
      "cell_type": "code",
      "execution_count": null,
      "metadata": {
        "id": "c6ebgCXHGPiv"
      },
      "outputs": [],
      "source": [
        "\"\"\"\n",
        "this module is for cwi models base on SVM and BRF. this module aim to get word label dictionary (cwi phase) from this models specificly\n",
        "\"\"\"\n",
        "\n",
        "normalizer = Normalizer()\n",
        "tokenizer = WordTokenizer()\n",
        "\n",
        "def get_word_label_dict(context, cwi_model, llm_model=R_model, llm_tokenizer=R_tokenizer):\n",
        "\n",
        "  # normalize\n",
        "  context = normalizer.normalize(context)\n",
        "  context = normalizer.correct_spacing(context)\n",
        "  # tokenize\n",
        "  tokens = tokenizer.tokenize(context)\n",
        "\n",
        "\n",
        "  tokenized_inputs = llm_tokenizer(tokens, is_split_into_words=True, add_special_tokens=True, return_tensors='pt').to(device)\n",
        "\n",
        "  llm_model.eval()\n",
        "\n",
        "  with torch.no_grad():\n",
        "      hidden_states = llm_model(tokenized_inputs['input_ids'], tokenized_inputs['attention_mask'], output_hidden_states=True)['hidden_states']\n",
        "\n",
        "  token_embeddings = torch.stack(hidden_states[-4:], dim=0).squeeze(1).permute(1, 0, 2)\n",
        "  token_vecs_sum = torch.stack([torch.sum(token[-4:], dim=0) for token in token_embeddings])\n",
        "\n",
        "\n",
        "  # cwi Model Inference\n",
        "\n",
        "  input_embeddings = token_vecs_sum\n",
        "\n",
        "  predictions = cwi_model.predict(input_embeddings.cpu())\n",
        "\n",
        "\n",
        "\n",
        "  # turn binary tensor more readble:\n",
        "\n",
        "  tokenized_inputs_without_padding = llm_tokenizer(tokens, is_split_into_words=True, add_special_tokens=True,)\n",
        "  end_idx = (len(tokenized_inputs_without_padding['input_ids']) - 1 )\n",
        "  R_labels_list = predictions.tolist()[1:end_idx]\n",
        "  w_ids = tokenized_inputs_without_padding.word_ids()[1:end_idx]\n",
        "\n",
        "  d = {}\n",
        "  for l, id in zip(R_labels_list, w_ids):\n",
        "    # print(l)\n",
        "    # print(id)\n",
        "    value = tokens[id]\n",
        "    if value in d:\n",
        "      d[value].append(int(l))\n",
        "    else:\n",
        "      d[value] = [int(l)]\n",
        "\n",
        "  for k, v in d.items():\n",
        "    if len(v) > 1 and 1 in v:\n",
        "      d[k] = [1]\n",
        "    elif len(v) > 1 and 1 not in v:\n",
        "      d[k] = [0]\n",
        "\n",
        "  return d"
      ]
    },
    {
      "cell_type": "code",
      "execution_count": null,
      "metadata": {
        "id": "_Hhsr93TqMdh"
      },
      "outputs": [],
      "source": [
        "\"\"\"this module is for LSBERT_cwi, base on glove and BiLSTm\n",
        "\"\"\"\n",
        "class BiLSTM(nn.Module):\n",
        "    def __init__(self, weights, hidden_size, num_layers, num_classes, dropout):\n",
        "        super(BiLSTM, self).__init__()\n",
        "        self.hidden_size = hidden_size\n",
        "        self.dropout = nn.Dropout(dropout)\n",
        "\n",
        "\n",
        "        self.embedding = nn.Embedding.from_pretrained(weights, padding_idx= 0, freeze=True)\n",
        "        self.lstm = nn.LSTM(weights.size(1), hidden_size, num_layers, batch_first=True,\n",
        "                            bidirectional=True, dropout = dropout if num_layers > 1 else 0)\n",
        "        self.fc = nn.Linear(hidden_size * 2, num_classes)\n",
        "\n",
        "\n",
        "    def forward(self, x):\n",
        "        x = self.embedding(x)\n",
        "        lstm_out, _ = self.lstm(x)\n",
        "\n",
        "        logits = self.dropout(self.fc(self.dropout(lstm_out)))\n",
        "\n",
        "        # out = self.fc(lstm_out)\n",
        "        return logits\n",
        "# this module is for LSBERT_cwi, base on glove and BiLSTm"
      ]
    },
    {
      "cell_type": "code",
      "execution_count": null,
      "metadata": {
        "id": "GgowX27Pwq9b"
      },
      "outputs": [],
      "source": [
        "device = torch.device('cuda' if torch.cuda.is_available() else 'cpu')"
      ]
    },
    {
      "cell_type": "code",
      "execution_count": null,
      "metadata": {
        "id": "QpI15BslqFB7"
      },
      "outputs": [],
      "source": [
        "LSBERT_cwi = torch.load('/content/drive/MyDrive/LSBERT_resources/cwi_LSBERT_1.pth', map_location=device) #LSBERT, cwi base on glove embeddings and BiLSTM\n",
        "# zahra_CWI = torch.load('/content/drive/MyDrive/thesis_resources/bilstm_1.pth', map_location=device) #LSBERT, cwi base on bert embeddings, whole sentence, BiLSTM"
      ]
    },
    {
      "cell_type": "code",
      "execution_count": null,
      "metadata": {
        "id": "HN1cA4BVkb_j"
      },
      "outputs": [],
      "source": [
        "\"\"\"for LSBERT, cwi base on glove embeddings and BiLSTM\"\"\"\n",
        "\n",
        "def get_word_label_dict_LSBERT(context, cwi_model, word2index):\n",
        "  \"\"\"\n",
        "  # for LSBERT, cwi base on glove embeddings and BiLSTM\n",
        "  \"\"\"\n",
        "  # preprocessing:\n",
        "\n",
        "  hazm_normalizer = Normalizer()\n",
        "  hazm_w_tokenizer = WordTokenizer()\n",
        "  context = hazm_normalizer.normalize(context)\n",
        "  context = hazm_normalizer.correct_spacing(context)\n",
        "  all_words = hazm_w_tokenizer.tokenize(context)\n",
        "\n",
        "  numericalized_tokens = [word2index[word] if word in word2index else word2index['-OOV-'] for word in all_words]\n",
        "\n",
        "  token_tensor = torch.LongTensor(numericalized_tokens)\n",
        "\n",
        "  token_tensor = token_tensor.unsqueeze(-1)  #add batch number dimention\n",
        "  token_tensor = token_tensor.to(device)\n",
        "  # get prediction\n",
        "\n",
        "  predictions = cwi_model(token_tensor)\n",
        "\n",
        "  top_predictions = predictions.argmax(-1)\n",
        "\n",
        "  # turn binary tensor more readble:\n",
        "\n",
        "  result = top_predictions.tolist()\n",
        "\n",
        "  result_dict = {word: value for word, value in zip(all_words, result)}\n",
        "\n",
        "  return result_dict\n"
      ]
    },
    {
      "cell_type": "code",
      "execution_count": null,
      "metadata": {
        "id": "l8NzyU_RiH4F"
      },
      "outputs": [],
      "source": [
        "\"\"\"for LSBERT, cwi base on glove embeddings and BiLSTM\"\"\"\n",
        "\n",
        "def get_word_label_dict_LSBERT(context, cwi_model, word2index):\n",
        "  \"\"\"\n",
        "  # for LSBERT, cwi base on glove embeddings and BiLSTM\n",
        "  \"\"\"\n",
        "  # preprocessing:\n",
        "\n",
        "  hazm_normalizer = Normalizer()\n",
        "  hazm_w_tokenizer = WordTokenizer()\n",
        "  context = hazm_normalizer.normalize(context)\n",
        "  context = hazm_normalizer.correct_spacing(context)\n",
        "  all_words = hazm_w_tokenizer.tokenize(context)\n",
        "\n",
        "  numericalized_tokens = [word2index[word] if word in word2index else word2index['-OOV-'] for word in all_words]\n",
        "\n",
        "  token_tensor = torch.LongTensor(numericalized_tokens)\n",
        "\n",
        "  token_tensor = token_tensor.unsqueeze(-1)  #add batch number dimention\n",
        "  token_tensor = token_tensor.to(device)\n",
        "  # get prediction\n",
        "\n",
        "  predictions = cwi_model(token_tensor)\n",
        "\n",
        "  top_predictions = predictions.argmax(-1)\n",
        "\n",
        "  # turn binary tensor more readble:\n",
        "\n",
        "  result = top_predictions.tolist()\n",
        "\n",
        "  result_dict = {word: value for word, value in zip(all_words, result)}\n",
        "\n",
        "  return result_dict\n"
      ]
    },
    {
      "cell_type": "code",
      "execution_count": null,
      "metadata": {
        "id": "LXxxXN9U1VQc"
      },
      "outputs": [],
      "source": [
        "\"\"\"this module is for zahra_CWI, base on bert embeddings and BiLSTm\n",
        "\"\"\"\n",
        "class BiLSTMTagger(nn.Module):\n",
        "    def __init__(self,\n",
        "                 input_dim,\n",
        "                 hidden_dim,\n",
        "                 output_dim,\n",
        "                 n_layers,\n",
        "                 bidirectional,\n",
        "                 dropout,\n",
        "                        ):\n",
        "\n",
        "        super(BiLSTMTagger, self).__init__()\n",
        "        self.hidden_dim = hidden_dim\n",
        "\n",
        "        self.lstm = nn.LSTM(input_dim,\n",
        "                            hidden_dim,\n",
        "                            num_layers = n_layers,\n",
        "                            bidirectional = bidirectional,\n",
        "                            dropout = dropout if n_layers > 1 else 0,\n",
        "                            batch_first =True,)\n",
        "\n",
        "        # self.batch_norm = nn.BatchNorm1d(2 * hidden_dim)\n",
        "\n",
        "        # self.dropout = nn.Dropout(dropout)\n",
        "\n",
        "        self.fc = nn.Linear(2*hidden_dim, output_dim)\n",
        "\n",
        "        self.dropout = nn.Dropout(dropout)\n",
        "\n",
        "\n",
        "    def forward(self, embedded_text):\n",
        "\n",
        "        outputs, _ = self.lstm(embedded_text)\n",
        "\n",
        "        # outputs = self.batch_norm(outputs.permute(0, 2, 1))\n",
        "\n",
        "        # logits = self.dropout(self.fc(self.dropout(outputs.permute(0, 2, 1))))\n",
        "        logits = self.dropout(self.fc(self.dropout(outputs)))\n",
        "\n",
        "        return logits"
      ]
    },
    {
      "cell_type": "code",
      "execution_count": null,
      "metadata": {
        "id": "yisLvkqgCrog"
      },
      "outputs": [],
      "source": [
        "llm_model = AutoModelForTokenClassification.from_pretrained('HooshvareLab/bert-base-parsbert-armanner-uncased')\n",
        "llm_tokenizer =  AutoTokenizer.from_pretrained('HooshvareLab/bert-base-parsbert-armanner-uncased')"
      ]
    },
    {
      "cell_type": "code",
      "execution_count": null,
      "metadata": {
        "id": "YNo6ARRGRmLR"
      },
      "outputs": [],
      "source": [
        "llm_model = llm_model.to(device)"
      ]
    },
    {
      "cell_type": "code",
      "execution_count": null,
      "metadata": {
        "id": "6KtOFB8q2kUT"
      },
      "outputs": [],
      "source": [
        "\"\"\"# for cwi base on bert embeddings\n",
        "\"\"\"\n",
        "normalizer = Normalizer()\n",
        "tokenizer = WordTokenizer()\n",
        "\n",
        "def get_word_label_dict(context, cwi_model, llm_model, llm_tokenizer):\n",
        "  \"\"\"\n",
        "    # for cwi base on bert embeddings\n",
        "\n",
        "  \"\"\"\n",
        "  # preprocessing:\n",
        "\n",
        "  # normalize\n",
        "  context = normalizer.normalize(context)\n",
        "  context = normalizer.correct_spacing(context)\n",
        "  # tokenize\n",
        "  tokens = tokenizer.tokenize(context)\n",
        "  # extract LLM embeddings for each token\n",
        "  # getting input ids and attention mask and embedding\n",
        "  tokenized_inputs = llm_tokenizer(tokens, is_split_into_words=True, add_special_tokens=True, return_tensors='pt', padding= 'max_length', max_length=219,)\n",
        "  tokenized_inputs = tokenized_inputs.to(device)\n",
        "\n",
        "  llm_model.eval()\n",
        "\n",
        "  with torch.no_grad():\n",
        "      hidden_states = llm_model(tokenized_inputs['input_ids'], tokenized_inputs['attention_mask'], output_hidden_states=True)['hidden_states']\n",
        "\n",
        "  token_embeddings = torch.stack(hidden_states[-4:], dim=0).squeeze(1).permute(1, 0, 2)\n",
        "  token_vecs_sum = torch.stack([torch.sum(token[-4:], dim=0) for token in token_embeddings])\n",
        "\n",
        "\n",
        "  # starting model to predict labels:\n",
        "\n",
        "  # cwi Model Inference\n",
        "  cwi_model.eval()\n",
        "  with torch.no_grad():\n",
        "      # # Reshape the input to match the expected size\n",
        "      input_embeddings = token_vecs_sum\n",
        "\n",
        "      logits = cwi_model(input_embeddings)\n",
        "\n",
        "      predictions = torch.argmax(logits, dim=1)\n",
        "\n",
        "  # Post-processing (example: thresholding at 0.5)\n",
        "  binary_predictions = (predictions >= 0.5).int()\n",
        "\n",
        "\n",
        "  # turn binary tensor more readble:\n",
        "\n",
        "  tokenized_inputs_without_padding = llm_tokenizer(tokens, is_split_into_words=True, add_special_tokens=True,)\n",
        "\n",
        "  end_idx = (len(tokenized_inputs_without_padding['input_ids']) - 1 )\n",
        "\n",
        "  R_labels_list = binary_predictions.squeeze(0).tolist()[1:end_idx]\n",
        "  w_ids = tokenized_inputs_without_padding.word_ids()[1:end_idx]\n",
        "\n",
        "  d = {}\n",
        "  for l, id in zip(R_labels_list, w_ids):\n",
        "    value = tokens[id]\n",
        "    if value in d:\n",
        "      d[value].append(int(l))\n",
        "    else:\n",
        "      d[value] = [int(l)]\n",
        "\n",
        "  for k, v in d.items():\n",
        "    if len(v) > 1 and 1 in v:\n",
        "      d[k] = [1]\n",
        "    elif len(v) > 1 and 1 not in v:\n",
        "      d[k] = [0]\n",
        "\n",
        "  return d"
      ]
    },
    {
      "cell_type": "code",
      "execution_count": null,
      "metadata": {
        "id": "gEVdppP6qDHR"
      },
      "outputs": [],
      "source": [
        "from transformers import AutoTokenizer, AutoModelForMaskedLM\n",
        "\n",
        "mask_tokenizer = AutoTokenizer.from_pretrained('xlm-roberta-base')\n",
        "mask_model = AutoModelForMaskedLM.from_pretrained(\"xlm-roberta-base\").to(device)"
      ]
    },
    {
      "cell_type": "code",
      "execution_count": null,
      "metadata": {
        "id": "_cWjyubzk3CT"
      },
      "outputs": [],
      "source": [
        "mask_model.config.vocab_size = mask_tokenizer.vocab_size\n",
        "hazm_normalizer = Normalizer()\n",
        "\n",
        "\n",
        "def get_suggestions(context, word_label_dict, mask_tokenizer, mask_model, predictions_number):\n",
        "  word_subs_dic = {}\n",
        "  context = hazm_normalizer.normalize(context)\n",
        "  for v, k in word_label_dict.items():\n",
        "      # print(v, k)\n",
        "      if 1 in k:\n",
        "        target = v\n",
        "        masked_sent = context.replace(target, '<mask>')\n",
        "\n",
        "        mask_token = ' <mask>'\n",
        "        if mask_token in masked_sent:\n",
        "          masked_text = f'<s> {masked_sent} </s></s> {context} </s> '\n",
        "\n",
        "          encoded_input = mask_tokenizer(masked_text, padding=True, truncation=True, max_length=512, return_tensors='pt').to(device)\n",
        "          output = mask_model(**encoded_input)\n",
        "          mask_token = ' <mask>'\n",
        "\n",
        "          mask_index = mask_tokenizer.tokenize(masked_text, padding=True, truncation=True, max_length=512,).index(mask_token) + 1\n",
        "\n",
        "          predictions = output[0][0][mask_index]\n",
        "          predicted_ids = torch.argsort(predictions, descending=True)[:predictions_number]\n",
        "          predicted_tokens = mask_tokenizer.convert_ids_to_tokens(list(predicted_ids))\n",
        "\n",
        "          word_subs_dic[v] = predicted_tokens\n",
        "\n",
        "        else:\n",
        "          word_subs_dic[v] = []\n",
        "\n",
        "      else:\n",
        "        word_subs_dic[v] = []\n",
        "\n",
        "  return word_subs_dic\n"
      ]
    },
    {
      "cell_type": "code",
      "execution_count": null,
      "metadata": {
        "id": "9RzzH2jflVpN"
      },
      "outputs": [],
      "source": [
        "#  step A: remove suggestion with zipf value less than 3\n",
        "\n",
        "\n",
        "def SR_stepA(word_suggestions_dict):\n",
        "    stop_words = stopwords_list()  # Assuming stopwords_list() is defined somewhere!\n",
        "\n",
        "    new_word_sug_dict = {}\n",
        "\n",
        "    for word, sug_list in word_suggestions_dict.items():\n",
        "        new_sug_list = []\n",
        "\n",
        "        if len(sug_list) != 0:\n",
        "            for suggestion in sug_list:\n",
        "                suggestion = re.sub('▁', '', suggestion)\n",
        "                if suggestion not in stop_words:\n",
        "                    suggestion_value = zipf_frequency(suggestion, 'fa')  # Assuming zipf_frequency is defined somewhere\n",
        "                    if suggestion_value > 3:\n",
        "                        new_sug_list.append(suggestion)\n",
        "\n",
        "        new_word_sug_dict[word] = new_sug_list if len(new_sug_list) != 0 else []\n",
        "\n",
        "    return new_word_sug_dict\n",
        "\n",
        "\n"
      ]
    },
    {
      "cell_type": "code",
      "execution_count": null,
      "metadata": {
        "id": "-H3M_CqbldyG"
      },
      "outputs": [],
      "source": [
        "def SR_bert_score(modified_word_sug_dict):\n",
        "    word_order_score = {}\n",
        "    for word, sug_list in modified_word_sug_dict.items():\n",
        "        order_score = list(range(len(sug_list), 0, -1)) if sug_list else []\n",
        "        word_order_score[word] = list(zip(sug_list, order_score))\n",
        "\n",
        "    return word_order_score"
      ]
    },
    {
      "cell_type": "code",
      "execution_count": null,
      "metadata": {
        "id": "yKSxf_orl3PO"
      },
      "outputs": [],
      "source": [
        "import gc\n",
        "import fasttext\n",
        "from huggingface_hub import hf_hub_download\n",
        "\n",
        "model_path = hf_hub_download(repo_id=\"facebook/fasttext-fa-vectors\", filename=\"model.bin\")\n",
        "FastText_model = fasttext.load_model(model_path)\n",
        "\n",
        "def cosine_similarity(word1, word2, model):\n",
        "\n",
        "    return np.dot(model[word1], model[word2]) / (np.linalg.norm(model[word1]) * np.linalg.norm(model[word2]))\n",
        "\n",
        "def SR_similarity_score (modified_word_sug_dict):\n",
        "\n",
        "  word_similarity_score = {}\n",
        "  for word, sug_list in  modified_word_sug_dict.items():\n",
        "    if len(sug_list) != 0 :\n",
        "      sug_list_score = []\n",
        "      for suggestion in sug_list:\n",
        "        cosine_similarity_score = cosine_similarity(word, suggestion, FastText_model)\n",
        "        sug_list_score.append(round(cosine_similarity_score, 2))\n",
        "\n",
        "      word_similarity_score[word] = list(zip(sug_list, sug_list_score))\n",
        "\n",
        "    else:\n",
        "      word_similarity_score[word] = []\n",
        "\n",
        "\n",
        "  # del FastText_model\n",
        "  gc.collect()\n",
        "  return word_similarity_score"
      ]
    },
    {
      "cell_type": "code",
      "execution_count": null,
      "metadata": {
        "id": "kP99_E-rll9D"
      },
      "outputs": [],
      "source": [
        "from transformers import AutoTokenizer, RobertaForMaskedLM\n",
        "import torch\n",
        "import copy\n",
        "\n",
        "# worked:\n",
        "def get_MLM_loss(mask_model, mask_tokenizer, masked_sent, sent):\n",
        "    # Tokenize sentences\n",
        "    inputs = mask_tokenizer(masked_sent, sent, return_tensors=\"pt\", padding=True, truncation=True).to(device)\n",
        "\n",
        "    labels = inputs.input_ids.clone()  # Clone the input_ids tensor\n",
        "    # Mask labels of non-<mask> tokens\n",
        "    labels[labels != mask_tokenizer.mask_token_id] = -100\n",
        "    outputs = mask_model(**inputs, labels=labels)\n",
        "\n",
        "    return round(outputs.loss.item(), 2)\n",
        "\n",
        "def get_surrounding_indices(index, length):\n",
        "  left_index = index - 5 if index > 4 else 0\n",
        "  right_index = index + 5 if length - 1 - index > 4 else length - 1\n",
        "  if index - left_index < 5:\n",
        "    right_index += 5 - (index - left_index)\n",
        "  if right_index - index < 5:\n",
        "    left_index -= 5 - (right_index - index)\n",
        "  return (left_index, right_index + 1)\n",
        "\n",
        "def SR_loss_score(modified_word_sug_dict, mask_model, mask_tokenizer):\n",
        "\n",
        "  word_loss_score = {}\n",
        "  for word, sug_list in  modified_word_sug_dict.items():\n",
        "    if len(sug_list) != 0 :\n",
        "      sug_list_score = []\n",
        "\n",
        "      for suggestion in sug_list:\n",
        "        original_sent = ' '.join(list(modified_word_sug_dict.keys()))\n",
        "\n",
        "        W = re.sub(word, suggestion, original_sent)\n",
        "        W_list = W.split()\n",
        "        W_loss_scores = []\n",
        "        target_token_index = W_list.index(suggestion)\n",
        "        W_length = len(W_list)\n",
        "        if W_length > 10:\n",
        "          (minus_fifth_index, plus_fifth_index) = get_surrounding_indices(target_token_index, W_length)\n",
        "          W = W[minus_fifth_index : plus_fifth_index]\n",
        "\n",
        "        for i in range(W_length):\n",
        "          masked_token = W_list[i]\n",
        "          masked_sent = W.replace(masked_token, '<mask>')\n",
        "          loss_score = get_MLM_loss(mask_model, mask_tokenizer, masked_sent, W)\n",
        "          W_loss_scores.append(loss_score)\n",
        "\n",
        "        suggestion_score = mean(W_loss_scores)\n",
        "        sug_list_score.append(round(suggestion_score, 2))\n",
        "\n",
        "      word_loss_score[word] = list(zip(sug_list, sug_list_score))\n",
        "\n",
        "    else:\n",
        "      word_loss_score[word] = []\n",
        "\n",
        "  return word_loss_score"
      ]
    },
    {
      "cell_type": "code",
      "execution_count": null,
      "metadata": {
        "id": "Wjxw84Fll9xn"
      },
      "outputs": [],
      "source": [
        "def SR_zipf_score (modified_word_sug_dict):\n",
        "  word_zipf_score = {}\n",
        "  for word, sug_list in  modified_word_sug_dict.items():\n",
        "    if len(sug_list) != 0 :\n",
        "      zipf_value = []\n",
        "      for suggestion in sug_list:\n",
        "        zipf_value.append(zipf_frequency(suggestion, 'fa'))\n",
        "\n",
        "      ranked_list = [sorted(zipf_value).index(x) + 1 for x in zipf_value]\n",
        "\n",
        "      word_zipf_score[word] = list(zip(sug_list, ranked_list))\n",
        "\n",
        "    else:\n",
        "      word_zipf_score[word] = []\n",
        "\n",
        "  return word_zipf_score\n",
        "\n"
      ]
    },
    {
      "cell_type": "code",
      "execution_count": null,
      "metadata": {
        "id": "t2WCcw7oaF46"
      },
      "outputs": [],
      "source": [
        "def get_ranking(input_dict):\n",
        "  result = {}\n",
        "  for word, subs_list in input_dict.items():\n",
        "    if len(subs_list) != 0:\n",
        "      sorted_subs_list = sorted(subs_list, key=lambda x: x[1], reverse=True)\n",
        "      n = len(subs_list)\n",
        "      ranked_subs_list = [(t[0], n - i) for i, t in enumerate(sorted_subs_list)]\n",
        "\n",
        "      result[word] = ranked_subs_list\n",
        "    else:\n",
        "      result[word] = []\n",
        "\n",
        "  return result\n",
        "\n",
        "\n",
        "def get_loss_ranking(loss_score_dict):\n",
        "  result = {}\n",
        "  for word, subs_list in loss_score_dict.items():\n",
        "    if len(subs_list) != 0:\n",
        "      sorted_subs_list = sorted(subs_list, key=lambda x: (x[1], subs_list.index(x)))\n",
        "      n = len(subs_list)\n",
        "      ranked_subs_list = [(t[0], n - i) for i, t in enumerate(sorted_subs_list)]\n",
        "\n",
        "      result[word] = ranked_subs_list\n",
        "    else:\n",
        "      result[word] = []\n",
        "\n",
        "  return result"
      ]
    },
    {
      "cell_type": "code",
      "execution_count": null,
      "metadata": {
        "id": "o6cDn9xlCRgB"
      },
      "outputs": [],
      "source": [
        "\n",
        "def get_tuple_by_name(arr, name):\n",
        "  for tup in arr:\n",
        "    if tup[0] == name:\n",
        "      return tup\n",
        "\n",
        "def merge_values(temp_list, value):\n",
        "  arr = []\n",
        "  for tup in value:\n",
        "    temp_tup = get_tuple_by_name(temp_list, tup[0])\n",
        "    arr.append((tup[0], (tup[1] + temp_tup[1])/ 2))\n",
        "  return arr\n",
        "\n",
        "def round_tuples(temp):\n",
        "  final_result = {}\n",
        "  for var in temp:\n",
        "    final_result[var] = []\n",
        "    if len(temp[var]) > 0:\n",
        "      for tup in temp[var]:\n",
        "        value = (tup[0], round(tup[1], 2))\n",
        "        final_result[var].append(value)\n",
        "  return final_result\n",
        "\n",
        "def get_final_score(*args):\n",
        "  temp = {}\n",
        "  for dic in args:\n",
        "    for var in dic:\n",
        "      temp_list = temp.get(var, [])\n",
        "      current_list = dic[var]\n",
        "      if len(current_list) > 0 and len(temp_list) > 0:\n",
        "        current_list = merge_values(temp_list, current_list)\n",
        "      temp[var] = current_list\n",
        "  temp = round_tuples(temp)\n",
        "\n",
        "  return temp\n",
        "\n",
        "\n",
        "def get_highest_score(arr, word):\n",
        "  highest = 0\n",
        "  highest_tup = None\n",
        "  for tup in arr:\n",
        "    if tup[1] > highest and tup[0] != word:\n",
        "      highest = tup[1]\n",
        "      highest_tup = tup\n",
        "  return highest_tup\n",
        "\n",
        "def get_highest_score_in_dic(dic):\n",
        "  temp = {}\n",
        "  for var in dic:\n",
        "    x = get_highest_score(dic[var], var)\n",
        "    temp[var] = x\n",
        "  return temp\n",
        "\n",
        "def get_final_string(dic):\n",
        "  x = get_highest_score_in_dic(dic)\n",
        "  sentence = ''\n",
        "  for var in x:\n",
        "    sentence += ' '\n",
        "    if x[var] != None:\n",
        "      sentence +=  x[var][0]\n",
        "    else:\n",
        "      sentence += var\n",
        "  return sentence"
      ]
    },
    {
      "cell_type": "code",
      "execution_count": null,
      "metadata": {
        "id": "qMfPCUwuVR-i"
      },
      "outputs": [],
      "source": [
        "import time\n",
        "# for cwi base on glove embeddings\n",
        "def simplification_alg_LSBERT(row, mask_tokenizer=mask_tokenizer, mask_model=mask_model, cwi_model=LSBERT_cwi, suggestions_count=10, stop_words = stopwords_list(), word2index=new_word2index):\n",
        "  first_start = time.time()\n",
        "  print(row.name)\n",
        "  text = row['sentence']\n",
        "  # text = context\n",
        "\n",
        "  \"\"\" step1: prepare word_label_dict word as key and binary label as value (CWI)\"\"\"\n",
        "  cwi_dict = get_word_label_dict_LSBERT(text, cwi_model, word2index)\n",
        "  # print(cwi_dict)\n",
        "  \"\"\" step2: prepare suggestions as a dictionary. key: word value: list of suggestions (SG)\"\"\"\n",
        "  # first_start = time.time()\n",
        "  word_suggestions_dict = get_suggestions(text, cwi_dict, mask_tokenizer, mask_model, suggestions_count)\n",
        "  # print(word_suggestions_dict)\n",
        "\n",
        "  \"\"\" step3: Substitudes Ranking\"\"\"\n",
        "  \"\"\"  step A: remove suggestion with zipf value less than 3 \"\"\"\n",
        "\n",
        "  modified_word_suggestion_dict = SR_stepA(word_suggestions_dict)\n",
        "  # print(modified_word_suggestion_dict)\n",
        "  \"\"\"  step B: calculate 4 criteria to score each substitude for each complex word \"\"\"\n",
        "  \"\"\"  B-1: BERT prediction order criteria \"\"\"\n",
        "\n",
        "  # BERT_score_dict = SR_bert_score(modified_word_suggestion_dict)\n",
        "  # # print(BERT_score_dict)\n",
        "  \"\"\"  B-2: mask model loss criteria \"\"\"\n",
        "\n",
        "  loss_score_dict = SR_loss_score(modified_word_suggestion_dict, mask_model, mask_tokenizer)\n",
        "  loss_score_dict = get_loss_ranking(loss_score_dict)\n",
        "  # print(loss_score_dict)\n",
        "  \"\"\"  B-3: cosine similarity between target word and sub word criteria \"\"\"\n",
        "\n",
        "  # similarity_score_dict = SR_similarity_score(modified_word_suggestion_dict)\n",
        "  # similarity_score_dict = get_ranking(similarity_score_dict)\n",
        "  # print(similarity_score_dict)\n",
        "  \"\"\"  B-4: zipf value criteria \"\"\"\n",
        "\n",
        "  # zipf_score_dict = SR_zipf_score(modified_word_suggestion_dict)\n",
        "  # # print(zipf_score_dict)\n",
        "  \"\"\"  step C: calculate all criterias for each \"\"\"\n",
        "\n",
        "  final_score = get_final_score(loss_score_dict)#loss_score_dict, similarity_score_dict, zipf_score_dict, BERT_score_dict,\n",
        "  # print(final_score)\n",
        "  \"\"\"  SS, select best and return string \"\"\"\n",
        "\n",
        "  final_string = get_final_string(final_score)\n",
        "  # first_end = time.time()\n",
        "  # print(first_end - first_start)\n",
        "  return final_string"
      ]
    },
    {
      "cell_type": "code",
      "execution_count": null,
      "metadata": {
        "id": "QupNRtWj_y81"
      },
      "outputs": [],
      "source": [
        "# # # for cwi base on bert embeddings\n",
        "\n",
        "import time\n",
        "\n",
        "def simplification_alg(row, mask_tokenizer=mask_tokenizer, mask_model=mask_model, cwi_model=zahra_CWI, llm_model=llm_model, llm_tokenizer=llm_tokenizer, suggestions_count=10, stop_words = stopwords_list(),):\n",
        "  # ll_model and llm_tokenizer are bert models thatwere initialy used to make cwi base on bert embeddings\n",
        "  # first_start = time.time()\n",
        "  print(row.name)\n",
        "  text = row['sentence']\n",
        "\n",
        "  \"\"\" step1: prepare word_label_dict word as key and binary label as value (CWI)\"\"\"\n",
        "  cwi_dict = get_word_label_dict(text, cwi_model, llm_model, llm_tokenizer)\n",
        "\n",
        "  \"\"\" step2: prepare suggestions as a dictionary. key: word value: list of suggestions (SG)\"\"\"\n",
        "  # first_start = time.time()\n",
        "  word_suggestions_dict = get_suggestions(text, cwi_dict, mask_tokenizer, mask_model, suggestions_count)\n",
        "\n",
        "\n",
        "  \"\"\" step3: Substitudes Ranking\"\"\"\n",
        "  \"\"\"  step A: remove suggestion with zipf value less than 3 \"\"\"\n",
        "\n",
        "  modified_word_suggestion_dict = SR_stepA(word_suggestions_dict)\n",
        "\n",
        "  \"\"\"  step B: calculate 4 criteria to score each substitude for each complex word \"\"\"\n",
        "  \"\"\"  B-1: BERT prediction order criteria \"\"\"\n",
        "\n",
        "  # BERT_score_dict = SR_bert_score(modified_word_suggestion_dict)\n",
        "\n",
        "  \"\"\"  B-2: mask model loss criteria \"\"\"\n",
        "\n",
        "  loss_score_dict = SR_loss_score(modified_word_suggestion_dict, mask_model, mask_tokenizer)\n",
        "  loss_score_dict = get_loss_ranking(loss_score_dict)\n",
        "\n",
        "  \"\"\"  B-3: cosine similarity between target word and sub word criteria \"\"\"\n",
        "\n",
        "  # similarity_score_dict = SR_similarity_score(modified_word_suggestion_dict)\n",
        "  # similarity_score_dict = get_ranking(similarity_score_dict)\n",
        "  \"\"\"  B-4: zipf value criteria \"\"\"\n",
        "\n",
        "  # zipf_score_dict = SR_zipf_score(modified_word_suggestion_dict)\n",
        "\n",
        "  \"\"\"  step C: calculate all criterias for each \"\"\"\n",
        "\n",
        "  final_score = get_final_score(loss_score_dict)#loss_score_dict, similarity_score_dict, zipf_score_dict, BERT_score_dict,\n",
        "\n",
        "  \"\"\"  SS, select best and return string \"\"\"\n",
        "\n",
        "  final_string = get_final_string(final_score)\n",
        "  # first_end = time.time()\n",
        "  # print(first_end - first_start)\n",
        "  return final_string\n"
      ]
    },
    {
      "cell_type": "code",
      "execution_count": null,
      "metadata": {
        "id": "RrBLpQSdTj4W"
      },
      "outputs": [],
      "source": [
        "samples_df = pd.read_csv('/content/drive/MyDrive/LSBERT_resources/evaluation_samples_500_modified.csv')"
      ]
    },
    {
      "cell_type": "code",
      "execution_count": null,
      "metadata": {
        "colab": {
          "background_save": true
        },
        "id": "2mBRjwXDDaLH"
      },
      "outputs": [],
      "source": [
        "samples_df['model_simplified'] = samples_df.apply(simplification_alg_LSBERT,\n",
        "                                                   axis=1)"
      ]
    },
    {
      "cell_type": "markdown",
      "metadata": {
        "id": "Kpr0fJxiAnK4"
      },
      "source": [
        "# calculate SARI and BLEU to evaluate simplification process for each model output base on 492 extractes phrases for this evaluation purpose"
      ]
    },
    {
      "cell_type": "code",
      "execution_count": null,
      "metadata": {
        "colab": {
          "base_uri": "https://localhost:8080/",
          "height": 1000
        },
        "id": "VH69Y9tPsORk",
        "outputId": "ecbd7895-3ca4-497a-ffde-bbd0a2d8b6d0"
      },
      "outputs": [
        {
          "data": {
            "application/vnd.google.colaboratory.intrinsic+json": {
              "summary": "{\n  \"name\": \"eval_df\",\n  \"rows\": 491,\n  \"fields\": [\n    {\n      \"column\": \"target\",\n      \"properties\": {\n        \"dtype\": \"string\",\n        \"num_unique_values\": 491,\n        \"samples\": [\n          \"\\u062e\\u0648\\u062f\\u0631\\u0627\\u0646\\u200c\\u0647\\u0627\",\n          \"\\u062f\\u0648\\u0633\\u062a\\u0645\\u0627\\u0646\",\n          \"\\u0628\\u0627\\u0632\\u0627\\u0631\\u06af\\u0631\\u062f\\u0627\\u0646\\u06cc\"\n        ],\n        \"semantic_type\": \"\",\n        \"description\": \"\"\n      }\n    },\n    {\n      \"column\": \"original_sentence\",\n      \"properties\": {\n        \"dtype\": \"string\",\n        \"num_unique_values\": 491,\n        \"samples\": [\n          \"\\u0622\\u0631\\u0634\\u06cc\\u0648 \\u0627\\u0648\\u0628\\u0631 \\u0628\\u0639\\u062f \\u0627\\u0632 \\u06cc\\u06a9 \\u062a\\u0635\\u0627\\u062f\\u0641 \\u062f\\u0631 \\u0622\\u0631\\u06cc\\u0632\\u0648\\u0646\\u0627 \\u062e\\u0648\\u062f\\u0631\\u0627\\u0646\\u200c\\u0647\\u0627 \\u0631\\u0627 \\u0641\\u0631\\u0627\\u062e\\u0648\\u0627\\u0646\\u062f \\u0639\\u0635\\u0631 \\u062e\\u0648\\u062f\\u0631\\u0648 \\u067e\\u0633 \\u0627\\u0632 \\u0622\\u0646\\u200c\\u06a9\\u0647 \\u06cc\\u06a9 \\u062e\\u0648\\u062f\\u0631\\u0648 \\u062e\\u0648\\u062f\\u0631\\u0627\\u0646 \\u0627\\u0648\\u0628\\u0631 \\u062f\\u0631 \\u0627\\u06cc\\u0627\\u0644\\u062a \\u0622\\u0631\\u06cc\\u0632\\u0648\\u0646\\u0627 \\u062a\\u0635\\u0627\\u062f\\u0641 \\u06a9\\u0631\\u062f\\u060c \\u0627\\u06cc\\u0646 \\u0634\\u0631\\u06a9\\u062a \\u062a\\u0627\\u06a9\\u0633\\u06cc\\u0631\\u0627\\u0646\\u06cc \\u062a\\u0631\\u062f\\u062f \\u062e\\u0648\\u062f\\u0631\\u0627\\u0646\\u200c\\u0647\\u0627 \\u0631\\u0627 \\u0645\\u0648\\u0642\\u062a\\u0627 \\u062a\\u0639\\u0644\\u06cc\\u0642 \\u06a9\\u0631\\u062f.\",\n          \"\\u062e\\u06cc\\u0644\\u06cc \\u06a9\\u0645 \\u067e\\u06cc\\u0634 \\u0645\\u06cc\\u200c\\u0622\\u06cc\\u062f \\u062f\\u0631 \\u0645\\u0648\\u0631\\u062f \\u0645\\u0633\\u0626\\u0644\\u0647 \\u06cc\\u0627 \\u0628\\u06cc\\u0645\\u0627\\u0631\\u06cc \\u062e\\u0627\\u0635\\u06cc \\u0635\\u062d\\u0628\\u062a \\u06a9\\u0646\\u06cc\\u0645 \\u0648 \\u0627\\u06cc\\u0646 \\u062f\\u0648\\u0633\\u062a\\u0645\\u0627\\u0646 \\u062f\\u0631 \\u0645\\u0648\\u0631\\u062f \\u0622\\u0646 \\u0627\\u0637\\u0644\\u0627\\u0639\\u0627\\u062a \\u0646\\u062f\\u0627\\u0634\\u062a\\u0647 \\u0628\\u0627\\u0634\\u062f \\u0648 \\u0631\\u0648\\u0634\\u200c\\u0647\\u0627\\u06cc \\u067e\\u06cc\\u0634\\u06af\\u06cc\\u0631\\u06cc \\u06cc\\u0627 \\u062f\\u0631\\u0645\\u0627\\u0646 \\u0622\\u0646 \\u0631\\u0627 \\u0646\\u062f\\u0627\\u0646\\u062f.\",\n          \"\\u0634\\u0631\\u06a9\\u062a \\u06a9\\u0627\\u0631\\u06af\\u0632\\u0627\\u0631\\u06cc \\u0628\\u0627\\u0646\\u06a9 \\u062a\\u0648\\u0633\\u0639\\u0647 \\u0635\\u0627\\u062f\\u0631\\u0627\\u062a \\u062f\\u0631 \\u0633\\u0627\\u0644 \\u06f1\\u06f3\\u06f7\\u06f6 \\u0648 \\u0628\\u0647 \\u0634\\u0645\\u0627\\u0631\\u0647 \\u062b\\u0628\\u062a \\u06f1\\u06f3\\u06f2\\u06f3\\u06f9\\u06f9 \\u062f\\u0631 \\u0627\\u062f\\u0627\\u0631\\u0647 \\u062b\\u0628\\u062a \\u0634\\u0631\\u06a9\\u062a\\u0647\\u0627 \\u0628\\u0647 \\u062b\\u0628\\u062a \\u0631\\u0633\\u06cc\\u062f\\u0647 \\u0627\\u0633\\u062a \\u0648 \\u0628\\u0631 \\u0627\\u0633\\u0627\\u0633 \\u0627\\u0633\\u0627\\u0633\\u0646\\u0627\\u0645\\u0647\\u060c \\u0634\\u0631\\u06a9\\u062a \\u0645\\u06cc\\u200c\\u062a\\u0648\\u0627\\u0646\\u062f \\u0628\\u0627 \\u06a9\\u0633\\u0628 \\u0645\\u062c\\u0648\\u0632\\u0647\\u0627\\u06cc \\u0645\\u0648\\u0631\\u062f \\u0646\\u06cc\\u0627\\u0632 \\u0627\\u0632 \\u0633\\u0627\\u0632\\u0645\\u0627\\u0646 \\u0628\\u0648\\u0631\\u0633 \\u0648 \\u0627\\u0648\\u0631\\u0627\\u0642 \\u0628\\u0647\\u0627\\u062f\\u0627\\u0631 \\u0628\\u0647 \\u0641\\u0639\\u0627\\u0644\\u06cc\\u062a\\u200c\\u0647\\u0627\\u06cc \\u06a9\\u0627\\u0631\\u06af\\u0632\\u0627\\u0631\\u06cc\\u060c \\u0645\\u0639\\u0627\\u0645\\u0644\\u0647\\u200c\\u06af\\u0631\\u06cc \\u0648 \\u0628\\u0627\\u0632\\u0627\\u0631\\u06af\\u0631\\u062f\\u0627\\u0646\\u06cc \\u0648 \\u0647\\u0645\\u0686\\u0646\\u06cc\\u0646 \\u062e\\u062f\\u0645\\u0627\\u062a\\u0646 \\u0645\\u0627\\u0644\\u06cc \\u0648 \\u0645\\u0634\\u0627\\u0648\\u0631\\u0647\\u200c\\u0627\\u06cc \\u0645\\u0628\\u0627\\u062f\\u0631\\u062a \\u0648\\u0631\\u0632\\u062f.\"\n        ],\n        \"semantic_type\": \"\",\n        \"description\": \"\"\n      }\n    },\n    {\n      \"column\": \"ref_1\",\n      \"properties\": {\n        \"dtype\": \"string\",\n        \"num_unique_values\": 491,\n        \"samples\": [\n          \"\\u0622\\u0631\\u0634\\u06cc\\u0648 \\u0627\\u0648\\u0628\\u0631 \\u0628\\u0639\\u062f \\u0627\\u0632 \\u06cc\\u06a9 \\u062a\\u0635\\u0627\\u062f\\u0641 \\u062f\\u0631 \\u0622\\u0631\\u06cc\\u0632\\u0648\\u0646\\u0627 \\u062e\\u0648\\u062f\\u0631\\u0627\\u0646\\u200c\\u0647\\u0627 \\u0631\\u0627 \\u0641\\u0631\\u0627\\u062e\\u0648\\u0627\\u0646\\u062f \\u0639\\u0635\\u0631 \\u062e\\u0648\\u062f\\u0631\\u0648 \\u067e\\u0633 \\u0627\\u0632 \\u0622\\u0646\\u200c\\u06a9\\u0647 \\u06cc\\u06a9 \\u062e\\u0648\\u062f\\u0631\\u0648 \\u062e\\u0648\\u062f\\u0631\\u0627\\u0646 \\u0627\\u0648\\u0628\\u0631 \\u062f\\u0631 \\u0627\\u06cc\\u0627\\u0644\\u062a \\u0622\\u0631\\u06cc\\u0632\\u0648\\u0646\\u0627 \\u062a\\u0635\\u0627\\u062f\\u0641 \\u06a9\\u0631\\u062f\\u060c \\u0627\\u06cc\\u0646 \\u0634\\u0631\\u06a9\\u062a \\u062a\\u0627\\u06a9\\u0633\\u06cc\\u0631\\u0627\\u0646\\u06cc \\u062a\\u0631\\u062f\\u062f \\u062e\\u0648\\u062f\\u0631\\u0627\\u0646\\u200c\\u0647\\u0627 \\u0631\\u0627 \\u0645\\u0648\\u0642\\u062a\\u0627 \\u0645\\u062a\\u0648\\u0642\\u0641 \\u06a9\\u0631\\u062f.\",\n          \"\\u062e\\u06cc\\u0644\\u06cc \\u06a9\\u0645 \\u067e\\u06cc\\u0634 \\u0645\\u06cc\\u200c\\u0622\\u06cc\\u062f \\u062f\\u0631 \\u0645\\u0648\\u0631\\u062f \\u0645\\u0633\\u0626\\u0644\\u0647 \\u06cc\\u0627 \\u0628\\u06cc\\u0645\\u0627\\u0631\\u06cc \\u062e\\u0627\\u0635\\u06cc \\u0635\\u062d\\u0628\\u062a \\u06a9\\u0646\\u06cc\\u0645 \\u0648 \\u0627\\u06cc\\u0646 \\u062f\\u0648\\u0633\\u062a\\u0645\\u0627\\u0646 \\u062f\\u0631 \\u0645\\u0648\\u0631\\u062f \\u0622\\u0646 \\u0627\\u0637\\u0644\\u0627\\u0639\\u0627\\u062a \\u0646\\u062f\\u0627\\u0634\\u062a\\u0647 \\u0628\\u0627\\u0634\\u062f \\u0648 \\u0631\\u0648\\u0634\\u200c\\u0647\\u0627\\u06cc \\u062c\\u0644\\u0648\\u06af\\u06cc\\u0631\\u06cc \\u06cc\\u0627 \\u062f\\u0631\\u0645\\u0627\\u0646 \\u0622\\u0646 \\u0631\\u0627 \\u0646\\u062f\\u0627\\u0646\\u062f.\",\n          \"\\u0634\\u0631\\u06a9\\u062a \\u06a9\\u0627\\u0631\\u06af\\u0632\\u0627\\u0631\\u06cc \\u0628\\u0627\\u0646\\u06a9 \\u062a\\u0648\\u0633\\u0639\\u0647 \\u0635\\u0627\\u062f\\u0631\\u0627\\u062a \\u062f\\u0631 \\u0633\\u0627\\u0644 \\u06f1\\u06f3\\u06f7\\u06f6 \\u0648 \\u0628\\u0647 \\u0634\\u0645\\u0627\\u0631\\u0647 \\u062b\\u0628\\u062a \\u06f1\\u06f3\\u06f2\\u06f3\\u06f9\\u06f9 \\u062f\\u0631 \\u0627\\u062f\\u0627\\u0631\\u0647 \\u062b\\u0628\\u062a \\u0634\\u0631\\u06a9\\u062a\\u0647\\u0627 \\u0628\\u0647 \\u062b\\u0628\\u062a \\u0631\\u0633\\u06cc\\u062f\\u0647 \\u0627\\u0633\\u062a \\u0648 \\u0628\\u0631 \\u0627\\u0633\\u0627\\u0633 \\u0627\\u0633\\u0627\\u0633\\u0646\\u0627\\u0645\\u0647\\u060c \\u0634\\u0631\\u06a9\\u062a \\u0645\\u06cc\\u200c\\u062a\\u0648\\u0627\\u0646\\u062f \\u0628\\u0627 \\u06a9\\u0633\\u0628 \\u0645\\u062c\\u0648\\u0632\\u0647\\u0627\\u06cc \\u0645\\u0648\\u0631\\u062f \\u0646\\u06cc\\u0627\\u0632 \\u0627\\u0632 \\u0633\\u0627\\u0632\\u0645\\u0627\\u0646 \\u0628\\u0648\\u0631\\u0633 \\u0648 \\u0627\\u0648\\u0631\\u0627\\u0642 \\u0628\\u0647\\u0627\\u062f\\u0627\\u0631 \\u0628\\u0647 \\u0641\\u0639\\u0627\\u0644\\u06cc\\u062a\\u200c\\u0647\\u0627\\u06cc \\u06a9\\u0627\\u0631\\u06af\\u0632\\u0627\\u0631\\u06cc\\u060c \\u0645\\u0639\\u0627\\u0645\\u0644\\u0647\\u200c\\u06af\\u0631\\u06cc \\u0648 \\u0628\\u0627\\u0632\\u0627\\u0631\\u06af\\u0631\\u062f\\u0627\\u0646\\u06cc \\u0648 \\u0647\\u0645\\u0686\\u0646\\u06cc\\u0646 \\u062e\\u062f\\u0645\\u0627\\u062a\\u0646 \\u0645\\u0627\\u0644\\u06cc \\u0648 \\u0645\\u0634\\u0627\\u0648\\u0631\\u0647\\u200c\\u0627\\u06cc \\u0634\\u0631\\u0648\\u0639 \\u06a9\\u0631\\u062f.\"\n        ],\n        \"semantic_type\": \"\",\n        \"description\": \"\"\n      }\n    },\n    {\n      \"column\": \"ref_2\",\n      \"properties\": {\n        \"dtype\": \"string\",\n        \"num_unique_values\": 490,\n        \"samples\": [\n          \"\\u0627\\u0648 \\u062f\\u0631 \\u0627\\u0633\\u062a\\u0639\\u0641\\u0627\\u0646\\u0627\\u0645\\u0647 \\u062e\\u0648\\u062f \\u0622\\u0648\\u0631\\u062f\\u0647\\u200c\\u0627\\u0633\\u062a \\u06a9\\u0647 \\u06af\\u0648\\u06cc\\u0627 \\u0628\\u0631\\u062e\\u06cc \\u0627\\u0632 \\u0627\\u0639\\u0636\\u0627\\u06cc \\u062d\\u0648\\u0632\\u0647 \\u06cc\\u0648\\u0631\\u0648 \\u0648 \\u0634\\u0631\\u06a9\\u0627\\u06cc \\u06af\\u0648\\u0646\\u0627\\u06af\\u0648\\u0646 \\u062a\\u0631\\u062c\\u06cc\\u062d\\u0634\\u0627\\u0646 \\u0628\\u0631 \\u0639\\u062f\\u0645 \\u062d\\u0636\\u0648\\u0631 \\u0645\\u0646 \\u062f\\u0631 \\u0646\\u0634\\u0633\\u062a\\u200c\\u0647\\u0627\\u0633\\u062a\\u060c \\u0627\\u06cc\\u062f\\u0647\\u200c\\u0627\\u06cc \\u06a9\\u0647 \\u0646\\u062e\\u0633\\u062a\\u200c\\u0648\\u0632\\u06cc\\u0631 \\u06cc\\u0648\\u0646\\u0627\\u0646 \\u0631\\u0627 \\u0628\\u0647 \\u0627\\u06cc\\u0646 \\u0628\\u0627\\u0648\\u0631 \\u0631\\u0633\\u0627\\u0646\\u062f\\u0647\\u200c\\u0627\\u0633\\u062a \\u06a9\\u0647 \\u0639\\u062f\\u0645 \\u062d\\u0636\\u0648\\u0631 \\u0645\\u0646 \\u0645\\u06cc\\u200c\\u062a\\u0648\\u0627\\u0646\\u062f \\u0628\\u0631\\u0627\\u06cc \\u062f\\u0633\\u062a\\u06cc\\u0627\\u0628\\u06cc \\u0628\\u0647 \\u06cc\\u06a9 \\u062a\\u0648\\u0627\\u0641\\u0642 \\u0645\\u0641\\u06cc\\u062f \\u0628\\u0627\\u0634\\u062f.\",\n          \"\\u062f\\u0631 \\u0648\\u0627\\u0642\\u0639 \\u0639\\u0627\\u06cc\\u0642 \\u06a9\\u0627\\u0645\\u0644 \\u0648\\u062c\\u0648\\u062f \\u0646\\u062f\\u0627\\u0631\\u062f\\u060c \\u0628\\u0646\\u0627\\u0628\\u0631\\u0627\\u06cc\\u0646 \\u0645\\u0648\\u0627\\u062f \\u062f\\u06cc\\u200c\\u0627\\u0644\\u06a9\\u062a\\u0631\\u06cc\\u06a9 \\u0628\\u0627 \\u062b\\u0627\\u0628\\u062a \\u062f\\u06cc\\u200c\\u0627\\u0644\\u06a9\\u062a\\u0631\\u06cc\\u06a9 \\u0628\\u0627\\u0644\\u0627 \\u0631\\u0627 \\u0639\\u0627\\u06cc\\u0642 \\u0627\\u0644\\u06a9\\u062a\\u0631\\u06cc\\u06a9\\u06cc \\u0645\\u06cc\\u200c\\u0646\\u0627\\u0645\\u0646\\u062f.\",\n          \"\\u062e\\u0628\\u0631\\u0647\\u0627\\u06cc \\u0645\\u0631\\u0632\\u0646\\u0634\\u06cc\\u0646 \\u062e\\u0631\\u0627\\u0633\\u0627\\u0646 \\u0634\\u0645\\u0627\\u0644\\u06cc \\u0646\\u0645\\u0627\\u06cc\\u0634\\u06af\\u0627\\u0647\\u06cc \\u06a9\\u0647 \\u0647\\u0645\\u0647 \\u0627\\u06cc\\u0631\\u0627\\u0646\\u06cc\\u200c\\u0647\\u0627 \\u062f\\u0639\\u0648\\u062a \\u0647\\u0633\\u062a\\u0646\\u062f \\u062a\\u0633\\u0646\\u06cc\\u0645 \\u062f\\u06cc\\u0631\\u0648\\u0632 \\u0628\\u0647\\u200c\\u06af\\u0632\\u0627\\u0631\\u0634 \\u06af\\u0631\\u0648\\u0647 \\u0627\\u062c\\u062a\\u0645\\u0627\\u0639\\u06cc \\u062e\\u0628\\u0631\\u06af\\u0632\\u0627\\u0631\\u06cc \\u062a\\u0633\\u0646\\u06cc\\u0645\\u060c \\u0628\\u0647\\u0645\\u0646 \\u0646\\u0627\\u0645\\u0648\\u0631\\u200c\\u0645\\u0637\\u0644\\u0642 \\u062f\\u0631 \\u0646\\u0634\\u0633\\u062a \\u062e\\u0628\\u0631\\u06cc \\u0628\\u06cc\\u0633\\u062a\\u200c\\u0648\\u200c\\u0647\\u0634\\u062a\\u0645\\u06cc\\u0646 \\u0646\\u0645\\u0627\\u06cc\\u0634\\u06af\\u0627\\u0647 \\u0645\\u0644\\u06cc \\u0635\\u0646\\u0627\\u06cc\\u0639\\u200c\\u062f\\u0633\\u062a\\u06cc\\u060c \\u0628\\u0627 \\u0628\\u06cc\\u0627\\u0646 \\u0627\\u06cc\\u0646 \\u0645\\u0637\\u0644\\u0628\\u060c \\u0627\\u0639\\u0644\\u0627\\u0645 \\u062f\\u0627\\u0634\\u062a: \\u062f\\u0631 \\u0633\\u0627\\u0644\\u200c\\u0647\\u0627\\u06cc \\u06af\\u0630\\u0634\\u062a\\u0647 \\u0634\\u0627\\u0647\\u062f \\u062c\\u0631\\u06cc\\u0627\\u0646 \\u0631\\u0648\\u0628\\u0647\\u200c\\u0631\\u0634\\u062f \\u0648\\u0636\\u0639\\u06cc\\u062a \\u0646\\u0645\\u0627\\u06cc\\u0634\\u06af\\u0627\\u0647\\u200c\\u0647\\u0627 \\u0628\\u0648\\u062f\\u0647\\u200c\\u0627\\u06cc\\u0645 \\u0648 \\u062c\\u0631\\u06cc\\u0627\\u0646 \\u0628\\u0631\\u06af\\u0632\\u0627\\u0631\\u06cc \\u0646\\u0645\\u0627\\u06cc\\u0634\\u06af\\u0627\\u0647\\u200c\\u0647\\u0627 \\u062f\\u0631\\u062d\\u0627\\u0644 \\u062a\\u0648\\u0633\\u0639\\u0647 \\u0627\\u0633\\u062a \\u0648 \\u062e\\u0648\\u0634\\u0628\\u062e\\u062a\\u0627\\u0646\\u0647  \\u0628\\u06cc\\u0633\\u062a\\u200c\\u0648\\u200c\\u0647\\u0634\\u062a\\u0645\\u06cc\\u0646 \\u0646\\u0645\\u0627\\u06cc\\u0634\\u06af\\u0627\\u0647 \\u0645\\u0644\\u06cc \\u0635\\u0646\\u0627\\u06cc\\u0639\\u200c\\u062f\\u0633\\u062a\\u06cc\\u060c \\u0647\\u0631 \\u0631\\u0648\\u0632 \\u0645\\u06cc\\u0632\\u0628\\u0627\\u0646 \\u0633\\u0647 \\u0631\\u0648\\u06cc\\u062f\\u0627\\u062f \\u0648\\u06cc\\u0698\\u0647 \\u0622\\u0646\\u0627 \\u062f\\u06cc\\u0631\\u0648\\u0632 \\u0645\\u0639\\u0627\\u0648\\u0646 \\u0635\\u0646\\u0627\\u06cc\\u0639\\u200c\\u062f\\u0633\\u062a\\u06cc \\u06a9\\u0634\\u0648\\u0631\\u060c \\u0628\\u0627 \\u0628\\u06cc\\u0627\\u0646 \\u0627\\u06cc\\u0646\\u06a9\\u0647 \\u0628\\u06cc\\u0633\\u062a\\u200c\\u0648\\u200c\\u0647\\u0634\\u062a\\u0645\\u06cc\\u0646 \\u0646\\u0645\\u0627\\u06cc\\u0634\\u06af\\u0627\\u0647 \\u0645\\u0644\\u06cc \\u0635\\u0646\\u0627\\u06cc\\u0639\\u200c\\u062f\\u0633\\u062a\\u06cc \\u06f1 \\u062a\\u0627 \\u06f7 \\u0634\\u0647\\u0631\\u06cc\\u0648\\u0631 \\u062f\\u0631 \\u062a\\u0647\\u0631\\u0627\\u0646 \\u0628\\u0631\\u06af\\u0632\\u0627\\u0631 \\u0645\\u06cc\\u200c\\u0634\\u0648\\u062f\\u060c \\u06af\\u0641\\u062a: \\u0646\\u0645\\u0627\\u06cc\\u0634\\u06af\\u0627\\u0647\\u200c\\u0647\\u0627 \\u062f\\u0631 \\u062d\\u0642\\u06cc\\u0642\\u062a \\u0645\\u0639\\u062f\\u0644\\u200c\\u06af\\u06cc\\u0631\\u06cc \\u0635\\u0646\\u0627\\u06cc\\u0639\\u200c\\u062f\\u0633\\u062a\\u06cc \\u0627\\u0633\\u062a\\u061b \\u0686\\u0631\\u0627\\u06a9\\u0647 \\u062f\\u0631 \\u0627\\u06cc\\u0646 \\u0646\\u0645\\u0627\\u06cc\\u0634\\u06af\\u0627\\u0647 \\u062c\\u062f\\u06cc\\u062f\\u200c\\u062a\\u0631\\u06cc\\u0646 \\u0645\\u062d\\u0635\\u0648\\u0644\\u0627\\u062a \\u0627\\u0631\\u0627\\u0626\\u0647 \\u0645\\u06cc\\u200c\\u0634\\u0648\\u062f.\"\n        ],\n        \"semantic_type\": \"\",\n        \"description\": \"\"\n      }\n    },\n    {\n      \"column\": \"LSBERT_simpl\",\n      \"properties\": {\n        \"dtype\": \"string\",\n        \"num_unique_values\": 491,\n        \"samples\": [\n          \"\\u0622\\u0631\\u0634\\u06cc\\u0648 \\u0627\\u0648\\u0628\\u0631 \\u0628\\u0639\\u062f \\u0627\\u0632 \\u06cc\\u06a9 \\u062a\\u0635\\u0627\\u062f\\u0641 \\u062f\\u0631 \\u0622\\u0631\\u06cc\\u0632\\u0648\\u0646\\u0627 \\u062e\\u0648\\u062f\\u0631\\u0627\\u0646\\u200c\\u0647\\u0627 \\u0631\\u0627 \\u0641\\u0631\\u0627\\u062e\\u0648\\u0627\\u0646\\u062f \\u0639\\u0635\\u0631 \\u062e\\u0648\\u062f\\u0631\\u0648 \\u067e\\u0633 \\u0622\\u0646\\u200c\\u06a9\\u0647 \\u062e\\u0648\\u062f\\u0631\\u0627\\u0646 \\u0627\\u06cc\\u0627\\u0644\\u062a \\u06a9\\u0631\\u062f \\u060c \\u0627\\u06cc\\u0646 \\u0634\\u0631\\u06a9\\u062a \\u062a\\u0627\\u06a9\\u0633\\u06cc\\u0631\\u0627\\u0646\\u06cc \\u062a\\u0631\\u062f\\u062f \\u0645\\u0648\\u0642\\u062a\\u0627 \\u062a\\u0639\\u0644\\u06cc\\u0642 .\",\n          \"\\u062e\\u06cc\\u0644\\u06cc \\u06a9\\u0645 \\u067e\\u06cc\\u0634 \\u0645\\u06cc\\u200c\\u0622\\u06cc\\u062f \\u062f\\u0631 \\u0645\\u0648\\u0631\\u062f \\u0645\\u0633\\u0626\\u0644\\u0647 \\u06cc\\u0627 \\u0628\\u06cc\\u0645\\u0627\\u0631\\u06cc \\u062e\\u0627\\u0635\\u06cc \\u0635\\u062d\\u0628\\u062a \\u06a9\\u0646\\u06cc\\u0645 \\u0648 \\u0627\\u06cc\\u0646 \\u062f\\u0648\\u0633\\u062a\\u0645\\u0627\\u0646 \\u0622\\u0646 \\u0627\\u0637\\u0644\\u0627\\u0639\\u0627\\u062a \\u0646\\u062f\\u0627\\u0634\\u062a\\u0647_\\u0628\\u0627\\u0634\\u062f \\u0631\\u0648\\u0634\\u200c\\u0647\\u0627\\u06cc \\u067e\\u06cc\\u0634\\u06af\\u06cc\\u0631\\u06cc \\u062f\\u0631\\u0645\\u0627\\u0646 \\u0631\\u0627 \\u0646\\u062f\\u0627\\u0646\\u062f .\",\n          \"\\u0634\\u0631\\u06a9\\u062a \\u06a9\\u0627\\u0631\\u06af\\u0632\\u0627\\u0631\\u06cc \\u0628\\u0627\\u0646\\u06a9 \\u062a\\u0648\\u0633\\u0639\\u0647 \\u0635\\u0627\\u062f\\u0631\\u0627\\u062a \\u062f\\u0631 \\u0633\\u0627\\u0644 \\u06f1\\u06f3\\u06f7\\u06f6 \\u0648 \\u0628\\u0647 \\u0634\\u0645\\u0627\\u0631\\u0647 \\u062b\\u0628\\u062a \\u06f1\\u06f3\\u06f2\\u06f3\\u06f9\\u06f9 \\u0627\\u062f\\u0627\\u0631\\u0647 \\u0634\\u0631\\u06a9\\u062a\\u0647\\u0627 \\u0631\\u0633\\u06cc\\u062f\\u0647_\\u0627\\u0633\\u062a \\u0628\\u0631 \\u0627\\u0633\\u0627\\u0633 \\u0627\\u0633\\u0627\\u0633\\u0646\\u0627\\u0645\\u0647 \\u060c \\u0645\\u06cc\\u200c\\u062a\\u0648\\u0627\\u0646\\u062f \\u0628\\u0627 \\u06a9\\u0633\\u0628 \\u0645\\u062c\\u0648\\u0632\\u0647\\u0627\\u06cc \\u0645\\u0648\\u0631\\u062f \\u0646\\u06cc\\u0627\\u0632 \\u0627\\u0632 \\u0633\\u0627\\u0632\\u0645\\u0627\\u0646 \\u0628\\u0648\\u0631\\u0633 \\u0627\\u0648\\u0631\\u0627\\u0642 \\u0628\\u0647\\u0627\\u062f\\u0627\\u0631 \\u0641\\u0639\\u0627\\u0644\\u06cc\\u062a\\u200c\\u0647\\u0627\\u06cc \\u0645\\u0639\\u0627\\u0645\\u0644\\u0647\\u200c\\u06af\\u0631\\u06cc \\u0628\\u0627\\u0632\\u0627\\u0631\\u06af\\u0631\\u062f\\u0627\\u0646\\u06cc \\u0647\\u0645\\u0686\\u0646\\u06cc\\u0646 \\u062e\\u062f\\u0645\\u0627\\u062a\\u0646 \\u0645\\u0627\\u0644\\u06cc \\u0645\\u0634\\u0627\\u0648\\u0631\\u0647\\u200c\\u0627\\u06cc \\u0645\\u0628\\u0627\\u062f\\u0631\\u062a \\u0648\\u0631\\u0632\\u062f .\"\n        ],\n        \"semantic_type\": \"\",\n        \"description\": \"\"\n      }\n    },\n    {\n      \"column\": \"ziph_simpl\",\n      \"properties\": {\n        \"dtype\": \"string\",\n        \"num_unique_values\": 491,\n        \"samples\": [\n          \"\\u0622\\u0631\\u0634\\u06cc\\u0648 \\u0627\\u0648\\u0628\\u0631 \\u0648\\u0628\\u0639\\u062f \\u0627\\u0632 \\u06cc\\u06a9 \\u062a\\u0635\\u0627\\u062f\\u0641 \\u062f\\u0631 \\u0622\\u0631\\u06cc\\u0632\\u0648\\u0646\\u0627 \\u062e\\u0648\\u062f\\u0631\\u0627\\u0646\\u200c\\u0647\\u0627 \\u0631\\u0627 \\u0641\\u0631\\u0627\\u062e\\u0648\\u0627\\u0646\\u062f \\u0639\\u0635\\u0631 \\u062e\\u0648\\u062f\\u0631\\u0648 \\u067e\\u0633 \\u0627\\u0646 \\u062e\\u0648\\u062f\\u0631\\u0627\\u0646 \\u0627\\u06cc\\u0627\\u0644\\u062a \\u06a9\\u0631\\u062f \\u060c \\u0627\\u06cc\\u0646 \\u0634\\u0631\\u06a9\\u062a \\u062a\\u0627\\u06a9\\u0633\\u06cc\\u0631\\u0627\\u0646\\u06cc \\u062a\\u0631\\u062f\\u062f \\u0641\\u0639\\u0644\\u0627 \\u062a\\u0639\\u0644\\u06cc\\u0642 .\",\n          \"\\u062e\\u06cc\\u0644\\u06cc \\u06a9\\u0645 \\u067e\\u06cc\\u0634 \\u0645\\u06cc\\u200c\\u0622\\u06cc\\u062f \\u062f\\u0631 \\u0645\\u0648\\u0631\\u062f \\u0645\\u0633\\u0626\\u0644\\u0647 \\u06cc \\u0645\\u0634\\u06a9\\u0644 \\u062e\\u0627\\u0635\\u06cc \\u0627\\u0633\\u062a\\u0641\\u0627\\u062f\\u0647 \\u06a9\\u0646\\u06cc\\u0645 \\u0648 \\u0627\\u06cc\\u0646 \\u062f\\u0648\\u0633\\u062a\\u0645\\u0627\\u0646 \\u0622\\u0646 \\u0627\\u0637\\u0644\\u0627\\u0639\\u0627\\u062a \\u0646\\u062f\\u0627\\u0634\\u062a\\u0647_\\u0628\\u0627\\u0634\\u062f \\u0645\\u0633\\u0627\\u0626\\u0644 \\u067e\\u06cc\\u0634\\u06af\\u06cc\\u0631\\u06cc \\u06a9\\u0646\\u062a\\u0631\\u0644 \\u0631\\u0627 \\u0646\\u062f\\u0627\\u0646\\u062f .\",\n          \"\\u0634\\u0631\\u06a9\\u062a \\u06a9\\u0627\\u0631\\u06af\\u0632\\u0627\\u0631\\u06cc \\u0628\\u0627\\u0646\\u06a9 \\u0647\\u0627\\u06cc \\u0635\\u0627\\u062f\\u0631\\u0627\\u062a \\u062f\\u0631 \\u0633\\u0627\\u0644 \\u06f1\\u06f3\\u06f7\\u06f6 \\u0648 \\u0628\\u0647 \\u0633\\u0627\\u0644 \\u062b\\u0628\\u062a \\u06f1\\u06f3\\u06f2\\u06f3\\u06f9\\u06f9 \\u0634\\u0631\\u06a9\\u062a \\u0647\\u0627 \\u0631\\u0633\\u06cc\\u062f\\u0647_\\u0627\\u0633\\u062a \\u0628\\u0631 \\u0627\\u0633\\u0627\\u0633 \\u0627\\u0633\\u0627\\u0633\\u0646\\u0627\\u0645\\u0647 \\u060c \\u062e\\u0648\\u0627\\u0647\\u062f \\u0628\\u0627 \\u06af\\u0631\\u0641\\u062a\\u0646 \\u0627\\u0637\\u0644\\u0627\\u0639\\u0627\\u062a \\u0645\\u0648\\u0631\\u062f \\u0646\\u06cc\\u0627\\u0632 \\u0627\\u0632 \\u0633\\u0627\\u0632\\u0645\\u0627\\u0646 \\u0628\\u0648\\u0631\\u0633 \\u0628\\u0627\\u0632\\u0627\\u0631 \\u0628\\u0647\\u0627\\u062f\\u0627\\u0631 \\u0641\\u0639\\u0627\\u0644\\u06cc\\u062a\\u200c\\u0647\\u0627\\u06cc \\u0641\\u0631\\u0648\\u0634 \\u0628\\u0627\\u0632\\u0627\\u0631\\u06af\\u0631\\u062f\\u0627\\u0646\\u06cc \\u0647\\u0645\\u0686\\u0646\\u06cc\\u0646 \\u062e\\u062f\\u0645\\u0627\\u062a\\u0646 \\u0645\\u0627\\u0644\\u06cc \\u0645\\u0634\\u0627\\u0648\\u0631\\u0647\\u200c\\u0627\\u06cc \\u0645\\u0628\\u0627\\u062f\\u0631\\u062a \\u0648\\u0631\\u0632\\u062f .\"\n        ],\n        \"semantic_type\": \"\",\n        \"description\": \"\"\n      }\n    },\n    {\n      \"column\": \"similarity_simpl\",\n      \"properties\": {\n        \"dtype\": \"string\",\n        \"num_unique_values\": 491,\n        \"samples\": [\n          \"\\u0622\\u0631\\u0634\\u06cc\\u0648 \\u0627\\u0648\\u0628\\u0631 \\u0648\\u0628\\u0639\\u062f \\u0627\\u0632 \\u06cc\\u06a9 \\u062a\\u0635\\u0627\\u062f\\u0641 \\u062f\\u0631 \\u0622\\u0631\\u06cc\\u0632\\u0648\\u0646\\u0627 \\u062e\\u0648\\u062f\\u0631\\u0627\\u0646\\u200c\\u0647\\u0627 \\u0631\\u0627 \\u0641\\u0631\\u0627\\u062e\\u0648\\u0627\\u0646\\u062f \\u0639\\u0635\\u0631 \\u062e\\u0648\\u062f\\u0631\\u0648 \\u067e\\u0633 \\u06af\\u0630\\u0634\\u062a \\u062e\\u0648\\u062f\\u0631\\u0627\\u0646 \\u0627\\u06cc\\u0627\\u0644\\u062a \\u06a9\\u0631\\u062f \\u060c \\u0627\\u06cc\\u0646 \\u0634\\u0631\\u06a9\\u062a \\u062a\\u0627\\u06a9\\u0633\\u06cc\\u0631\\u0627\\u0646\\u06cc \\u062a\\u0631\\u062f\\u062f \\u0645\\u062c\\u062f\\u062f\\u0627 \\u062a\\u0639\\u0644\\u06cc\\u0642 .\",\n          \"\\u062e\\u06cc\\u0644\\u06cc \\u06a9\\u0645 \\u067e\\u06cc\\u0634 \\u0645\\u06cc\\u200c\\u0622\\u06cc\\u062f \\u062f\\u0631 \\u0645\\u0648\\u0631\\u062f \\u0645\\u0633\\u0626\\u0644\\u0647 \\u064a\\u0627 \\u0628\\u064a\\u0645\\u0627\\u0631\\u064a \\u062e\\u0627\\u0635\\u06cc \\u06af\\u0641\\u062a\\u06af\\u0648 \\u06a9\\u0646\\u06cc\\u0645 \\u0648 \\u0627\\u06cc\\u0646 \\u062f\\u0648\\u0633\\u062a\\u0645\\u0627\\u0646 \\u0622\\u0646 \\u0627\\u0637\\u0644\\u0627\\u0639\\u0627\\u062a \\u0646\\u062f\\u0627\\u0634\\u062a\\u0647_\\u0628\\u0627\\u0634\\u062f \\u0634\\u06cc\\u0648\\u0647 \\u067e\\u06cc\\u0634\\u06af\\u06cc\\u0631\\u06cc \\u062f\\u0631\\u0645\\u0627\\u0646\\u06cc \\u0631\\u0627 \\u0646\\u062f\\u0627\\u0646\\u062f .\",\n          \"\\u0634\\u0631\\u06a9\\u062a \\u06a9\\u0627\\u0631\\u06af\\u0632\\u0627\\u0631\\u06cc \\u0628\\u0627\\u0646\\u06a9 \\u06af\\u0633\\u062a\\u0631\\u0634 \\u0635\\u0627\\u062f\\u0631\\u0627\\u062a \\u062f\\u0631 \\u0633\\u0627\\u0644 \\u06f1\\u06f3\\u06f7\\u06f6 \\u0648 \\u0628\\u0647 \\u0635\\u0641\\u062d\\u0647 \\u062b\\u0628\\u062a \\u06f1\\u06f3\\u06f2\\u06f3\\u06f9\\u06f9 \\u0633\\u0627\\u0632\\u0645\\u0627\\u0646 \\u0634\\u0631\\u06a9\\u062a \\u0631\\u0633\\u06cc\\u062f\\u0647_\\u0627\\u0633\\u062a \\u0628\\u0631 \\u0627\\u0633\\u0627\\u0633 \\u0627\\u0633\\u0627\\u0633\\u0646\\u0627\\u0645\\u0647 \\u060c \\u0628\\u062a\\u0648\\u0627\\u0646\\u062f \\u0628\\u0627 \\u0643\\u0633\\u0628 \\u0645\\u062c\\u0648\\u0632 \\u0645\\u0648\\u0631\\u062f \\u0646\\u06cc\\u0627\\u0632 \\u0627\\u0632 \\u0633\\u0627\\u0632\\u0645\\u0627\\u0646 \\u0628\\u0648\\u0631\\u0633 \\u0633\\u0647\\u0627\\u0645 \\u0628\\u0647\\u0627\\u062f\\u0627\\u0631 \\u0641\\u0639\\u0627\\u0644\\u06cc\\u062a\\u200c\\u0647\\u0627\\u06cc \\u0645\\u0639\\u0627\\u0645\\u0644\\u0627\\u062a \\u0628\\u0627\\u0632\\u0627\\u0631\\u06af\\u0631\\u062f\\u0627\\u0646\\u06cc \\u0647\\u0645\\u0686\\u0646\\u06cc\\u0646 \\u062e\\u062f\\u0645\\u0627\\u062a\\u0646 \\u0645\\u0627\\u0644\\u06cc \\u0645\\u0634\\u0627\\u0648\\u0631\\u0647\\u200c\\u0627\\u06cc \\u0645\\u0628\\u0627\\u062f\\u0631\\u062a \\u0648\\u0631\\u0632\\u062f .\"\n        ],\n        \"semantic_type\": \"\",\n        \"description\": \"\"\n      }\n    },\n    {\n      \"column\": \"BERT_simpl\",\n      \"properties\": {\n        \"dtype\": \"string\",\n        \"num_unique_values\": 491,\n        \"samples\": [\n          \"\\u0622\\u0631\\u0634\\u06cc\\u0648 \\u0627\\u0648\\u0628\\u0631 \\u0648\\u0628\\u0639\\u062f \\u0627\\u0632 \\u06cc\\u06a9 \\u062a\\u0635\\u0627\\u062f\\u0641 \\u062f\\u0631 \\u0622\\u0631\\u06cc\\u0632\\u0648\\u0646\\u0627 \\u062e\\u0648\\u062f\\u0631\\u0627\\u0646\\u200c\\u0647\\u0627 \\u0631\\u0627 \\u0641\\u0631\\u0627\\u062e\\u0648\\u0627\\u0646\\u062f \\u0639\\u0635\\u0631 \\u062e\\u0648\\u062f\\u0631\\u0648 \\u067e\\u0633 \\u0627\\u0646 \\u062e\\u0648\\u062f\\u0631\\u0627\\u0646 \\u0627\\u06cc\\u0627\\u0644\\u062a \\u06a9\\u0631\\u062f \\u060c \\u0627\\u06cc\\u0646 \\u0634\\u0631\\u06a9\\u062a \\u062a\\u0627\\u06a9\\u0633\\u06cc\\u0631\\u0627\\u0646\\u06cc \\u062a\\u0631\\u062f\\u062f \\u0645\\u0648\\u0642\\u062a \\u062a\\u0639\\u0644\\u06cc\\u0642 .\",\n          \"\\u062e\\u06cc\\u0644\\u06cc \\u06a9\\u0645 \\u067e\\u06cc\\u0634 \\u0645\\u06cc\\u200c\\u0622\\u06cc\\u062f \\u062f\\u0631 \\u0645\\u0648\\u0631\\u062f \\u0645\\u0633\\u0626\\u0644\\u0647 \\u064a\\u0627 \\u0628\\u064a\\u0645\\u0627\\u0631\\u064a \\u062e\\u0627\\u0635\\u06cc \\u0628\\u062d\\u062b \\u06a9\\u0646\\u06cc\\u0645 \\u0648 \\u0627\\u06cc\\u0646 \\u062f\\u0648\\u0633\\u062a\\u0645\\u0627\\u0646 \\u0622\\u0646 \\u0627\\u0637\\u0644\\u0627\\u0639\\u0627\\u062a \\u0646\\u062f\\u0627\\u0634\\u062a\\u0647_\\u0628\\u0627\\u0634\\u062f \\u0637\\u0631\\u0642 \\u067e\\u06cc\\u0634\\u06af\\u06cc\\u0631\\u06cc \\u062f\\u0631\\u0645\\u0627\\u0646\\u06cc \\u0631\\u0627 \\u0646\\u062f\\u0627\\u0646\\u062f .\",\n          \"\\u0634\\u0631\\u06a9\\u062a \\u06a9\\u0627\\u0631\\u06af\\u0632\\u0627\\u0631\\u06cc \\u0628\\u0627\\u0646\\u06a9 \\u06af\\u0633\\u062a\\u0631\\u0634 \\u0635\\u0627\\u062f\\u0631\\u0627\\u062a \\u062f\\u0631 \\u0633\\u0627\\u0644 \\u06f1\\u06f3\\u06f7\\u06f6 \\u0648 \\u0628\\u0647 \\u06a9\\u062f \\u062b\\u0628\\u062a \\u06f1\\u06f3\\u06f2\\u06f3\\u06f9\\u06f9 \\u0633\\u0627\\u0632\\u0645\\u0627\\u0646 \\u0634\\u0631\\u06a9\\u062a \\u0631\\u0633\\u06cc\\u062f\\u0647_\\u0627\\u0633\\u062a \\u0628\\u0631 \\u0627\\u0633\\u0627\\u0633 \\u0627\\u0633\\u0627\\u0633\\u0646\\u0627\\u0645\\u0647 \\u060c \\u0645\\u06cc\\u062a\\u0648\\u0627\\u0646\\u062f \\u0628\\u0627 \\u0627\\u062e\\u0630 \\u0645\\u062c\\u0648\\u0632 \\u0645\\u0648\\u0631\\u062f \\u0646\\u06cc\\u0627\\u0632 \\u0627\\u0632 \\u0633\\u0627\\u0632\\u0645\\u0627\\u0646 \\u0628\\u0648\\u0631\\u0633 \\u0627\\u062c\\u0627\\u0631\\u0647 \\u0628\\u0647\\u0627\\u062f\\u0627\\u0631 \\u0641\\u0639\\u0627\\u0644\\u06cc\\u062a\\u200c\\u0647\\u0627\\u06cc \\u0645\\u0639\\u0627\\u0645\\u0644\\u0647 \\u0628\\u0627\\u0632\\u0627\\u0631\\u06af\\u0631\\u062f\\u0627\\u0646\\u06cc \\u0647\\u0645\\u0686\\u0646\\u06cc\\u0646 \\u062e\\u062f\\u0645\\u0627\\u062a\\u0646 \\u0645\\u0627\\u0644\\u06cc \\u0645\\u0634\\u0627\\u0648\\u0631\\u0647\\u200c\\u0627\\u06cc \\u0645\\u0628\\u0627\\u062f\\u0631\\u062a \\u0648\\u0631\\u0632\\u062f .\"\n        ],\n        \"semantic_type\": \"\",\n        \"description\": \"\"\n      }\n    },\n    {\n      \"column\": \"loss_simpl\",\n      \"properties\": {\n        \"dtype\": \"string\",\n        \"num_unique_values\": 491,\n        \"samples\": [\n          \"\\u0622\\u0631\\u0634\\u06cc\\u0648 \\u0627\\u0648\\u0628\\u0631 \\u0628\\u0639\\u062f \\u0627\\u0632 \\u06cc\\u06a9 \\u062a\\u0635\\u0627\\u062f\\u0641 \\u062f\\u0631 \\u0622\\u0631\\u06cc\\u0632\\u0648\\u0646\\u0627 \\u062e\\u0648\\u062f\\u0631\\u0627\\u0646\\u200c\\u0647\\u0627 \\u0631\\u0627 \\u0641\\u0631\\u0627\\u062e\\u0648\\u0627\\u0646\\u062f \\u0639\\u0635\\u0631 \\u062e\\u0648\\u062f\\u0631\\u0648 \\u067e\\u0633 \\u0622\\u0646\\u200c\\u06a9\\u0647 \\u062e\\u0648\\u062f\\u0631\\u0627\\u0646 \\u0627\\u06cc\\u0627\\u0644\\u062a \\u06a9\\u0631\\u062f \\u060c \\u0627\\u06cc\\u0646 \\u0634\\u0631\\u06a9\\u062a \\u062a\\u0627\\u06a9\\u0633\\u06cc\\u0631\\u0627\\u0646\\u06cc \\u062a\\u0631\\u062f\\u062f \\u0645\\u0648\\u0642\\u062a\\u0627 \\u062a\\u0639\\u0644\\u06cc\\u0642 .\",\n          \"\\u062e\\u06cc\\u0644\\u06cc \\u06a9\\u0645 \\u067e\\u06cc\\u0634 \\u0645\\u06cc\\u200c\\u0622\\u06cc\\u062f \\u062f\\u0631 \\u0645\\u0648\\u0631\\u062f \\u0645\\u0633\\u0626\\u0644\\u0647 \\u06cc\\u0627 \\u0628\\u06cc\\u0645\\u0627\\u0631\\u06cc \\u062e\\u0627\\u0635\\u06cc \\u0635\\u062d\\u0628\\u062a \\u06a9\\u0646\\u06cc\\u0645 \\u0648 \\u0627\\u06cc\\u0646 \\u062f\\u0648\\u0633\\u062a\\u0645\\u0627\\u0646 \\u0622\\u0646 \\u0627\\u0637\\u0644\\u0627\\u0639\\u0627\\u062a \\u0646\\u062f\\u0627\\u0634\\u062a\\u0647_\\u0628\\u0627\\u0634\\u062f \\u0631\\u0648\\u0634\\u200c\\u0647\\u0627\\u06cc \\u067e\\u06cc\\u0634\\u06af\\u06cc\\u0631\\u06cc \\u062f\\u0631\\u0645\\u0627\\u0646 \\u0631\\u0627 \\u0646\\u062f\\u0627\\u0646\\u062f .\",\n          \"\\u0634\\u0631\\u06a9\\u062a \\u06a9\\u0627\\u0631\\u06af\\u0632\\u0627\\u0631\\u06cc \\u0628\\u0627\\u0646\\u06a9 \\u062a\\u0648\\u0633\\u0639\\u0647 \\u0635\\u0627\\u062f\\u0631\\u0627\\u062a \\u062f\\u0631 \\u0633\\u0627\\u0644 \\u06f1\\u06f3\\u06f7\\u06f6 \\u0648 \\u0628\\u0647 \\u0634\\u0645\\u0627\\u0631\\u0647 \\u062b\\u0628\\u062a \\u06f1\\u06f3\\u06f2\\u06f3\\u06f9\\u06f9 \\u0627\\u062f\\u0627\\u0631\\u0647 \\u0634\\u0631\\u06a9\\u062a\\u0647\\u0627 \\u0631\\u0633\\u06cc\\u062f\\u0647_\\u0627\\u0633\\u062a \\u0628\\u0631 \\u0627\\u0633\\u0627\\u0633 \\u0627\\u0633\\u0627\\u0633\\u0646\\u0627\\u0645\\u0647 \\u060c \\u0645\\u06cc\\u200c\\u062a\\u0648\\u0627\\u0646\\u062f \\u0628\\u0627 \\u06a9\\u0633\\u0628 \\u0645\\u062c\\u0648\\u0632\\u0647\\u0627\\u06cc \\u0645\\u0648\\u0631\\u062f \\u0646\\u06cc\\u0627\\u0632 \\u0627\\u0632 \\u0633\\u0627\\u0632\\u0645\\u0627\\u0646 \\u0628\\u0648\\u0631\\u0633 \\u0627\\u0648\\u0631\\u0627\\u0642 \\u0628\\u0647\\u0627\\u062f\\u0627\\u0631 \\u0641\\u0639\\u0627\\u0644\\u06cc\\u062a\\u200c\\u0647\\u0627\\u06cc \\u0645\\u0639\\u0627\\u0645\\u0644\\u0647\\u200c\\u06af\\u0631\\u06cc \\u0628\\u0627\\u0632\\u0627\\u0631\\u06af\\u0631\\u062f\\u0627\\u0646\\u06cc \\u0647\\u0645\\u0686\\u0646\\u06cc\\u0646 \\u062e\\u062f\\u0645\\u0627\\u062a\\u0646 \\u0645\\u0627\\u0644\\u06cc \\u0645\\u0634\\u0627\\u0648\\u0631\\u0647\\u200c\\u0627\\u06cc \\u0645\\u0628\\u0627\\u062f\\u0631\\u062a \\u0648\\u0631\\u0632\\u062f .\"\n        ],\n        \"semantic_type\": \"\",\n        \"description\": \"\"\n      }\n    },\n    {\n      \"column\": \"z_LSBERT_all\",\n      \"properties\": {\n        \"dtype\": \"string\",\n        \"num_unique_values\": 491,\n        \"samples\": [\n          \"\\u0622\\u0631\\u0634\\u06cc\\u0648 \\u0627\\u0648\\u0628\\u0631 \\u0628\\u0639\\u062f \\u0627\\u0632 \\u06cc\\u06a9 \\u062a\\u0635\\u0627\\u062f\\u0641 \\u062f\\u0631 \\u0622\\u0631\\u06cc\\u0632\\u0648\\u0646\\u0627 \\u062e\\u0648\\u062f\\u0631\\u0627\\u0646\\u200c\\u0647\\u0627 \\u0631\\u0627 \\u0641\\u0631\\u0627\\u062e\\u0648\\u0627\\u0646\\u062f \\u0639\\u0635\\u0631 \\u062e\\u0648\\u062f\\u0631\\u0648 \\u067e\\u0633 \\u0622\\u0646\\u200c\\u06a9\\u0647 \\u062e\\u0648\\u062f\\u0631\\u0627\\u0646 \\u0627\\u06cc\\u0627\\u0644\\u062a \\u06a9\\u0631\\u062f \\u060c \\u0627\\u06cc\\u0646 \\u0634\\u0631\\u06a9\\u062a \\u062a\\u0627\\u06a9\\u0633\\u06cc\\u0631\\u0627\\u0646\\u06cc \\u062a\\u0631\\u062f\\u062f \\u0645\\u0648\\u0642\\u062a\\u0627 \\u062a\\u0639\\u0644\\u06cc\\u0642 .\",\n          \"\\u062e\\u06cc\\u0644\\u06cc \\u06a9\\u0645 \\u067e\\u06cc\\u0634 \\u0645\\u06cc\\u200c\\u0622\\u06cc\\u062f \\u062f\\u0631 \\u0645\\u0648\\u0631\\u062f \\u0645\\u0633\\u0626\\u0644\\u0647 \\u06cc\\u0627 \\u0628\\u06cc\\u0645\\u0627\\u0631\\u06cc \\u062e\\u0627\\u0635\\u06cc \\u0635\\u062d\\u0628\\u062a \\u06a9\\u0646\\u06cc\\u0645 \\u0648 \\u0627\\u06cc\\u0646 \\u062f\\u0648\\u0633\\u062a\\u0645\\u0627\\u0646 \\u0622\\u0646 \\u0627\\u0637\\u0644\\u0627\\u0639\\u0627\\u062a \\u0646\\u062f\\u0627\\u0634\\u062a\\u0647_\\u0628\\u0627\\u0634\\u062f \\u0631\\u0648\\u0634\\u200c\\u0647\\u0627\\u06cc \\u067e\\u06cc\\u0634\\u06af\\u06cc\\u0631\\u06cc \\u062f\\u0631\\u0645\\u0627\\u0646 \\u0631\\u0627 \\u0646\\u062f\\u0627\\u0646\\u062f .\",\n          \"\\u0634\\u0631\\u06a9\\u062a \\u06a9\\u0627\\u0631\\u06af\\u0632\\u0627\\u0631\\u06cc \\u0628\\u0627\\u0646\\u06a9 \\u062a\\u0648\\u0633\\u0639\\u0647 \\u0635\\u0627\\u062f\\u0631\\u0627\\u062a \\u062f\\u0631 \\u0633\\u0627\\u0644 \\u06f1\\u06f3\\u06f7\\u06f6 \\u0648 \\u0628\\u0647 \\u0634\\u0645\\u0627\\u0631\\u0647 \\u062b\\u0628\\u062a \\u06f1\\u06f3\\u06f2\\u06f3\\u06f9\\u06f9 \\u0627\\u062f\\u0627\\u0631\\u0647 \\u0634\\u0631\\u06a9\\u062a\\u0647\\u0627 \\u0631\\u0633\\u06cc\\u062f\\u0647_\\u0627\\u0633\\u062a \\u0628\\u0631 \\u0627\\u0633\\u0627\\u0633 \\u0627\\u0633\\u0627\\u0633\\u0646\\u0627\\u0645\\u0647 \\u060c \\u0645\\u06cc\\u200c\\u062a\\u0648\\u0627\\u0646\\u062f \\u0628\\u0627 \\u06a9\\u0633\\u0628 \\u0645\\u062c\\u0648\\u0632\\u0647\\u0627\\u06cc \\u0645\\u0648\\u0631\\u062f \\u0646\\u06cc\\u0627\\u0632 \\u0627\\u0632 \\u0633\\u0627\\u0632\\u0645\\u0627\\u0646 \\u0628\\u0648\\u0631\\u0633 \\u0627\\u0648\\u0631\\u0627\\u0642 \\u0628\\u0647\\u0627\\u062f\\u0627\\u0631 \\u0641\\u0639\\u0627\\u0644\\u06cc\\u062a\\u200c\\u0647\\u0627\\u06cc \\u0645\\u0639\\u0627\\u0645\\u0644\\u0647\\u200c\\u06af\\u0631\\u06cc \\u0628\\u0627\\u0632\\u0627\\u0631\\u06af\\u0631\\u062f\\u0627\\u0646\\u06cc \\u0647\\u0645\\u0686\\u0646\\u06cc\\u0646 \\u062e\\u062f\\u0645\\u0627\\u062a\\u0646 \\u0645\\u0627\\u0644\\u06cc \\u0645\\u0634\\u0627\\u0648\\u0631\\u0647\\u200c\\u0627\\u06cc \\u0645\\u0628\\u0627\\u062f\\u0631\\u062a \\u0648\\u0631\\u0632\\u062f .\"\n        ],\n        \"semantic_type\": \"\",\n        \"description\": \"\"\n      }\n    },\n    {\n      \"column\": \"z_LSBERT_zipf\",\n      \"properties\": {\n        \"dtype\": \"string\",\n        \"num_unique_values\": 491,\n        \"samples\": [\n          \"\\u0622\\u0631\\u0634\\u06cc\\u0648 \\u0627\\u0648\\u0628\\u0631 \\u0628\\u0639\\u062f \\u0627\\u0632 \\u06cc\\u06a9 \\u062a\\u0635\\u0627\\u062f\\u0641 \\u062f\\u0631 \\u0622\\u0631\\u06cc\\u0632\\u0648\\u0646\\u0627 \\u062e\\u0648\\u062f\\u0631\\u0627\\u0646\\u200c\\u0647\\u0627 \\u0631\\u0627 \\u0641\\u0631\\u0627\\u062e\\u0648\\u0627\\u0646\\u062f \\u0639\\u0635\\u0631 \\u062e\\u0648\\u062f\\u0631\\u0648 \\u067e\\u0633 \\u0622\\u0646\\u200c\\u06a9\\u0647 \\u062e\\u0648\\u062f\\u0631\\u0627\\u0646 \\u0627\\u06cc\\u0627\\u0644\\u062a \\u06a9\\u0631\\u062f \\u060c \\u0627\\u06cc\\u0646 \\u0634\\u0631\\u06a9\\u062a \\u062a\\u0627\\u06a9\\u0633\\u06cc\\u0631\\u0627\\u0646\\u06cc \\u062a\\u0631\\u062f\\u062f \\u0645\\u0648\\u0642\\u062a\\u0627 \\u062a\\u0639\\u0644\\u06cc\\u0642 .\",\n          \"\\u062e\\u06cc\\u0644\\u06cc \\u06a9\\u0645 \\u067e\\u06cc\\u0634 \\u0645\\u06cc\\u200c\\u0622\\u06cc\\u062f \\u062f\\u0631 \\u0645\\u0648\\u0631\\u062f \\u0645\\u0633\\u0626\\u0644\\u0647 \\u06cc\\u0627 \\u0628\\u06cc\\u0645\\u0627\\u0631\\u06cc \\u062e\\u0627\\u0635\\u06cc \\u0635\\u062d\\u0628\\u062a \\u06a9\\u0646\\u06cc\\u0645 \\u0648 \\u0627\\u06cc\\u0646 \\u062f\\u0648\\u0633\\u062a\\u0645\\u0627\\u0646 \\u0622\\u0646 \\u0627\\u0637\\u0644\\u0627\\u0639\\u0627\\u062a \\u0646\\u062f\\u0627\\u0634\\u062a\\u0647_\\u0628\\u0627\\u0634\\u062f \\u0631\\u0648\\u0634\\u200c\\u0647\\u0627\\u06cc \\u067e\\u06cc\\u0634\\u06af\\u06cc\\u0631\\u06cc \\u062f\\u0631\\u0645\\u0627\\u0646 \\u0631\\u0627 \\u0646\\u062f\\u0627\\u0646\\u062f .\",\n          \"\\u0634\\u0631\\u06a9\\u062a \\u06a9\\u0627\\u0631\\u06af\\u0632\\u0627\\u0631\\u06cc \\u0628\\u0627\\u0646\\u06a9 \\u062a\\u0648\\u0633\\u0639\\u0647 \\u0635\\u0627\\u062f\\u0631\\u0627\\u062a \\u062f\\u0631 \\u0633\\u0627\\u0644 \\u06f1\\u06f3\\u06f7\\u06f6 \\u0648 \\u0628\\u0647 \\u0634\\u0645\\u0627\\u0631\\u0647 \\u062b\\u0628\\u062a \\u06f1\\u06f3\\u06f2\\u06f3\\u06f9\\u06f9 \\u0627\\u062f\\u0627\\u0631\\u0647 \\u0634\\u0631\\u06a9\\u062a\\u0647\\u0627 \\u0631\\u0633\\u06cc\\u062f\\u0647_\\u0627\\u0633\\u062a \\u0628\\u0631 \\u0627\\u0633\\u0627\\u0633 \\u0627\\u0633\\u0627\\u0633\\u0646\\u0627\\u0645\\u0647 \\u060c \\u0645\\u06cc\\u200c\\u062a\\u0648\\u0627\\u0646\\u062f \\u0628\\u0627 \\u06a9\\u0633\\u0628 \\u0645\\u062c\\u0648\\u0632\\u0647\\u0627\\u06cc \\u0645\\u0648\\u0631\\u062f \\u0646\\u06cc\\u0627\\u0632 \\u0627\\u0632 \\u0633\\u0627\\u0632\\u0645\\u0627\\u0646 \\u0628\\u0648\\u0631\\u0633 \\u0627\\u0648\\u0631\\u0627\\u0642 \\u0628\\u0647\\u0627\\u062f\\u0627\\u0631 \\u0641\\u0639\\u0627\\u0644\\u06cc\\u062a\\u200c\\u0647\\u0627\\u06cc \\u0645\\u0639\\u0627\\u0645\\u0644\\u0647\\u200c\\u06af\\u0631\\u06cc \\u0628\\u0627\\u0632\\u0627\\u0631\\u06af\\u0631\\u062f\\u0627\\u0646\\u06cc \\u0647\\u0645\\u0686\\u0646\\u06cc\\u0646 \\u062e\\u062f\\u0645\\u0627\\u062a\\u0646 \\u0645\\u0627\\u0644\\u06cc \\u0645\\u0634\\u0627\\u0648\\u0631\\u0647\\u200c\\u0627\\u06cc \\u0645\\u0628\\u0627\\u062f\\u0631\\u062a \\u0648\\u0631\\u0632\\u062f .\"\n        ],\n        \"semantic_type\": \"\",\n        \"description\": \"\"\n      }\n    },\n    {\n      \"column\": \"z_LSBERT_sim\",\n      \"properties\": {\n        \"dtype\": \"string\",\n        \"num_unique_values\": 491,\n        \"samples\": [\n          \"\\u0622\\u0631\\u0634\\u06cc\\u0648 \\u0627\\u0648\\u0628\\u0631 \\u0628\\u0639\\u062f \\u0627\\u0632 \\u06cc\\u06a9 \\u062a\\u0635\\u0627\\u062f\\u0641 \\u062f\\u0631 \\u0622\\u0631\\u06cc\\u0632\\u0648\\u0646\\u0627 \\u062e\\u0648\\u062f\\u0631\\u0627\\u0646\\u200c\\u0647\\u0627 \\u0631\\u0627 \\u0641\\u0631\\u0627\\u062e\\u0648\\u0627\\u0646\\u062f \\u0639\\u0635\\u0631 \\u062e\\u0648\\u062f\\u0631\\u0648 \\u067e\\u0633 \\u0622\\u0646\\u200c\\u06a9\\u0647 \\u062e\\u0648\\u062f\\u0631\\u0627\\u0646 \\u0627\\u06cc\\u0627\\u0644\\u062a \\u06a9\\u0631\\u062f \\u060c \\u0627\\u06cc\\u0646 \\u0634\\u0631\\u06a9\\u062a \\u062a\\u0627\\u06a9\\u0633\\u06cc\\u0631\\u0627\\u0646\\u06cc \\u062a\\u0631\\u062f\\u062f \\u0645\\u0648\\u0642\\u062a\\u0627 \\u062a\\u0639\\u0644\\u06cc\\u0642 .\",\n          \"\\u062e\\u06cc\\u0644\\u06cc \\u06a9\\u0645 \\u067e\\u06cc\\u0634 \\u0645\\u06cc\\u200c\\u0622\\u06cc\\u062f \\u062f\\u0631 \\u0645\\u0648\\u0631\\u062f \\u0645\\u0633\\u0626\\u0644\\u0647 \\u06cc\\u0627 \\u0628\\u06cc\\u0645\\u0627\\u0631\\u06cc \\u062e\\u0627\\u0635\\u06cc \\u0635\\u062d\\u0628\\u062a \\u06a9\\u0646\\u06cc\\u0645 \\u0648 \\u0627\\u06cc\\u0646 \\u062f\\u0648\\u0633\\u062a\\u0645\\u0627\\u0646 \\u0622\\u0646 \\u0627\\u0637\\u0644\\u0627\\u0639\\u0627\\u062a \\u0646\\u062f\\u0627\\u0634\\u062a\\u0647_\\u0628\\u0627\\u0634\\u062f \\u0631\\u0648\\u0634\\u200c\\u0647\\u0627\\u06cc \\u067e\\u06cc\\u0634\\u06af\\u06cc\\u0631\\u06cc \\u062f\\u0631\\u0645\\u0627\\u0646 \\u0631\\u0627 \\u0646\\u062f\\u0627\\u0646\\u062f .\",\n          \"\\u0634\\u0631\\u06a9\\u062a \\u06a9\\u0627\\u0631\\u06af\\u0632\\u0627\\u0631\\u06cc \\u0628\\u0627\\u0646\\u06a9 \\u062a\\u0648\\u0633\\u0639\\u0647 \\u0635\\u0627\\u062f\\u0631\\u0627\\u062a \\u062f\\u0631 \\u0633\\u0627\\u0644 \\u06f1\\u06f3\\u06f7\\u06f6 \\u0648 \\u0628\\u0647 \\u0634\\u0645\\u0627\\u0631\\u0647 \\u062b\\u0628\\u062a \\u06f1\\u06f3\\u06f2\\u06f3\\u06f9\\u06f9 \\u0627\\u062f\\u0627\\u0631\\u0647 \\u0634\\u0631\\u06a9\\u062a\\u0647\\u0627 \\u0631\\u0633\\u06cc\\u062f\\u0647_\\u0627\\u0633\\u062a \\u0628\\u0631 \\u0627\\u0633\\u0627\\u0633 \\u0627\\u0633\\u0627\\u0633\\u0646\\u0627\\u0645\\u0647 \\u060c \\u0645\\u06cc\\u200c\\u062a\\u0648\\u0627\\u0646\\u062f \\u0628\\u0627 \\u06a9\\u0633\\u0628 \\u0645\\u062c\\u0648\\u0632\\u0647\\u0627\\u06cc \\u0645\\u0648\\u0631\\u062f \\u0646\\u06cc\\u0627\\u0632 \\u0627\\u0632 \\u0633\\u0627\\u0632\\u0645\\u0627\\u0646 \\u0628\\u0648\\u0631\\u0633 \\u0627\\u0648\\u0631\\u0627\\u0642 \\u0628\\u0647\\u0627\\u062f\\u0627\\u0631 \\u0641\\u0639\\u0627\\u0644\\u06cc\\u062a\\u200c\\u0647\\u0627\\u06cc \\u0645\\u0639\\u0627\\u0645\\u0644\\u0647\\u200c\\u06af\\u0631\\u06cc \\u0628\\u0627\\u0632\\u0627\\u0631\\u06af\\u0631\\u062f\\u0627\\u0646\\u06cc \\u0647\\u0645\\u0686\\u0646\\u06cc\\u0646 \\u062e\\u062f\\u0645\\u0627\\u062a\\u0646 \\u0645\\u0627\\u0644\\u06cc \\u0645\\u0634\\u0627\\u0648\\u0631\\u0647\\u200c\\u0627\\u06cc \\u0645\\u0628\\u0627\\u062f\\u0631\\u062a \\u0648\\u0631\\u0632\\u062f .\"\n        ],\n        \"semantic_type\": \"\",\n        \"description\": \"\"\n      }\n    },\n    {\n      \"column\": \"z_LSBERT_bert\",\n      \"properties\": {\n        \"dtype\": \"string\",\n        \"num_unique_values\": 491,\n        \"samples\": [\n          \"\\u0622\\u0631\\u0634\\u06cc\\u0648 \\u0627\\u0648\\u0628\\u0631 \\u0628\\u0639\\u062f \\u0627\\u0632 \\u06cc\\u06a9 \\u062a\\u0635\\u0627\\u062f\\u0641 \\u062f\\u0631 \\u0622\\u0631\\u06cc\\u0632\\u0648\\u0646\\u0627 \\u062e\\u0648\\u062f\\u0631\\u0627\\u0646\\u200c\\u0647\\u0627 \\u0631\\u0627 \\u0641\\u0631\\u0627\\u062e\\u0648\\u0627\\u0646\\u062f \\u0639\\u0635\\u0631 \\u062e\\u0648\\u062f\\u0631\\u0648 \\u067e\\u0633 \\u0622\\u0646\\u200c\\u06a9\\u0647 \\u062e\\u0648\\u062f\\u0631\\u0627\\u0646 \\u0627\\u06cc\\u0627\\u0644\\u062a \\u06a9\\u0631\\u062f \\u060c \\u0627\\u06cc\\u0646 \\u0634\\u0631\\u06a9\\u062a \\u062a\\u0627\\u06a9\\u0633\\u06cc\\u0631\\u0627\\u0646\\u06cc \\u062a\\u0631\\u062f\\u062f \\u0645\\u0648\\u0642\\u062a\\u0627 \\u062a\\u0639\\u0644\\u06cc\\u0642 .\",\n          \"\\u062e\\u06cc\\u0644\\u06cc \\u06a9\\u0645 \\u067e\\u06cc\\u0634 \\u0645\\u06cc\\u200c\\u0622\\u06cc\\u062f \\u062f\\u0631 \\u0645\\u0648\\u0631\\u062f \\u0645\\u0633\\u0626\\u0644\\u0647 \\u06cc\\u0627 \\u0628\\u06cc\\u0645\\u0627\\u0631\\u06cc \\u062e\\u0627\\u0635\\u06cc \\u0635\\u062d\\u0628\\u062a \\u06a9\\u0646\\u06cc\\u0645 \\u0648 \\u0627\\u06cc\\u0646 \\u062f\\u0648\\u0633\\u062a\\u0645\\u0627\\u0646 \\u0622\\u0646 \\u0627\\u0637\\u0644\\u0627\\u0639\\u0627\\u062a \\u0646\\u062f\\u0627\\u0634\\u062a\\u0647_\\u0628\\u0627\\u0634\\u062f \\u0631\\u0648\\u0634\\u200c\\u0647\\u0627\\u06cc \\u067e\\u06cc\\u0634\\u06af\\u06cc\\u0631\\u06cc \\u062f\\u0631\\u0645\\u0627\\u0646 \\u0631\\u0627 \\u0646\\u062f\\u0627\\u0646\\u062f .\",\n          \"\\u0634\\u0631\\u06a9\\u062a \\u06a9\\u0627\\u0631\\u06af\\u0632\\u0627\\u0631\\u06cc \\u0628\\u0627\\u0646\\u06a9 \\u062a\\u0648\\u0633\\u0639\\u0647 \\u0635\\u0627\\u062f\\u0631\\u0627\\u062a \\u062f\\u0631 \\u0633\\u0627\\u0644 \\u06f1\\u06f3\\u06f7\\u06f6 \\u0648 \\u0628\\u0647 \\u0634\\u0645\\u0627\\u0631\\u0647 \\u062b\\u0628\\u062a \\u06f1\\u06f3\\u06f2\\u06f3\\u06f9\\u06f9 \\u0627\\u062f\\u0627\\u0631\\u0647 \\u0634\\u0631\\u06a9\\u062a\\u0647\\u0627 \\u0631\\u0633\\u06cc\\u062f\\u0647_\\u0627\\u0633\\u062a \\u0628\\u0631 \\u0627\\u0633\\u0627\\u0633 \\u0627\\u0633\\u0627\\u0633\\u0646\\u0627\\u0645\\u0647 \\u060c \\u0645\\u06cc\\u200c\\u062a\\u0648\\u0627\\u0646\\u062f \\u0628\\u0627 \\u06a9\\u0633\\u0628 \\u0645\\u062c\\u0648\\u0632\\u0647\\u0627\\u06cc \\u0645\\u0648\\u0631\\u062f \\u0646\\u06cc\\u0627\\u0632 \\u0627\\u0632 \\u0633\\u0627\\u0632\\u0645\\u0627\\u0646 \\u0628\\u0648\\u0631\\u0633 \\u0627\\u0648\\u0631\\u0627\\u0642 \\u0628\\u0647\\u0627\\u062f\\u0627\\u0631 \\u0641\\u0639\\u0627\\u0644\\u06cc\\u062a\\u200c\\u0647\\u0627\\u06cc \\u0645\\u0639\\u0627\\u0645\\u0644\\u0647\\u200c\\u06af\\u0631\\u06cc \\u0628\\u0627\\u0632\\u0627\\u0631\\u06af\\u0631\\u062f\\u0627\\u0646\\u06cc \\u0647\\u0645\\u0686\\u0646\\u06cc\\u0646 \\u062e\\u062f\\u0645\\u0627\\u062a\\u0646 \\u0645\\u0627\\u0644\\u06cc \\u0645\\u0634\\u0627\\u0648\\u0631\\u0647\\u200c\\u0627\\u06cc \\u0645\\u0628\\u0627\\u062f\\u0631\\u062a \\u0648\\u0631\\u0632\\u062f .\"\n        ],\n        \"semantic_type\": \"\",\n        \"description\": \"\"\n      }\n    },\n    {\n      \"column\": \"z_LSBERT_loss\",\n      \"properties\": {\n        \"dtype\": \"string\",\n        \"num_unique_values\": 491,\n        \"samples\": [\n          \"\\u0622\\u0631\\u0634\\u06cc\\u0648 \\u0627\\u0648\\u0628\\u0631 \\u0628\\u0639\\u062f \\u0627\\u0632 \\u06cc\\u06a9 \\u062a\\u0635\\u0627\\u062f\\u0641 \\u062f\\u0631 \\u0622\\u0631\\u06cc\\u0632\\u0648\\u0646\\u0627 \\u062e\\u0648\\u062f\\u0631\\u0627\\u0646\\u200c\\u0647\\u0627 \\u0631\\u0627 \\u0641\\u0631\\u0627\\u062e\\u0648\\u0627\\u0646\\u062f \\u0639\\u0635\\u0631 \\u062e\\u0648\\u062f\\u0631\\u0648 \\u067e\\u0633 \\u0622\\u0646\\u200c\\u06a9\\u0647 \\u062e\\u0648\\u062f\\u0631\\u0627\\u0646 \\u0627\\u06cc\\u0627\\u0644\\u062a \\u06a9\\u0631\\u062f \\u060c \\u0627\\u06cc\\u0646 \\u0634\\u0631\\u06a9\\u062a \\u062a\\u0627\\u06a9\\u0633\\u06cc\\u0631\\u0627\\u0646\\u06cc \\u062a\\u0631\\u062f\\u062f \\u0645\\u0648\\u0642\\u062a\\u0627 \\u062a\\u0639\\u0644\\u06cc\\u0642 .\",\n          \"\\u062e\\u06cc\\u0644\\u06cc \\u06a9\\u0645 \\u067e\\u06cc\\u0634 \\u0645\\u06cc\\u200c\\u0622\\u06cc\\u062f \\u062f\\u0631 \\u0645\\u0648\\u0631\\u062f \\u0645\\u0633\\u0626\\u0644\\u0647 \\u06cc\\u0627 \\u0628\\u06cc\\u0645\\u0627\\u0631\\u06cc \\u062e\\u0627\\u0635\\u06cc \\u0635\\u062d\\u0628\\u062a \\u06a9\\u0646\\u06cc\\u0645 \\u0648 \\u0627\\u06cc\\u0646 \\u062f\\u0648\\u0633\\u062a\\u0645\\u0627\\u0646 \\u0622\\u0646 \\u0627\\u0637\\u0644\\u0627\\u0639\\u0627\\u062a \\u0646\\u062f\\u0627\\u0634\\u062a\\u0647_\\u0628\\u0627\\u0634\\u062f \\u0631\\u0648\\u0634\\u200c\\u0647\\u0627\\u06cc \\u067e\\u06cc\\u0634\\u06af\\u06cc\\u0631\\u06cc \\u062f\\u0631\\u0645\\u0627\\u0646 \\u0631\\u0627 \\u0646\\u062f\\u0627\\u0646\\u062f .\",\n          \"\\u0634\\u0631\\u06a9\\u062a \\u06a9\\u0627\\u0631\\u06af\\u0632\\u0627\\u0631\\u06cc \\u0628\\u0627\\u0646\\u06a9 \\u062a\\u0648\\u0633\\u0639\\u0647 \\u0635\\u0627\\u062f\\u0631\\u0627\\u062a \\u062f\\u0631 \\u0633\\u0627\\u0644 \\u06f1\\u06f3\\u06f7\\u06f6 \\u0648 \\u0628\\u0647 \\u0634\\u0645\\u0627\\u0631\\u0647 \\u062b\\u0628\\u062a \\u06f1\\u06f3\\u06f2\\u06f3\\u06f9\\u06f9 \\u0627\\u062f\\u0627\\u0631\\u0647 \\u0634\\u0631\\u06a9\\u062a\\u0647\\u0627 \\u0631\\u0633\\u06cc\\u062f\\u0647_\\u0627\\u0633\\u062a \\u0628\\u0631 \\u0627\\u0633\\u0627\\u0633 \\u0627\\u0633\\u0627\\u0633\\u0646\\u0627\\u0645\\u0647 \\u060c \\u0645\\u06cc\\u200c\\u062a\\u0648\\u0627\\u0646\\u062f \\u0628\\u0627 \\u06a9\\u0633\\u0628 \\u0645\\u062c\\u0648\\u0632\\u0647\\u0627\\u06cc \\u0645\\u0648\\u0631\\u062f \\u0646\\u06cc\\u0627\\u0632 \\u0627\\u0632 \\u0633\\u0627\\u0632\\u0645\\u0627\\u0646 \\u0628\\u0648\\u0631\\u0633 \\u0627\\u0648\\u0631\\u0627\\u0642 \\u0628\\u0647\\u0627\\u062f\\u0627\\u0631 \\u0641\\u0639\\u0627\\u0644\\u06cc\\u062a\\u200c\\u0647\\u0627\\u06cc \\u0645\\u0639\\u0627\\u0645\\u0644\\u0647\\u200c\\u06af\\u0631\\u06cc \\u0628\\u0627\\u0632\\u0627\\u0631\\u06af\\u0631\\u062f\\u0627\\u0646\\u06cc \\u0647\\u0645\\u0686\\u0646\\u06cc\\u0646 \\u062e\\u062f\\u0645\\u0627\\u062a\\u0646 \\u0645\\u0627\\u0644\\u06cc \\u0645\\u0634\\u0627\\u0648\\u0631\\u0647\\u200c\\u0627\\u06cc \\u0645\\u0628\\u0627\\u062f\\u0631\\u062a \\u0648\\u0631\\u0632\\u062f .\"\n        ],\n        \"semantic_type\": \"\",\n        \"description\": \"\"\n      }\n    }\n  ]\n}",
              "type": "dataframe",
              "variable_name": "eval_df"
            },
            "text/html": [
              "\n",
              "  <div id=\"df-c74164a8-8aa4-406f-b42a-20b748ae99af\" class=\"colab-df-container\">\n",
              "    <div>\n",
              "<style scoped>\n",
              "    .dataframe tbody tr th:only-of-type {\n",
              "        vertical-align: middle;\n",
              "    }\n",
              "\n",
              "    .dataframe tbody tr th {\n",
              "        vertical-align: top;\n",
              "    }\n",
              "\n",
              "    .dataframe thead th {\n",
              "        text-align: right;\n",
              "    }\n",
              "</style>\n",
              "<table border=\"1\" class=\"dataframe\">\n",
              "  <thead>\n",
              "    <tr style=\"text-align: right;\">\n",
              "      <th></th>\n",
              "      <th>target</th>\n",
              "      <th>original_sentence</th>\n",
              "      <th>ref_1</th>\n",
              "      <th>ref_2</th>\n",
              "      <th>LSBERT_simpl</th>\n",
              "      <th>ziph_simpl</th>\n",
              "      <th>similarity_simpl</th>\n",
              "      <th>BERT_simpl</th>\n",
              "      <th>loss_simpl</th>\n",
              "      <th>z_LSBERT_all</th>\n",
              "      <th>z_LSBERT_zipf</th>\n",
              "      <th>z_LSBERT_sim</th>\n",
              "      <th>z_LSBERT_bert</th>\n",
              "      <th>z_LSBERT_loss</th>\n",
              "    </tr>\n",
              "  </thead>\n",
              "  <tbody>\n",
              "    <tr>\n",
              "      <th>0</th>\n",
              "      <td>ضدکشتی</td>\n",
              "      <td>مدل‌ها نسخه‌های مخصوص ارتش روسیه:  ۳ ام ۵۴: نس...</td>\n",
              "      <td>مدل‌ها نمونه‌های مخصوص ارتش روسیه:  ۳ ام ۵۴: ن...</td>\n",
              "      <td>مدل‌ها نسخه‌های مخصوص ارتش روسیه:  ۳ ام ۵۴: نس...</td>\n",
              "      <td>مدل‌ها نسخه‌های مخصوص ارتش روسیه : ۳ ام ۵۴: نس...</td>\n",
              "      <td>مدل‌ها نسخه‌های مخصوص ارتش روسیه : ۳ ام ۵۴: سر...</td>\n",
              "      <td>مدل‌ها نسخه‌های مخصوص ارتش روسیه : ۳ ام ۵۴: نس...</td>\n",
              "      <td>مدل‌ها نسخه‌های مخصوص ارتش روسیه : ۳ ام ۵۴: نس...</td>\n",
              "      <td>مدل‌ها نسخه‌های مخصوص ارتش روسیه : ۳ ام ۵۴: نس...</td>\n",
              "      <td>مدل‌ها نسخه‌های مخصوص ارتش روسیه : ۳ ام ۵۴: نس...</td>\n",
              "      <td>مدل‌ها نسخه‌های مخصوص ارتش روسیه : ۳ ام ۵۴: نس...</td>\n",
              "      <td>مدل‌ها نسخه‌های مخصوص ارتش روسیه : ۳ ام ۵۴: نس...</td>\n",
              "      <td>مدل‌ها نسخه‌های مخصوص ارتش روسیه : ۳ ام ۵۴: نس...</td>\n",
              "      <td>مدل‌ها نسخه‌های مخصوص ارتش روسیه : ۳ ام ۵۴: نس...</td>\n",
              "    </tr>\n",
              "    <tr>\n",
              "      <th>1</th>\n",
              "      <td>دشتبان</td>\n",
              "      <td>به گزارش صبحانه، متهم ۳۸ ساله این پرونده که در...</td>\n",
              "      <td>به گزارش صبحانه، متهم ۳۸ ساله این پرونده که در...</td>\n",
              "      <td>به گزارش صبحانه، متهم ۳۸ ساله این پرونده که در...</td>\n",
              "      <td>به گزارش صبحانه ، متهم ۳۸ ساله این پرونده که د...</td>\n",
              "      <td>به همراه صبحانه ، مرد ۸ سال این پرونده که در پ...</td>\n",
              "      <td>به خبرگزاری صبحانه ، محکوم ۲۲ ماهه این پرونده ...</td>\n",
              "      <td>به خبرنگار صبحانه ، فعال 38 سال این پرونده که ...</td>\n",
              "      <td>به گزارش صبحانه ، متهم ۳۸ ساله این پرونده که د...</td>\n",
              "      <td>به گزارش صبحانه ، متهم ۳۸ ساله این پرونده که د...</td>\n",
              "      <td>به گزارش صبحانه ، متهم ۳۸ ساله این پرونده که د...</td>\n",
              "      <td>به گزارش صبحانه ، متهم ۳۸ ساله این پرونده که د...</td>\n",
              "      <td>به گزارش صبحانه ، متهم ۳۸ ساله این پرونده که د...</td>\n",
              "      <td>به گزارش صبحانه ، متهم ۳۸ ساله این پرونده که د...</td>\n",
              "    </tr>\n",
              "    <tr>\n",
              "      <th>2</th>\n",
              "      <td>باز‌کردن</td>\n",
              "      <td>اگر مجددا اقدام به باز‌کردن نرم‌افزار اشاره‌شد...</td>\n",
              "      <td>اگر دوباره اقدام به باز‌کردن نرم‌افزار اشاره‌ش...</td>\n",
              "      <td>اگر دوباره اقدام به باز‌کردن برنامه اشاره‌شده ...</td>\n",
              "      <td>اگر مجددا اقدام به باز‌کردن نرم‌افزار اشاره‌شد...</td>\n",
              "      <td>اگر مجددا دست به باز‌کردن نرم‌افزار اشاره بکنی...</td>\n",
              "      <td>اگر مجددا عمل به باز‌کردن نرم‌افزار اشاره بکنی...</td>\n",
              "      <td>اگر مجددا تصمیم به باز‌کردن نرم‌افزار اشاره بک...</td>\n",
              "      <td>اگر مجددا اقدام به باز‌کردن نرم‌افزار اشاره‌شد...</td>\n",
              "      <td>اگر مجددا اقدام به باز‌کردن نرم‌افزار اشاره‌شد...</td>\n",
              "      <td>اگر مجددا اقدام به باز‌کردن نرم‌افزار اشاره‌شد...</td>\n",
              "      <td>اگر مجددا اقدام به باز‌کردن نرم‌افزار اشاره‌شد...</td>\n",
              "      <td>اگر مجددا اقدام به باز‌کردن نرم‌افزار اشاره‌شد...</td>\n",
              "      <td>اگر مجددا اقدام به باز‌کردن نرم‌افزار اشاره‌شد...</td>\n",
              "    </tr>\n",
              "    <tr>\n",
              "      <th>3</th>\n",
              "      <td>استفسار</td>\n",
              "      <td>وقتی محاذی ایستگاه اتومبیل‌های حاج در این بیاب...</td>\n",
              "      <td>وقتی روبه‌رو ایستگاه اتومبیل‌های حاج در این بی...</td>\n",
              "      <td>وقتی روبروی ایستگاه اتومبیل‌های حاج در این بیا...</td>\n",
              "      <td>وقتی محاذی ایستگاه اتومبیل‌های حاج در این بیاب...</td>\n",
              "      <td>وقتی محاذی ایستگاه اتومبیل‌های آقا در این بیاب...</td>\n",
              "      <td>وقتی محاذی ایستگاه اتومبیل‌های آقا در این بیاب...</td>\n",
              "      <td>وقتی محاذی ایستگاه اتومبیل‌های حج در این بیابا...</td>\n",
              "      <td>وقتی محاذی ایستگاه اتومبیل‌های حاج در این بیاب...</td>\n",
              "      <td>وقتی محاذی ایستگاه اتومبیل‌های حاج در این بیاب...</td>\n",
              "      <td>وقتی محاذی ایستگاه اتومبیل‌های حاج در این بیاب...</td>\n",
              "      <td>وقتی محاذی ایستگاه اتومبیل‌های حاج در این بیاب...</td>\n",
              "      <td>وقتی محاذی ایستگاه اتومبیل‌های حاج در این بیاب...</td>\n",
              "      <td>وقتی محاذی ایستگاه اتومبیل‌های حاج در این بیاب...</td>\n",
              "    </tr>\n",
              "    <tr>\n",
              "      <th>4</th>\n",
              "      <td>عمومی‌شان</td>\n",
              "      <td>هابرماس معتقد است، عرصه عمومی زمانی پدید می‌آی...</td>\n",
              "      <td>هابرماس معتقد است، مکان عمومی زمانی به وجود می...</td>\n",
              "      <td>هابرماس معتقد است، عرصه عمومی زمانی بوجود می‌آ...</td>\n",
              "      <td>هابرماس معتقد است ، عرصه عمومی زمانی پدید می‌آ...</td>\n",
              "      <td>هابرماس معتقد است ، بازار عمومی زمانی پدید می‌...</td>\n",
              "      <td>هابرماس معتقد است ، حوزه عمومی زمانی پدید می‌آ...</td>\n",
              "      <td>هابرماس معتقد است ، فضای عمومی زمانی پدید می‌آ...</td>\n",
              "      <td>هابرماس معتقد است ، عرصه عمومی زمانی پدید می‌آ...</td>\n",
              "      <td>هابرماس معتقد است ، عرصه عمومی زمانی پدید می‌آ...</td>\n",
              "      <td>هابرماس معتقد است ، عرصه عمومی زمانی پدید می‌آ...</td>\n",
              "      <td>هابرماس معتقد است ، عرصه عمومی زمانی پدید می‌آ...</td>\n",
              "      <td>هابرماس معتقد است ، عرصه عمومی زمانی پدید می‌آ...</td>\n",
              "      <td>هابرماس معتقد است ، عرصه عمومی زمانی پدید می‌آ...</td>\n",
              "    </tr>\n",
              "    <tr>\n",
              "      <th>...</th>\n",
              "      <td>...</td>\n",
              "      <td>...</td>\n",
              "      <td>...</td>\n",
              "      <td>...</td>\n",
              "      <td>...</td>\n",
              "      <td>...</td>\n",
              "      <td>...</td>\n",
              "      <td>...</td>\n",
              "      <td>...</td>\n",
              "      <td>...</td>\n",
              "      <td>...</td>\n",
              "      <td>...</td>\n",
              "      <td>...</td>\n",
              "      <td>...</td>\n",
              "    </tr>\n",
              "    <tr>\n",
              "      <th>486</th>\n",
              "      <td>سالیانه</td>\n",
              "      <td>براین اساس اگر هفته‌ای ۱۰ درصد ارزش افزوده تول...</td>\n",
              "      <td>براین اساس اگر هفته‌ای ۱۰ درصد ارزش افزوده تول...</td>\n",
              "      <td>براین اساس اگر هفته‌ای ۱۰ درصد ارزش افزوده تول...</td>\n",
              "      <td>براین اساس اگر هفته‌ای ۱۰ درصد ارزش افزوده تول...</td>\n",
              "      <td>براین اساس اگه هفته‌ای ۱۰ درصد ارزش افزوده تول...</td>\n",
              "      <td>براین اساس اگه هفته‌ای ۱۰ درصد ارزش افزوده تول...</td>\n",
              "      <td>براین اساس اگه هفته‌ای ۱۰ درصد ارزش افزوده تول...</td>\n",
              "      <td>براین اساس اگر هفته‌ای ۱۰ درصد ارزش افزوده تول...</td>\n",
              "      <td>براین اساس اگر هفته‌ای ۱۰ درصد ارزش افزوده تول...</td>\n",
              "      <td>براین اساس اگر هفته‌ای ۱۰ درصد ارزش افزوده تول...</td>\n",
              "      <td>براین اساس اگر هفته‌ای ۱۰ درصد ارزش افزوده تول...</td>\n",
              "      <td>براین اساس اگر هفته‌ای ۱۰ درصد ارزش افزوده تول...</td>\n",
              "      <td>براین اساس اگر هفته‌ای ۱۰ درصد ارزش افزوده تول...</td>\n",
              "    </tr>\n",
              "    <tr>\n",
              "      <th>487</th>\n",
              "      <td>برنمی‌دارند</td>\n",
              "      <td>افسران ارتش و پلیس دست از تحریک برنمی‌دارند و ...</td>\n",
              "      <td>افسران ارتش و پلیس دست از تحریک برنمی‌دارند و ...</td>\n",
              "      <td>افسران ارتش و پلیس دست از تشویش برنمی‌دارند و ...</td>\n",
              "      <td>افسران ارتش و پلیس دست از تحریک برنمی‌دارند من...</td>\n",
              "      <td>افسران ارتش و پلیس سر از کار برنمی‌دارند منتظر...</td>\n",
              "      <td>افسران ارتش و پلیس چشم از سرکوب برنمی‌دارند من...</td>\n",
              "      <td>افسران ارتش و پلیس دستی از فعالیت برنمی‌دارند ...</td>\n",
              "      <td>افسران ارتش و پلیس دست از تحریک برنمی‌دارند من...</td>\n",
              "      <td>افسران ارتش و پلیس دست از تحریک برنمی‌دارند من...</td>\n",
              "      <td>افسران ارتش و پلیس دست از تحریک برنمی‌دارند من...</td>\n",
              "      <td>افسران ارتش و پلیس دست از تحریک برنمی‌دارند من...</td>\n",
              "      <td>افسران ارتش و پلیس دست از تحریک برنمی‌دارند من...</td>\n",
              "      <td>افسران ارتش و پلیس دست از تحریک برنمی‌دارند من...</td>\n",
              "    </tr>\n",
              "    <tr>\n",
              "      <th>488</th>\n",
              "      <td>کراس‌اور</td>\n",
              "      <td>ولوو اکس‌سی ۴۰  یک خودروی کراس‌اور لوکس است که...</td>\n",
              "      <td>ولوو اکس‌سی ۴۰  یک خودروی کراس‌اور لوکس است که...</td>\n",
              "      <td>ولوو اکس‌سی ۴۰  یک خودروی کراس‌اور مجلل است که...</td>\n",
              "      <td>ولوو اکس‌سی ۴۰ یک خودروی کراس‌اور لوکس است که ...</td>\n",
              "      <td>ولوو اس ۴۰ یک ماشین کراس‌اور لوکس است که توسط ...</td>\n",
              "      <td>ولوو اکس ۴۰ یک خودروهای کراس‌اور لوکس است که ت...</td>\n",
              "      <td>ولوو اکس ۴۰ یک خودرو کراس‌اور لوکس است که توسط...</td>\n",
              "      <td>ولوو اکس‌سی ۴۰ یک خودروی کراس‌اور لوکس است که ...</td>\n",
              "      <td>ولوو اکس‌سی ۴۰ یک خودروی کراس‌اور لوکس است که ...</td>\n",
              "      <td>ولوو اکس‌سی ۴۰ یک خودروی کراس‌اور لوکس است که ...</td>\n",
              "      <td>ولوو اکس‌سی ۴۰ یک خودروی کراس‌اور لوکس است که ...</td>\n",
              "      <td>ولوو اکس‌سی ۴۰ یک خودروی کراس‌اور لوکس است که ...</td>\n",
              "      <td>ولوو اکس‌سی ۴۰ یک خودروی کراس‌اور لوکس است که ...</td>\n",
              "    </tr>\n",
              "    <tr>\n",
              "      <th>489</th>\n",
              "      <td>قطعه‌ساز</td>\n",
              "      <td>از بذل و بخشش‌های وزیر پیشین تا ظهور قطعه‌ساز ...</td>\n",
              "      <td>از بخشش و بخشش‌های وزیر پیشین تا ظهور قطعه‌ساز...</td>\n",
              "      <td>از کرم و بخشش‌های وزیر قبلی تا ظهور قطعه‌ساز ن...</td>\n",
              "      <td>از بذل و بخشش‌های وزیر پیشین تا ظهور قطعه‌ساز ...</td>\n",
              "      <td>از بذل و بخشش‌های وزیر پیشین تا تولید ماشین ها...</td>\n",
              "      <td>از بذل و بخشش‌های وزیر پیشین تا ورود خودرو نما...</td>\n",
              "      <td>از بذل و بخشش‌های وزیر پیشین تا حضور خودرو نما...</td>\n",
              "      <td>از بذل و بخشش‌های وزیر پیشین تا ظهور قطعه‌ساز ...</td>\n",
              "      <td>از بذل و بخشش‌های وزیر پیشین تا ظهور قطعه‌ساز ...</td>\n",
              "      <td>از بذل و بخشش‌های وزیر پیشین تا ظهور قطعه‌ساز ...</td>\n",
              "      <td>از بذل و بخشش‌های وزیر پیشین تا ظهور قطعه‌ساز ...</td>\n",
              "      <td>از بذل و بخشش‌های وزیر پیشین تا ظهور قطعه‌ساز ...</td>\n",
              "      <td>از بذل و بخشش‌های وزیر پیشین تا ظهور قطعه‌ساز ...</td>\n",
              "    </tr>\n",
              "    <tr>\n",
              "      <th>490</th>\n",
              "      <td>تصورند</td>\n",
              "      <td>اغلب مردم بر این تصورند که همه آب‌های عرضه‌شده...</td>\n",
              "      <td>اغلب مردم بر این تصورند که همه آب‌های عرضه‌شده...</td>\n",
              "      <td>بیشتر مردم بر این تصورند که همه آب‌های عرضه‌شد...</td>\n",
              "      <td>اغلب مردم بر این تصورند که همه آب‌های عرضه‌شده...</td>\n",
              "      <td>اغلب جامعه بر این تصورند که همه آب‌های عرضه‌شد...</td>\n",
              "      <td>اغلب شهروندان بر این تصورند که همه آب‌های عرضه...</td>\n",
              "      <td>اغلب مردمی بر این تصورند که همه آب‌های عرضه‌شد...</td>\n",
              "      <td>اغلب مردم بر این تصورند که همه آب‌های عرضه‌شده...</td>\n",
              "      <td>اغلب مردم بر این تصورند که همه آب‌های عرضه‌شده...</td>\n",
              "      <td>اغلب مردم بر این تصورند که همه آب‌های عرضه‌شده...</td>\n",
              "      <td>اغلب مردم بر این تصورند که همه آب‌های عرضه‌شده...</td>\n",
              "      <td>اغلب مردم بر این تصورند که همه آب‌های عرضه‌شده...</td>\n",
              "      <td>اغلب مردم بر این تصورند که همه آب‌های عرضه‌شده...</td>\n",
              "    </tr>\n",
              "  </tbody>\n",
              "</table>\n",
              "<p>491 rows × 14 columns</p>\n",
              "</div>\n",
              "    <div class=\"colab-df-buttons\">\n",
              "\n",
              "  <div class=\"colab-df-container\">\n",
              "    <button class=\"colab-df-convert\" onclick=\"convertToInteractive('df-c74164a8-8aa4-406f-b42a-20b748ae99af')\"\n",
              "            title=\"Convert this dataframe to an interactive table.\"\n",
              "            style=\"display:none;\">\n",
              "\n",
              "  <svg xmlns=\"http://www.w3.org/2000/svg\" height=\"24px\" viewBox=\"0 -960 960 960\">\n",
              "    <path d=\"M120-120v-720h720v720H120Zm60-500h600v-160H180v160Zm220 220h160v-160H400v160Zm0 220h160v-160H400v160ZM180-400h160v-160H180v160Zm440 0h160v-160H620v160ZM180-180h160v-160H180v160Zm440 0h160v-160H620v160Z\"/>\n",
              "  </svg>\n",
              "    </button>\n",
              "\n",
              "  <style>\n",
              "    .colab-df-container {\n",
              "      display:flex;\n",
              "      gap: 12px;\n",
              "    }\n",
              "\n",
              "    .colab-df-convert {\n",
              "      background-color: #E8F0FE;\n",
              "      border: none;\n",
              "      border-radius: 50%;\n",
              "      cursor: pointer;\n",
              "      display: none;\n",
              "      fill: #1967D2;\n",
              "      height: 32px;\n",
              "      padding: 0 0 0 0;\n",
              "      width: 32px;\n",
              "    }\n",
              "\n",
              "    .colab-df-convert:hover {\n",
              "      background-color: #E2EBFA;\n",
              "      box-shadow: 0px 1px 2px rgba(60, 64, 67, 0.3), 0px 1px 3px 1px rgba(60, 64, 67, 0.15);\n",
              "      fill: #174EA6;\n",
              "    }\n",
              "\n",
              "    .colab-df-buttons div {\n",
              "      margin-bottom: 4px;\n",
              "    }\n",
              "\n",
              "    [theme=dark] .colab-df-convert {\n",
              "      background-color: #3B4455;\n",
              "      fill: #D2E3FC;\n",
              "    }\n",
              "\n",
              "    [theme=dark] .colab-df-convert:hover {\n",
              "      background-color: #434B5C;\n",
              "      box-shadow: 0px 1px 3px 1px rgba(0, 0, 0, 0.15);\n",
              "      filter: drop-shadow(0px 1px 2px rgba(0, 0, 0, 0.3));\n",
              "      fill: #FFFFFF;\n",
              "    }\n",
              "  </style>\n",
              "\n",
              "    <script>\n",
              "      const buttonEl =\n",
              "        document.querySelector('#df-c74164a8-8aa4-406f-b42a-20b748ae99af button.colab-df-convert');\n",
              "      buttonEl.style.display =\n",
              "        google.colab.kernel.accessAllowed ? 'block' : 'none';\n",
              "\n",
              "      async function convertToInteractive(key) {\n",
              "        const element = document.querySelector('#df-c74164a8-8aa4-406f-b42a-20b748ae99af');\n",
              "        const dataTable =\n",
              "          await google.colab.kernel.invokeFunction('convertToInteractive',\n",
              "                                                    [key], {});\n",
              "        if (!dataTable) return;\n",
              "\n",
              "        const docLinkHtml = 'Like what you see? Visit the ' +\n",
              "          '<a target=\"_blank\" href=https://colab.research.google.com/notebooks/data_table.ipynb>data table notebook</a>'\n",
              "          + ' to learn more about interactive tables.';\n",
              "        element.innerHTML = '';\n",
              "        dataTable['output_type'] = 'display_data';\n",
              "        await google.colab.output.renderOutput(dataTable, element);\n",
              "        const docLink = document.createElement('div');\n",
              "        docLink.innerHTML = docLinkHtml;\n",
              "        element.appendChild(docLink);\n",
              "      }\n",
              "    </script>\n",
              "  </div>\n",
              "\n",
              "\n",
              "<div id=\"df-2078d59c-87fa-44d8-955f-ca327c27fc42\">\n",
              "  <button class=\"colab-df-quickchart\" onclick=\"quickchart('df-2078d59c-87fa-44d8-955f-ca327c27fc42')\"\n",
              "            title=\"Suggest charts\"\n",
              "            style=\"display:none;\">\n",
              "\n",
              "<svg xmlns=\"http://www.w3.org/2000/svg\" height=\"24px\"viewBox=\"0 0 24 24\"\n",
              "     width=\"24px\">\n",
              "    <g>\n",
              "        <path d=\"M19 3H5c-1.1 0-2 .9-2 2v14c0 1.1.9 2 2 2h14c1.1 0 2-.9 2-2V5c0-1.1-.9-2-2-2zM9 17H7v-7h2v7zm4 0h-2V7h2v10zm4 0h-2v-4h2v4z\"/>\n",
              "    </g>\n",
              "</svg>\n",
              "  </button>\n",
              "\n",
              "<style>\n",
              "  .colab-df-quickchart {\n",
              "      --bg-color: #E8F0FE;\n",
              "      --fill-color: #1967D2;\n",
              "      --hover-bg-color: #E2EBFA;\n",
              "      --hover-fill-color: #174EA6;\n",
              "      --disabled-fill-color: #AAA;\n",
              "      --disabled-bg-color: #DDD;\n",
              "  }\n",
              "\n",
              "  [theme=dark] .colab-df-quickchart {\n",
              "      --bg-color: #3B4455;\n",
              "      --fill-color: #D2E3FC;\n",
              "      --hover-bg-color: #434B5C;\n",
              "      --hover-fill-color: #FFFFFF;\n",
              "      --disabled-bg-color: #3B4455;\n",
              "      --disabled-fill-color: #666;\n",
              "  }\n",
              "\n",
              "  .colab-df-quickchart {\n",
              "    background-color: var(--bg-color);\n",
              "    border: none;\n",
              "    border-radius: 50%;\n",
              "    cursor: pointer;\n",
              "    display: none;\n",
              "    fill: var(--fill-color);\n",
              "    height: 32px;\n",
              "    padding: 0;\n",
              "    width: 32px;\n",
              "  }\n",
              "\n",
              "  .colab-df-quickchart:hover {\n",
              "    background-color: var(--hover-bg-color);\n",
              "    box-shadow: 0 1px 2px rgba(60, 64, 67, 0.3), 0 1px 3px 1px rgba(60, 64, 67, 0.15);\n",
              "    fill: var(--button-hover-fill-color);\n",
              "  }\n",
              "\n",
              "  .colab-df-quickchart-complete:disabled,\n",
              "  .colab-df-quickchart-complete:disabled:hover {\n",
              "    background-color: var(--disabled-bg-color);\n",
              "    fill: var(--disabled-fill-color);\n",
              "    box-shadow: none;\n",
              "  }\n",
              "\n",
              "  .colab-df-spinner {\n",
              "    border: 2px solid var(--fill-color);\n",
              "    border-color: transparent;\n",
              "    border-bottom-color: var(--fill-color);\n",
              "    animation:\n",
              "      spin 1s steps(1) infinite;\n",
              "  }\n",
              "\n",
              "  @keyframes spin {\n",
              "    0% {\n",
              "      border-color: transparent;\n",
              "      border-bottom-color: var(--fill-color);\n",
              "      border-left-color: var(--fill-color);\n",
              "    }\n",
              "    20% {\n",
              "      border-color: transparent;\n",
              "      border-left-color: var(--fill-color);\n",
              "      border-top-color: var(--fill-color);\n",
              "    }\n",
              "    30% {\n",
              "      border-color: transparent;\n",
              "      border-left-color: var(--fill-color);\n",
              "      border-top-color: var(--fill-color);\n",
              "      border-right-color: var(--fill-color);\n",
              "    }\n",
              "    40% {\n",
              "      border-color: transparent;\n",
              "      border-right-color: var(--fill-color);\n",
              "      border-top-color: var(--fill-color);\n",
              "    }\n",
              "    60% {\n",
              "      border-color: transparent;\n",
              "      border-right-color: var(--fill-color);\n",
              "    }\n",
              "    80% {\n",
              "      border-color: transparent;\n",
              "      border-right-color: var(--fill-color);\n",
              "      border-bottom-color: var(--fill-color);\n",
              "    }\n",
              "    90% {\n",
              "      border-color: transparent;\n",
              "      border-bottom-color: var(--fill-color);\n",
              "    }\n",
              "  }\n",
              "</style>\n",
              "\n",
              "  <script>\n",
              "    async function quickchart(key) {\n",
              "      const quickchartButtonEl =\n",
              "        document.querySelector('#' + key + ' button');\n",
              "      quickchartButtonEl.disabled = true;  // To prevent multiple clicks.\n",
              "      quickchartButtonEl.classList.add('colab-df-spinner');\n",
              "      try {\n",
              "        const charts = await google.colab.kernel.invokeFunction(\n",
              "            'suggestCharts', [key], {});\n",
              "      } catch (error) {\n",
              "        console.error('Error during call to suggestCharts:', error);\n",
              "      }\n",
              "      quickchartButtonEl.classList.remove('colab-df-spinner');\n",
              "      quickchartButtonEl.classList.add('colab-df-quickchart-complete');\n",
              "    }\n",
              "    (() => {\n",
              "      let quickchartButtonEl =\n",
              "        document.querySelector('#df-2078d59c-87fa-44d8-955f-ca327c27fc42 button');\n",
              "      quickchartButtonEl.style.display =\n",
              "        google.colab.kernel.accessAllowed ? 'block' : 'none';\n",
              "    })();\n",
              "  </script>\n",
              "</div>\n",
              "    </div>\n",
              "  </div>\n"
            ],
            "text/plain": [
              "          target                                  original_sentence  \\\n",
              "0         ضدکشتی  مدل‌ها نسخه‌های مخصوص ارتش روسیه:  ۳ ام ۵۴: نس...   \n",
              "1         دشتبان  به گزارش صبحانه، متهم ۳۸ ساله این پرونده که در...   \n",
              "2       باز‌کردن  اگر مجددا اقدام به باز‌کردن نرم‌افزار اشاره‌شد...   \n",
              "3        استفسار  وقتی محاذی ایستگاه اتومبیل‌های حاج در این بیاب...   \n",
              "4      عمومی‌شان  هابرماس معتقد است، عرصه عمومی زمانی پدید می‌آی...   \n",
              "..           ...                                                ...   \n",
              "486      سالیانه  براین اساس اگر هفته‌ای ۱۰ درصد ارزش افزوده تول...   \n",
              "487  برنمی‌دارند  افسران ارتش و پلیس دست از تحریک برنمی‌دارند و ...   \n",
              "488     کراس‌اور  ولوو اکس‌سی ۴۰  یک خودروی کراس‌اور لوکس است که...   \n",
              "489     قطعه‌ساز  از بذل و بخشش‌های وزیر پیشین تا ظهور قطعه‌ساز ...   \n",
              "490       تصورند  اغلب مردم بر این تصورند که همه آب‌های عرضه‌شده...   \n",
              "\n",
              "                                                 ref_1  \\\n",
              "0    مدل‌ها نمونه‌های مخصوص ارتش روسیه:  ۳ ام ۵۴: ن...   \n",
              "1    به گزارش صبحانه، متهم ۳۸ ساله این پرونده که در...   \n",
              "2    اگر دوباره اقدام به باز‌کردن نرم‌افزار اشاره‌ش...   \n",
              "3    وقتی روبه‌رو ایستگاه اتومبیل‌های حاج در این بی...   \n",
              "4    هابرماس معتقد است، مکان عمومی زمانی به وجود می...   \n",
              "..                                                 ...   \n",
              "486  براین اساس اگر هفته‌ای ۱۰ درصد ارزش افزوده تول...   \n",
              "487  افسران ارتش و پلیس دست از تحریک برنمی‌دارند و ...   \n",
              "488  ولوو اکس‌سی ۴۰  یک خودروی کراس‌اور لوکس است که...   \n",
              "489  از بخشش و بخشش‌های وزیر پیشین تا ظهور قطعه‌ساز...   \n",
              "490  اغلب مردم بر این تصورند که همه آب‌های عرضه‌شده...   \n",
              "\n",
              "                                                 ref_2  \\\n",
              "0    مدل‌ها نسخه‌های مخصوص ارتش روسیه:  ۳ ام ۵۴: نس...   \n",
              "1    به گزارش صبحانه، متهم ۳۸ ساله این پرونده که در...   \n",
              "2    اگر دوباره اقدام به باز‌کردن برنامه اشاره‌شده ...   \n",
              "3    وقتی روبروی ایستگاه اتومبیل‌های حاج در این بیا...   \n",
              "4    هابرماس معتقد است، عرصه عمومی زمانی بوجود می‌آ...   \n",
              "..                                                 ...   \n",
              "486  براین اساس اگر هفته‌ای ۱۰ درصد ارزش افزوده تول...   \n",
              "487  افسران ارتش و پلیس دست از تشویش برنمی‌دارند و ...   \n",
              "488  ولوو اکس‌سی ۴۰  یک خودروی کراس‌اور مجلل است که...   \n",
              "489  از کرم و بخشش‌های وزیر قبلی تا ظهور قطعه‌ساز ن...   \n",
              "490  بیشتر مردم بر این تصورند که همه آب‌های عرضه‌شد...   \n",
              "\n",
              "                                          LSBERT_simpl  \\\n",
              "0    مدل‌ها نسخه‌های مخصوص ارتش روسیه : ۳ ام ۵۴: نس...   \n",
              "1    به گزارش صبحانه ، متهم ۳۸ ساله این پرونده که د...   \n",
              "2    اگر مجددا اقدام به باز‌کردن نرم‌افزار اشاره‌شد...   \n",
              "3    وقتی محاذی ایستگاه اتومبیل‌های حاج در این بیاب...   \n",
              "4    هابرماس معتقد است ، عرصه عمومی زمانی پدید می‌آ...   \n",
              "..                                                 ...   \n",
              "486  براین اساس اگر هفته‌ای ۱۰ درصد ارزش افزوده تول...   \n",
              "487  افسران ارتش و پلیس دست از تحریک برنمی‌دارند من...   \n",
              "488  ولوو اکس‌سی ۴۰ یک خودروی کراس‌اور لوکس است که ...   \n",
              "489  از بذل و بخشش‌های وزیر پیشین تا ظهور قطعه‌ساز ...   \n",
              "490  اغلب مردم بر این تصورند که همه آب‌های عرضه‌شده...   \n",
              "\n",
              "                                            ziph_simpl  \\\n",
              "0    مدل‌ها نسخه‌های مخصوص ارتش روسیه : ۳ ام ۵۴: سر...   \n",
              "1    به همراه صبحانه ، مرد ۸ سال این پرونده که در پ...   \n",
              "2    اگر مجددا دست به باز‌کردن نرم‌افزار اشاره بکنی...   \n",
              "3    وقتی محاذی ایستگاه اتومبیل‌های آقا در این بیاب...   \n",
              "4    هابرماس معتقد است ، بازار عمومی زمانی پدید می‌...   \n",
              "..                                                 ...   \n",
              "486  براین اساس اگه هفته‌ای ۱۰ درصد ارزش افزوده تول...   \n",
              "487  افسران ارتش و پلیس سر از کار برنمی‌دارند منتظر...   \n",
              "488  ولوو اس ۴۰ یک ماشین کراس‌اور لوکس است که توسط ...   \n",
              "489  از بذل و بخشش‌های وزیر پیشین تا تولید ماشین ها...   \n",
              "490  اغلب جامعه بر این تصورند که همه آب‌های عرضه‌شد...   \n",
              "\n",
              "                                      similarity_simpl  \\\n",
              "0    مدل‌ها نسخه‌های مخصوص ارتش روسیه : ۳ ام ۵۴: نس...   \n",
              "1    به خبرگزاری صبحانه ، محکوم ۲۲ ماهه این پرونده ...   \n",
              "2    اگر مجددا عمل به باز‌کردن نرم‌افزار اشاره بکنی...   \n",
              "3    وقتی محاذی ایستگاه اتومبیل‌های آقا در این بیاب...   \n",
              "4    هابرماس معتقد است ، حوزه عمومی زمانی پدید می‌آ...   \n",
              "..                                                 ...   \n",
              "486  براین اساس اگه هفته‌ای ۱۰ درصد ارزش افزوده تول...   \n",
              "487  افسران ارتش و پلیس چشم از سرکوب برنمی‌دارند من...   \n",
              "488  ولوو اکس ۴۰ یک خودروهای کراس‌اور لوکس است که ت...   \n",
              "489  از بذل و بخشش‌های وزیر پیشین تا ورود خودرو نما...   \n",
              "490  اغلب شهروندان بر این تصورند که همه آب‌های عرضه...   \n",
              "\n",
              "                                            BERT_simpl  \\\n",
              "0    مدل‌ها نسخه‌های مخصوص ارتش روسیه : ۳ ام ۵۴: نس...   \n",
              "1    به خبرنگار صبحانه ، فعال 38 سال این پرونده که ...   \n",
              "2    اگر مجددا تصمیم به باز‌کردن نرم‌افزار اشاره بک...   \n",
              "3    وقتی محاذی ایستگاه اتومبیل‌های حج در این بیابا...   \n",
              "4    هابرماس معتقد است ، فضای عمومی زمانی پدید می‌آ...   \n",
              "..                                                 ...   \n",
              "486  براین اساس اگه هفته‌ای ۱۰ درصد ارزش افزوده تول...   \n",
              "487  افسران ارتش و پلیس دستی از فعالیت برنمی‌دارند ...   \n",
              "488  ولوو اکس ۴۰ یک خودرو کراس‌اور لوکس است که توسط...   \n",
              "489  از بذل و بخشش‌های وزیر پیشین تا حضور خودرو نما...   \n",
              "490  اغلب مردمی بر این تصورند که همه آب‌های عرضه‌شد...   \n",
              "\n",
              "                                            loss_simpl  \\\n",
              "0    مدل‌ها نسخه‌های مخصوص ارتش روسیه : ۳ ام ۵۴: نس...   \n",
              "1    به گزارش صبحانه ، متهم ۳۸ ساله این پرونده که د...   \n",
              "2    اگر مجددا اقدام به باز‌کردن نرم‌افزار اشاره‌شد...   \n",
              "3    وقتی محاذی ایستگاه اتومبیل‌های حاج در این بیاب...   \n",
              "4    هابرماس معتقد است ، عرصه عمومی زمانی پدید می‌آ...   \n",
              "..                                                 ...   \n",
              "486  براین اساس اگر هفته‌ای ۱۰ درصد ارزش افزوده تول...   \n",
              "487  افسران ارتش و پلیس دست از تحریک برنمی‌دارند من...   \n",
              "488  ولوو اکس‌سی ۴۰ یک خودروی کراس‌اور لوکس است که ...   \n",
              "489  از بذل و بخشش‌های وزیر پیشین تا ظهور قطعه‌ساز ...   \n",
              "490  اغلب مردم بر این تصورند که همه آب‌های عرضه‌شده...   \n",
              "\n",
              "                                          z_LSBERT_all  \\\n",
              "0    مدل‌ها نسخه‌های مخصوص ارتش روسیه : ۳ ام ۵۴: نس...   \n",
              "1    به گزارش صبحانه ، متهم ۳۸ ساله این پرونده که د...   \n",
              "2    اگر مجددا اقدام به باز‌کردن نرم‌افزار اشاره‌شد...   \n",
              "3    وقتی محاذی ایستگاه اتومبیل‌های حاج در این بیاب...   \n",
              "4    هابرماس معتقد است ، عرصه عمومی زمانی پدید می‌آ...   \n",
              "..                                                 ...   \n",
              "486  براین اساس اگر هفته‌ای ۱۰ درصد ارزش افزوده تول...   \n",
              "487  افسران ارتش و پلیس دست از تحریک برنمی‌دارند من...   \n",
              "488  ولوو اکس‌سی ۴۰ یک خودروی کراس‌اور لوکس است که ...   \n",
              "489  از بذل و بخشش‌های وزیر پیشین تا ظهور قطعه‌ساز ...   \n",
              "490  اغلب مردم بر این تصورند که همه آب‌های عرضه‌شده...   \n",
              "\n",
              "                                         z_LSBERT_zipf  \\\n",
              "0    مدل‌ها نسخه‌های مخصوص ارتش روسیه : ۳ ام ۵۴: نس...   \n",
              "1    به گزارش صبحانه ، متهم ۳۸ ساله این پرونده که د...   \n",
              "2    اگر مجددا اقدام به باز‌کردن نرم‌افزار اشاره‌شد...   \n",
              "3    وقتی محاذی ایستگاه اتومبیل‌های حاج در این بیاب...   \n",
              "4    هابرماس معتقد است ، عرصه عمومی زمانی پدید می‌آ...   \n",
              "..                                                 ...   \n",
              "486  براین اساس اگر هفته‌ای ۱۰ درصد ارزش افزوده تول...   \n",
              "487  افسران ارتش و پلیس دست از تحریک برنمی‌دارند من...   \n",
              "488  ولوو اکس‌سی ۴۰ یک خودروی کراس‌اور لوکس است که ...   \n",
              "489  از بذل و بخشش‌های وزیر پیشین تا ظهور قطعه‌ساز ...   \n",
              "490  اغلب مردم بر این تصورند که همه آب‌های عرضه‌شده...   \n",
              "\n",
              "                                          z_LSBERT_sim  \\\n",
              "0    مدل‌ها نسخه‌های مخصوص ارتش روسیه : ۳ ام ۵۴: نس...   \n",
              "1    به گزارش صبحانه ، متهم ۳۸ ساله این پرونده که د...   \n",
              "2    اگر مجددا اقدام به باز‌کردن نرم‌افزار اشاره‌شد...   \n",
              "3    وقتی محاذی ایستگاه اتومبیل‌های حاج در این بیاب...   \n",
              "4    هابرماس معتقد است ، عرصه عمومی زمانی پدید می‌آ...   \n",
              "..                                                 ...   \n",
              "486  براین اساس اگر هفته‌ای ۱۰ درصد ارزش افزوده تول...   \n",
              "487  افسران ارتش و پلیس دست از تحریک برنمی‌دارند من...   \n",
              "488  ولوو اکس‌سی ۴۰ یک خودروی کراس‌اور لوکس است که ...   \n",
              "489  از بذل و بخشش‌های وزیر پیشین تا ظهور قطعه‌ساز ...   \n",
              "490  اغلب مردم بر این تصورند که همه آب‌های عرضه‌شده...   \n",
              "\n",
              "                                         z_LSBERT_bert  \\\n",
              "0    مدل‌ها نسخه‌های مخصوص ارتش روسیه : ۳ ام ۵۴: نس...   \n",
              "1    به گزارش صبحانه ، متهم ۳۸ ساله این پرونده که د...   \n",
              "2    اگر مجددا اقدام به باز‌کردن نرم‌افزار اشاره‌شد...   \n",
              "3    وقتی محاذی ایستگاه اتومبیل‌های حاج در این بیاب...   \n",
              "4    هابرماس معتقد است ، عرصه عمومی زمانی پدید می‌آ...   \n",
              "..                                                 ...   \n",
              "486  براین اساس اگر هفته‌ای ۱۰ درصد ارزش افزوده تول...   \n",
              "487  افسران ارتش و پلیس دست از تحریک برنمی‌دارند من...   \n",
              "488  ولوو اکس‌سی ۴۰ یک خودروی کراس‌اور لوکس است که ...   \n",
              "489  از بذل و بخشش‌های وزیر پیشین تا ظهور قطعه‌ساز ...   \n",
              "490  اغلب مردم بر این تصورند که همه آب‌های عرضه‌شده...   \n",
              "\n",
              "                                         z_LSBERT_loss  \n",
              "0    مدل‌ها نسخه‌های مخصوص ارتش روسیه : ۳ ام ۵۴: نس...  \n",
              "1    به گزارش صبحانه ، متهم ۳۸ ساله این پرونده که د...  \n",
              "2    اگر مجددا اقدام به باز‌کردن نرم‌افزار اشاره‌شد...  \n",
              "3    وقتی محاذی ایستگاه اتومبیل‌های حاج در این بیاب...  \n",
              "4    هابرماس معتقد است ، عرصه عمومی زمانی پدید می‌آ...  \n",
              "..                                                 ...  \n",
              "486  براین اساس اگر هفته‌ای ۱۰ درصد ارزش افزوده تول...  \n",
              "487  افسران ارتش و پلیس دست از تحریک برنمی‌دارند من...  \n",
              "488  ولوو اکس‌سی ۴۰ یک خودروی کراس‌اور لوکس است که ...  \n",
              "489  از بذل و بخشش‌های وزیر پیشین تا ظهور قطعه‌ساز ...  \n",
              "490  اغلب مردم بر این تصورند که همه آب‌های عرضه‌شده...  \n",
              "\n",
              "[491 rows x 14 columns]"
            ]
          },
          "execution_count": 7,
          "metadata": {},
          "output_type": "execute_result"
        }
      ],
      "source": [
        "eval_df = pd.read_csv('/content/drive/MyDrive/simplification_evaluation_resources/simplified_samples_4_Eval_492.csv')\n",
        "eval_df\n"
      ]
    },
    {
      "cell_type": "code",
      "execution_count": null,
      "metadata": {
        "id": "uo5b8GJ4vAUe"
      },
      "outputs": [],
      "source": [
        "# hazm_normalizer = Normalizer()\n",
        "\n",
        "hazm_w_tokenizer = WordTokenizer()"
      ]
    },
    {
      "cell_type": "code",
      "execution_count": null,
      "metadata": {
        "id": "6_dAKUkhtn0g"
      },
      "outputs": [],
      "source": [
        "\n",
        "original_sents = eval_df['original_sentence']\n",
        "ref1 = eval_df['ref_1']\n",
        "ref2 = eval_df['ref_2']\n",
        "\n",
        "LSBERT = eval_df['z_LSBERT_all']\n",
        "ziph = eval_df['z_LSBERT_zipf']\n",
        "bert = eval_df['z_LSBERT_bert']\n",
        "similarity = eval_df['z_LSBERT_sim']\n",
        "loss = eval_df['z_LSBERT_loss']"
      ]
    },
    {
      "cell_type": "markdown",
      "metadata": {
        "id": "FmNYTDt1sZTM"
      },
      "source": [
        "**BLEU**"
      ]
    },
    {
      "cell_type": "code",
      "execution_count": null,
      "metadata": {
        "colab": {
          "base_uri": "https://localhost:8080/",
          "height": 113,
          "referenced_widgets": [
            "901065470ad04aebba6a8d4badb799ce",
            "81bc215f69c2452097f3b8b1dda1568c",
            "3500e460a6f944f2a6feaf26cb96ed97"
          ]
        },
        "id": "PYJjwFmDq8-a",
        "outputId": "4f30881b-0fca-4bc2-c5d7-5262855cf471"
      },
      "outputs": [
        {
          "data": {
            "application/vnd.jupyter.widget-view+json": {
              "model_id": "901065470ad04aebba6a8d4badb799ce",
              "version_major": 2,
              "version_minor": 0
            },
            "text/plain": [
              "Downloading builder script:   0%|          | 0.00/5.94k [00:00<?, ?B/s]"
            ]
          },
          "metadata": {},
          "output_type": "display_data"
        },
        {
          "data": {
            "application/vnd.jupyter.widget-view+json": {
              "model_id": "81bc215f69c2452097f3b8b1dda1568c",
              "version_major": 2,
              "version_minor": 0
            },
            "text/plain": [
              "Downloading extra modules:   0%|          | 0.00/1.55k [00:00<?, ?B/s]"
            ]
          },
          "metadata": {},
          "output_type": "display_data"
        },
        {
          "data": {
            "application/vnd.jupyter.widget-view+json": {
              "model_id": "3500e460a6f944f2a6feaf26cb96ed97",
              "version_major": 2,
              "version_minor": 0
            },
            "text/plain": [
              "Downloading extra modules:   0%|          | 0.00/3.34k [00:00<?, ?B/s]"
            ]
          },
          "metadata": {},
          "output_type": "display_data"
        }
      ],
      "source": [
        "import evaluate\n",
        "bleu = evaluate.load(\"bleu\")"
      ]
    },
    {
      "cell_type": "code",
      "execution_count": null,
      "metadata": {
        "id": "x2fzKDmxtz4f"
      },
      "outputs": [],
      "source": [
        "sources = original_sents.tolist()\n",
        "\n",
        "total_pred = LSBERT.tolist()\n",
        "ziph_pred = ziph.tolist()\n",
        "similarity_prd = similarity.tolist()\n",
        "bert_predi = bert.tolist()\n",
        "loss_pred = loss.tolist()\n",
        "\n",
        "\n",
        "references_1 = [[ref] for ref in ref1.tolist()]\n",
        "references_2 = [[ref] for ref in ref2.tolist()]\n",
        "\n",
        "both_refrences = [[ref_1, ref_2] for ref_1, ref_2 in zip(ref1.tolist(), ref2.tolist())]"
      ]
    },
    {
      "cell_type": "code",
      "execution_count": null,
      "metadata": {
        "id": "q_HHTclx95KB"
      },
      "outputs": [],
      "source": [
        "\n",
        "\n",
        "bleu_only_Ref1 = bleu.compute(predictions=similarity_prd, references=references_1, tokenizer=hazm_w_tokenizer.tokenize)\n",
        "bleu_only_Ref2 = bleu.compute(predictions=similarity_prd, references=references_2, tokenizer=hazm_w_tokenizer.tokenize)\n",
        "bleu_both_refs = bleu.compute(predictions=similarity_prd, references=both_refrences, tokenizer=hazm_w_tokenizer.tokenize)\n"
      ]
    },
    {
      "cell_type": "code",
      "execution_count": null,
      "metadata": {
        "colab": {
          "base_uri": "https://localhost:8080/"
        },
        "id": "bG7Jvvkl-TaY",
        "outputId": "57cb055b-5391-439c-f20b-1b558d778501"
      },
      "outputs": [
        {
          "name": "stdout",
          "output_type": "stream",
          "text": [
            "bleu_only_Ref1:  {'bleu': 0.5813672763634791, 'precisions': [0.9652068126520681, 0.7880117875728886, 0.6528011385690258, 0.5481392396605866], 'brevity_penalty': 0.8049045096356285, 'length_ratio': 0.821671331467413, 'translation_length': 16440, 'reference_length': 20008} \n",
            " bleu_only_Ref2:  {'bleu': 0.5707704391140918, 'precisions': [0.9566301703163017, 0.7749702175684996, 0.6367576659334973, 0.530700875258903], 'brevity_penalty': 0.8067671463649692, 'length_ratio': 0.8232348522784176, 'translation_length': 16440, 'reference_length': 19970} \n",
            " bleu_both_refs:  {'bleu': 0.6092582503630647, 'precisions': [0.9842457420924574, 0.8167283215248605, 0.686764135075689, 0.5841518006280484], 'brevity_penalty': 0.8084865459354519, 'length_ratio': 0.8246802106847254, 'translation_length': 16440, 'reference_length': 19935}\n"
          ]
        }
      ],
      "source": [
        "print('bleu_only_Ref1: ', bleu_only_Ref1, '\\n','bleu_only_Ref2: ' ,bleu_only_Ref2, '\\n', 'bleu_both_refs: ',bleu_both_refs)"
      ]
    },
    {
      "cell_type": "markdown",
      "metadata": {
        "id": "ILsb8yNHsOjP"
      },
      "source": [
        "**sari**"
      ]
    },
    {
      "cell_type": "code",
      "execution_count": null,
      "metadata": {
        "colab": {
          "base_uri": "https://localhost:8080/"
        },
        "id": "kFjjfbJQxnoi",
        "outputId": "fc84ded4-5faf-459c-e420-e06eb969914a"
      },
      "outputs": [
        {
          "name": "stdout",
          "output_type": "stream",
          "text": [
            "Collecting sacremoses\n",
            "  Downloading sacremoses-0.1.1-py3-none-any.whl (897 kB)\n",
            "\u001b[2K     \u001b[90m━━━━━━━━━━━━━━━━━━━━━━━━━━━━━━━━━━━━━━━━\u001b[0m \u001b[32m897.5/897.5 kB\u001b[0m \u001b[31m5.8 MB/s\u001b[0m eta \u001b[36m0:00:00\u001b[0m\n",
            "\u001b[?25hCollecting sacrebleu\n",
            "  Downloading sacrebleu-2.4.1-py3-none-any.whl (106 kB)\n",
            "\u001b[2K     \u001b[90m━━━━━━━━━━━━━━━━━━━━━━━━━━━━━━━━━━━━━━━━\u001b[0m \u001b[32m106.6/106.6 kB\u001b[0m \u001b[31m11.0 MB/s\u001b[0m eta \u001b[36m0:00:00\u001b[0m\n",
            "\u001b[?25hRequirement already satisfied: regex in /usr/local/lib/python3.10/dist-packages (from sacremoses) (2023.12.25)\n",
            "Requirement already satisfied: click in /usr/local/lib/python3.10/dist-packages (from sacremoses) (8.1.7)\n",
            "Requirement already satisfied: joblib in /usr/local/lib/python3.10/dist-packages (from sacremoses) (1.3.2)\n",
            "Requirement already satisfied: tqdm in /usr/local/lib/python3.10/dist-packages (from sacremoses) (4.66.2)\n",
            "Collecting portalocker (from sacrebleu)\n",
            "  Downloading portalocker-2.8.2-py3-none-any.whl (17 kB)\n",
            "Requirement already satisfied: tabulate>=0.8.9 in /usr/local/lib/python3.10/dist-packages (from sacrebleu) (0.9.0)\n",
            "Requirement already satisfied: numpy>=1.17 in /usr/local/lib/python3.10/dist-packages (from sacrebleu) (1.24.3)\n",
            "Collecting colorama (from sacrebleu)\n",
            "  Downloading colorama-0.4.6-py2.py3-none-any.whl (25 kB)\n",
            "Requirement already satisfied: lxml in /usr/local/lib/python3.10/dist-packages (from sacrebleu) (4.9.4)\n",
            "Installing collected packages: sacremoses, portalocker, colorama, sacrebleu\n",
            "Successfully installed colorama-0.4.6 portalocker-2.8.2 sacrebleu-2.4.1 sacremoses-0.1.1\n"
          ]
        }
      ],
      "source": [
        "!pip install sacremoses sacrebleu"
      ]
    },
    {
      "cell_type": "code",
      "execution_count": null,
      "metadata": {
        "colab": {
          "base_uri": "https://localhost:8080/",
          "height": 49,
          "referenced_widgets": [
            "339f1d3f63a04d9ca147d354c3250bcb"
          ]
        },
        "id": "cXcSmLXSsQQw",
        "outputId": "1584ac76-e29a-4157-eec2-ff2e49db30e8"
      },
      "outputs": [
        {
          "data": {
            "application/vnd.jupyter.widget-view+json": {
              "model_id": "339f1d3f63a04d9ca147d354c3250bcb",
              "version_major": 2,
              "version_minor": 0
            },
            "text/plain": [
              "Downloading builder script:   0%|          | 0.00/12.1k [00:00<?, ?B/s]"
            ]
          },
          "metadata": {},
          "output_type": "display_data"
        }
      ],
      "source": [
        "from evaluate import load\n",
        "sari = load(\"sari\")\n"
      ]
    },
    {
      "cell_type": "code",
      "execution_count": null,
      "metadata": {
        "id": "nRoEUw6xzuNM"
      },
      "outputs": [],
      "source": [
        "sari_only_Ref1 = sari.compute(sources=sources, predictions=total_pred, references=references_1)\n",
        "sari_only_Ref2 = sari.compute(sources=sources, predictions=total_pred, references=references_2)\n"
      ]
    },
    {
      "cell_type": "code",
      "execution_count": null,
      "metadata": {
        "id": "KN0VCU-u3Mwu"
      },
      "outputs": [],
      "source": [
        "sari_total = sari.compute(sources=sources, predictions=total_pred, references=both_refrences)\n"
      ]
    },
    {
      "cell_type": "code",
      "execution_count": null,
      "metadata": {
        "colab": {
          "base_uri": "https://localhost:8080/"
        },
        "id": "l-Sz0uY64S3n",
        "outputId": "8323947b-ef6a-45a5-ec78-39e663958275"
      },
      "outputs": [
        {
          "name": "stdout",
          "output_type": "stream",
          "text": [
            "sari_only_Ref1:  {'sari': 35.782177352294845} \n",
            " sari_only_Ref2:  {'sari': 35.48318124698324} \n",
            " sari_total {'sari': 34.93180092486218}\n"
          ]
        }
      ],
      "source": [
        "print('sari_only_Ref1: ', sari_only_Ref1, '\\n', 'sari_only_Ref2: ',sari_only_Ref2, '\\n', 'sari_total', sari_total)"
      ]
    }
  ],
  "metadata": {
    "colab": {
      "provenance": []
    },
    "kernelspec": {
      "display_name": "Python 3",
      "name": "python3"
    },
    "language_info": {
      "name": "python"
    }
  },
  "nbformat": 4,
  "nbformat_minor": 0
}
